{
 "cells": [
  {
   "cell_type": "code",
   "execution_count": 1,
   "metadata": {
    "collapsed": true
   },
   "outputs": [],
   "source": [
    "#Loading library\n",
    "import numpy as np\n",
    "import pandas as pd"
   ]
  },
  {
   "cell_type": "markdown",
   "metadata": {},
   "source": [
    "### Series"
   ]
  },
  {
   "cell_type": "code",
   "execution_count": 3,
   "metadata": {},
   "outputs": [
    {
     "name": "stdout",
     "output_type": "stream",
     "text": [
      "0    10\n",
      "1    20\n",
      "2    30\n",
      "dtype: int64\n",
      "\n",
      "<class 'pandas.core.series.Series'>\n"
     ]
    }
   ],
   "source": [
    "#Pandas has \"series\" and \"data frame\" objects. Data frames are created via series.\n",
    "series_object = pd.Series([10,20,30])\n",
    "print(series_object)\n",
    "print('')\n",
    "print(type(series_object))"
   ]
  },
  {
   "cell_type": "code",
   "execution_count": 8,
   "metadata": {},
   "outputs": [
    {
     "name": "stdout",
     "output_type": "stream",
     "text": [
      "Printing values:  [10 20 30]\n",
      "Printing indexes:  RangeIndex(start=0, stop=3, step=1)\n"
     ]
    }
   ],
   "source": [
    "#Series has value and index\n",
    "print('Printing values: ',series_object.values)\n",
    "print('Printing indexes: ',series_object.index)"
   ]
  },
  {
   "cell_type": "code",
   "execution_count": 17,
   "metadata": {},
   "outputs": [
    {
     "data": {
      "text/plain": [
       "10"
      ]
     },
     "execution_count": 17,
     "metadata": {},
     "output_type": "execute_result"
    }
   ],
   "source": [
    "#Series slicing - 1:\n",
    "series_object.loc[0]"
   ]
  },
  {
   "cell_type": "code",
   "execution_count": 18,
   "metadata": {},
   "outputs": [
    {
     "data": {
      "text/plain": [
       "1    20\n",
       "2    30\n",
       "dtype: int64"
      ]
     },
     "execution_count": 18,
     "metadata": {},
     "output_type": "execute_result"
    }
   ],
   "source": [
    "#Series slicing - 2:\n",
    "series_object.loc[1:]"
   ]
  },
  {
   "cell_type": "code",
   "execution_count": 21,
   "metadata": {},
   "outputs": [
    {
     "name": "stdout",
     "output_type": "stream",
     "text": [
      "30\n"
     ]
    }
   ],
   "source": [
    "#Calling series object with index value. As seen index values does not have to be in order or numeric or string.\n",
    "series_object_with_index = pd.Series([10,20,30],index=[1000,25000,'a'])\n",
    "print(series_object_with_index['a'])"
   ]
  },
  {
   "cell_type": "markdown",
   "metadata": {},
   "source": [
    "### DataFrame"
   ]
  },
  {
   "cell_type": "code",
   "execution_count": 2,
   "metadata": {},
   "outputs": [
    {
     "name": "stdout",
     "output_type": "stream",
     "text": [
      "   C1  C2\n",
      "A   1   6\n",
      "B   2   7\n",
      "C   3   8\n",
      "D   4   9\n",
      "E   5  10\n"
     ]
    }
   ],
   "source": [
    "#Creating data frame via series objects \n",
    "x = pd.Series({'A': 1, 'B': 2, 'C': 3, 'D': 4, 'E': 5})\n",
    "y = pd.Series({'A': 6, 'B': 7, 'C': 8, 'D': 9, 'E': 10})\n",
    "df = pd.DataFrame({'C1':x, 'C2':y})\n",
    "print(df)"
   ]
  },
  {
   "cell_type": "code",
   "execution_count": null,
   "metadata": {
    "collapsed": true
   },
   "outputs": [],
   "source": [
    "#To gather column names of dataframe\n",
    "list(df)"
   ]
  },
  {
   "cell_type": "code",
   "execution_count": null,
   "metadata": {
    "collapsed": true
   },
   "outputs": [],
   "source": [
    "#Row number in dataframe\n",
    "df.count()"
   ]
  },
  {
   "cell_type": "code",
   "execution_count": 69,
   "metadata": {},
   "outputs": [
    {
     "data": {
      "text/plain": [
       "A    1\n",
       "B    2\n",
       "C    3\n",
       "D    4\n",
       "E    5\n",
       "Name: C1, dtype: int64"
      ]
     },
     "execution_count": 69,
     "metadata": {},
     "output_type": "execute_result"
    }
   ],
   "source": [
    "#Data Frame Slicing - 1: Slicing first column of data frame\n",
    "df['C1']"
   ]
  },
  {
   "cell_type": "code",
   "execution_count": 71,
   "metadata": {},
   "outputs": [
    {
     "data": {
      "text/plain": [
       "array([1, 6])"
      ]
     },
     "execution_count": 71,
     "metadata": {},
     "output_type": "execute_result"
    }
   ],
   "source": [
    "#Data Frame Slicing - 2: Slicing first row of data frame\n",
    "df.values[0]"
   ]
  },
  {
   "cell_type": "code",
   "execution_count": 72,
   "metadata": {},
   "outputs": [
    {
     "data": {
      "text/html": [
       "<div>\n",
       "<style>\n",
       "    .dataframe thead tr:only-child th {\n",
       "        text-align: right;\n",
       "    }\n",
       "\n",
       "    .dataframe thead th {\n",
       "        text-align: left;\n",
       "    }\n",
       "\n",
       "    .dataframe tbody tr th {\n",
       "        vertical-align: top;\n",
       "    }\n",
       "</style>\n",
       "<table border=\"1\" class=\"dataframe\">\n",
       "  <thead>\n",
       "    <tr style=\"text-align: right;\">\n",
       "      <th></th>\n",
       "      <th>area</th>\n",
       "      <th>pop</th>\n",
       "    </tr>\n",
       "  </thead>\n",
       "  <tbody>\n",
       "    <tr>\n",
       "      <th>A</th>\n",
       "      <td>1</td>\n",
       "      <td>6</td>\n",
       "    </tr>\n",
       "    <tr>\n",
       "      <th>B</th>\n",
       "      <td>2</td>\n",
       "      <td>7</td>\n",
       "    </tr>\n",
       "    <tr>\n",
       "      <th>C</th>\n",
       "      <td>3</td>\n",
       "      <td>8</td>\n",
       "    </tr>\n",
       "  </tbody>\n",
       "</table>\n",
       "</div>"
      ],
      "text/plain": [
       "   area  pop\n",
       "A     1    6\n",
       "B     2    7\n",
       "C     3    8"
      ]
     },
     "execution_count": 72,
     "metadata": {},
     "output_type": "execute_result"
    }
   ],
   "source": [
    "#Data Frame Slicing - 3: First 3 rows and 2 columns or slicing row index up to 3 and column index up to 2\n",
    "#iloc is used for position indexing\n",
    "data.iloc[:3, :2]"
   ]
  },
  {
   "cell_type": "code",
   "execution_count": 75,
   "metadata": {},
   "outputs": [
    {
     "data": {
      "text/html": [
       "<div>\n",
       "<style>\n",
       "    .dataframe thead tr:only-child th {\n",
       "        text-align: right;\n",
       "    }\n",
       "\n",
       "    .dataframe thead th {\n",
       "        text-align: left;\n",
       "    }\n",
       "\n",
       "    .dataframe tbody tr th {\n",
       "        vertical-align: top;\n",
       "    }\n",
       "</style>\n",
       "<table border=\"1\" class=\"dataframe\">\n",
       "  <thead>\n",
       "    <tr style=\"text-align: right;\">\n",
       "      <th></th>\n",
       "      <th>C1</th>\n",
       "      <th>C2</th>\n",
       "    </tr>\n",
       "  </thead>\n",
       "  <tbody>\n",
       "    <tr>\n",
       "      <th>A</th>\n",
       "      <td>1</td>\n",
       "      <td>6</td>\n",
       "    </tr>\n",
       "    <tr>\n",
       "      <th>B</th>\n",
       "      <td>2</td>\n",
       "      <td>7</td>\n",
       "    </tr>\n",
       "    <tr>\n",
       "      <th>C</th>\n",
       "      <td>3</td>\n",
       "      <td>8</td>\n",
       "    </tr>\n",
       "  </tbody>\n",
       "</table>\n",
       "</div>"
      ],
      "text/plain": [
       "   C1  C2\n",
       "A   1   6\n",
       "B   2   7\n",
       "C   3   8"
      ]
     },
     "execution_count": 75,
     "metadata": {},
     "output_type": "execute_result"
    }
   ],
   "source": [
    "#Data Frame Slicing - 4: Label index including up to C and columns up to C2\n",
    "#loc is used for label indexing\n",
    "df.loc[:'C', :'C2']"
   ]
  },
  {
   "cell_type": "code",
   "execution_count": 76,
   "metadata": {},
   "outputs": [
    {
     "data": {
      "text/plain": [
       "C     8\n",
       "D     9\n",
       "E    10\n",
       "Name: C2, dtype: int64"
      ]
     },
     "execution_count": 76,
     "metadata": {},
     "output_type": "execute_result"
    }
   ],
   "source": [
    "#Data Frame Slicing - 5: Conditional slicing\n",
    "df[df['C1']>2]['C2']"
   ]
  },
  {
   "cell_type": "code",
   "execution_count": 81,
   "metadata": {},
   "outputs": [
    {
     "data": {
      "text/plain": [
       "C     8\n",
       "D     9\n",
       "E    10\n",
       "Name: C2, dtype: int64"
      ]
     },
     "execution_count": 81,
     "metadata": {},
     "output_type": "execute_result"
    }
   ],
   "source": [
    "#Data Frame Slicing - 6: Complex conditional slicing\n",
    "df[((df['C1']>2) & (df['C1']<10)) | ((df['C1'] < 2) & (df['C2'] > 100))]['C2']"
   ]
  },
  {
   "cell_type": "code",
   "execution_count": 85,
   "metadata": {},
   "outputs": [
    {
     "data": {
      "text/html": [
       "<div>\n",
       "<style>\n",
       "    .dataframe thead tr:only-child th {\n",
       "        text-align: right;\n",
       "    }\n",
       "\n",
       "    .dataframe thead th {\n",
       "        text-align: left;\n",
       "    }\n",
       "\n",
       "    .dataframe tbody tr th {\n",
       "        vertical-align: top;\n",
       "    }\n",
       "</style>\n",
       "<table border=\"1\" class=\"dataframe\">\n",
       "  <thead>\n",
       "    <tr style=\"text-align: right;\">\n",
       "      <th></th>\n",
       "      <th>C1</th>\n",
       "      <th>C2</th>\n",
       "    </tr>\n",
       "  </thead>\n",
       "  <tbody>\n",
       "    <tr>\n",
       "      <th>A</th>\n",
       "      <td>1</td>\n",
       "      <td>6</td>\n",
       "    </tr>\n",
       "    <tr>\n",
       "      <th>B</th>\n",
       "      <td>2</td>\n",
       "      <td>7</td>\n",
       "    </tr>\n",
       "    <tr>\n",
       "      <th>C</th>\n",
       "      <td>3</td>\n",
       "      <td>8</td>\n",
       "    </tr>\n",
       "  </tbody>\n",
       "</table>\n",
       "</div>"
      ],
      "text/plain": [
       "   C1  C2\n",
       "A   1   6\n",
       "B   2   7\n",
       "C   3   8"
      ]
     },
     "execution_count": 85,
     "metadata": {},
     "output_type": "execute_result"
    }
   ],
   "source": [
    "#Data Frame Slicing - 7: Label based indexing\n",
    "df['A':'C']"
   ]
  },
  {
   "cell_type": "code",
   "execution_count": 86,
   "metadata": {},
   "outputs": [
    {
     "data": {
      "text/html": [
       "<div>\n",
       "<style>\n",
       "    .dataframe thead tr:only-child th {\n",
       "        text-align: right;\n",
       "    }\n",
       "\n",
       "    .dataframe thead th {\n",
       "        text-align: left;\n",
       "    }\n",
       "\n",
       "    .dataframe tbody tr th {\n",
       "        vertical-align: top;\n",
       "    }\n",
       "</style>\n",
       "<table border=\"1\" class=\"dataframe\">\n",
       "  <thead>\n",
       "    <tr style=\"text-align: right;\">\n",
       "      <th></th>\n",
       "      <th>C1</th>\n",
       "      <th>C2</th>\n",
       "    </tr>\n",
       "  </thead>\n",
       "  <tbody>\n",
       "    <tr>\n",
       "      <th>A</th>\n",
       "      <td>1</td>\n",
       "      <td>6</td>\n",
       "    </tr>\n",
       "    <tr>\n",
       "      <th>B</th>\n",
       "      <td>2</td>\n",
       "      <td>7</td>\n",
       "    </tr>\n",
       "    <tr>\n",
       "      <th>C</th>\n",
       "      <td>3</td>\n",
       "      <td>8</td>\n",
       "    </tr>\n",
       "  </tbody>\n",
       "</table>\n",
       "</div>"
      ],
      "text/plain": [
       "   C1  C2\n",
       "A   1   6\n",
       "B   2   7\n",
       "C   3   8"
      ]
     },
     "execution_count": 86,
     "metadata": {},
     "output_type": "execute_result"
    }
   ],
   "source": [
    "#Data Frame Slicing - 8: Label based indexing\n",
    "df.loc['A':'C']"
   ]
  },
  {
   "cell_type": "code",
   "execution_count": 83,
   "metadata": {},
   "outputs": [
    {
     "data": {
      "text/html": [
       "<div>\n",
       "<style>\n",
       "    .dataframe thead tr:only-child th {\n",
       "        text-align: right;\n",
       "    }\n",
       "\n",
       "    .dataframe thead th {\n",
       "        text-align: left;\n",
       "    }\n",
       "\n",
       "    .dataframe tbody tr th {\n",
       "        vertical-align: top;\n",
       "    }\n",
       "</style>\n",
       "<table border=\"1\" class=\"dataframe\">\n",
       "  <thead>\n",
       "    <tr style=\"text-align: right;\">\n",
       "      <th></th>\n",
       "      <th>C1</th>\n",
       "      <th>C2</th>\n",
       "    </tr>\n",
       "  </thead>\n",
       "  <tbody>\n",
       "    <tr>\n",
       "      <th>A</th>\n",
       "      <td>1</td>\n",
       "      <td>6</td>\n",
       "    </tr>\n",
       "    <tr>\n",
       "      <th>B</th>\n",
       "      <td>2</td>\n",
       "      <td>7</td>\n",
       "    </tr>\n",
       "    <tr>\n",
       "      <th>C</th>\n",
       "      <td>3</td>\n",
       "      <td>8</td>\n",
       "    </tr>\n",
       "  </tbody>\n",
       "</table>\n",
       "</div>"
      ],
      "text/plain": [
       "   C1  C2\n",
       "A   1   6\n",
       "B   2   7\n",
       "C   3   8"
      ]
     },
     "execution_count": 83,
     "metadata": {},
     "output_type": "execute_result"
    }
   ],
   "source": [
    "#Data Frame Slicing - 9: Position based indexing\n",
    "df[0:3]"
   ]
  },
  {
   "cell_type": "code",
   "execution_count": 84,
   "metadata": {},
   "outputs": [
    {
     "data": {
      "text/html": [
       "<div>\n",
       "<style>\n",
       "    .dataframe thead tr:only-child th {\n",
       "        text-align: right;\n",
       "    }\n",
       "\n",
       "    .dataframe thead th {\n",
       "        text-align: left;\n",
       "    }\n",
       "\n",
       "    .dataframe tbody tr th {\n",
       "        vertical-align: top;\n",
       "    }\n",
       "</style>\n",
       "<table border=\"1\" class=\"dataframe\">\n",
       "  <thead>\n",
       "    <tr style=\"text-align: right;\">\n",
       "      <th></th>\n",
       "      <th>C1</th>\n",
       "      <th>C2</th>\n",
       "    </tr>\n",
       "  </thead>\n",
       "  <tbody>\n",
       "    <tr>\n",
       "      <th>A</th>\n",
       "      <td>1</td>\n",
       "      <td>6</td>\n",
       "    </tr>\n",
       "    <tr>\n",
       "      <th>B</th>\n",
       "      <td>2</td>\n",
       "      <td>7</td>\n",
       "    </tr>\n",
       "    <tr>\n",
       "      <th>C</th>\n",
       "      <td>3</td>\n",
       "      <td>8</td>\n",
       "    </tr>\n",
       "  </tbody>\n",
       "</table>\n",
       "</div>"
      ],
      "text/plain": [
       "   C1  C2\n",
       "A   1   6\n",
       "B   2   7\n",
       "C   3   8"
      ]
     },
     "execution_count": 84,
     "metadata": {},
     "output_type": "execute_result"
    }
   ],
   "source": [
    "#Data Frame Slicing - 10: Position based indexing\n",
    "df.iloc[0:3]"
   ]
  },
  {
   "cell_type": "code",
   "execution_count": 92,
   "metadata": {},
   "outputs": [
    {
     "name": "stdout",
     "output_type": "stream",
     "text": [
      "Multiplying data frame\n",
      "   C1  C2\n",
      "A   2  12\n",
      "B   4  14\n",
      "C   6  16\n",
      "D   8  18\n",
      "E  10  20\n",
      "\n",
      "Lets check type of the result\n",
      "\n",
      "Subtracting from data frame\n",
      "   C1  C2\n",
      "A  -1   4\n",
      "B   0   5\n",
      "C   1   6\n",
      "D   2   7\n",
      "E   3   8\n"
     ]
    }
   ],
   "source": [
    "#Operations with Data Frames\n",
    "print('Multiplying data frame')\n",
    "print(np.multiply(df,2))\n",
    "print('\\nLets check type of the result\\n')\n",
    "type(np.multiply(df,2))\n",
    "print('Subtracting from data frame')\n",
    "print(np.subtract(df,2))"
   ]
  },
  {
   "cell_type": "code",
   "execution_count": 12,
   "metadata": {},
   "outputs": [
    {
     "data": {
      "text/html": [
       "<div>\n",
       "<style scoped>\n",
       "    .dataframe tbody tr th:only-of-type {\n",
       "        vertical-align: middle;\n",
       "    }\n",
       "\n",
       "    .dataframe tbody tr th {\n",
       "        vertical-align: top;\n",
       "    }\n",
       "\n",
       "    .dataframe thead th {\n",
       "        text-align: right;\n",
       "    }\n",
       "</style>\n",
       "<table border=\"1\" class=\"dataframe\">\n",
       "  <thead>\n",
       "    <tr style=\"text-align: right;\">\n",
       "      <th></th>\n",
       "      <th>C1</th>\n",
       "      <th>C2</th>\n",
       "    </tr>\n",
       "  </thead>\n",
       "  <tbody>\n",
       "    <tr>\n",
       "      <th>A</th>\n",
       "      <td>1</td>\n",
       "      <td>6</td>\n",
       "    </tr>\n",
       "    <tr>\n",
       "      <th>C</th>\n",
       "      <td>3</td>\n",
       "      <td>8</td>\n",
       "    </tr>\n",
       "    <tr>\n",
       "      <th>D</th>\n",
       "      <td>4</td>\n",
       "      <td>9</td>\n",
       "    </tr>\n",
       "    <tr>\n",
       "      <th>E</th>\n",
       "      <td>5</td>\n",
       "      <td>10</td>\n",
       "    </tr>\n",
       "  </tbody>\n",
       "</table>\n",
       "</div>"
      ],
      "text/plain": [
       "   C1  C2\n",
       "A   1   6\n",
       "C   3   8\n",
       "D   4   9\n",
       "E   5  10"
      ]
     },
     "execution_count": 12,
     "metadata": {},
     "output_type": "execute_result"
    }
   ],
   "source": [
    "#Deleting by an index\n",
    "df.drop('B',axis=0)"
   ]
  },
  {
   "cell_type": "code",
   "execution_count": 13,
   "metadata": {},
   "outputs": [
    {
     "data": {
      "text/html": [
       "<div>\n",
       "<style scoped>\n",
       "    .dataframe tbody tr th:only-of-type {\n",
       "        vertical-align: middle;\n",
       "    }\n",
       "\n",
       "    .dataframe tbody tr th {\n",
       "        vertical-align: top;\n",
       "    }\n",
       "\n",
       "    .dataframe thead th {\n",
       "        text-align: right;\n",
       "    }\n",
       "</style>\n",
       "<table border=\"1\" class=\"dataframe\">\n",
       "  <thead>\n",
       "    <tr style=\"text-align: right;\">\n",
       "      <th></th>\n",
       "      <th>C1</th>\n",
       "      <th>C2</th>\n",
       "    </tr>\n",
       "  </thead>\n",
       "  <tbody>\n",
       "    <tr>\n",
       "      <th>A</th>\n",
       "      <td>1</td>\n",
       "      <td>6</td>\n",
       "    </tr>\n",
       "    <tr>\n",
       "      <th>D</th>\n",
       "      <td>4</td>\n",
       "      <td>9</td>\n",
       "    </tr>\n",
       "    <tr>\n",
       "      <th>E</th>\n",
       "      <td>5</td>\n",
       "      <td>10</td>\n",
       "    </tr>\n",
       "  </tbody>\n",
       "</table>\n",
       "</div>"
      ],
      "text/plain": [
       "   C1  C2\n",
       "A   1   6\n",
       "D   4   9\n",
       "E   5  10"
      ]
     },
     "execution_count": 13,
     "metadata": {},
     "output_type": "execute_result"
    }
   ],
   "source": [
    "#Deleting multiple index\n",
    "df.drop(['B','C'],axis=0)"
   ]
  },
  {
   "cell_type": "code",
   "execution_count": 24,
   "metadata": {},
   "outputs": [
    {
     "data": {
      "text/html": [
       "<div>\n",
       "<style scoped>\n",
       "    .dataframe tbody tr th:only-of-type {\n",
       "        vertical-align: middle;\n",
       "    }\n",
       "\n",
       "    .dataframe tbody tr th {\n",
       "        vertical-align: top;\n",
       "    }\n",
       "\n",
       "    .dataframe thead th {\n",
       "        text-align: right;\n",
       "    }\n",
       "</style>\n",
       "<table border=\"1\" class=\"dataframe\">\n",
       "  <thead>\n",
       "    <tr style=\"text-align: right;\">\n",
       "      <th></th>\n",
       "      <th>C1</th>\n",
       "      <th>C2</th>\n",
       "    </tr>\n",
       "  </thead>\n",
       "  <tbody>\n",
       "    <tr>\n",
       "      <th>A</th>\n",
       "      <td>1</td>\n",
       "      <td>6</td>\n",
       "    </tr>\n",
       "    <tr>\n",
       "      <th>B</th>\n",
       "      <td>2</td>\n",
       "      <td>7</td>\n",
       "    </tr>\n",
       "    <tr>\n",
       "      <th>C</th>\n",
       "      <td>3</td>\n",
       "      <td>8</td>\n",
       "    </tr>\n",
       "    <tr>\n",
       "      <th>D</th>\n",
       "      <td>4</td>\n",
       "      <td>9</td>\n",
       "    </tr>\n",
       "    <tr>\n",
       "      <th>E</th>\n",
       "      <td>5</td>\n",
       "      <td>10</td>\n",
       "    </tr>\n",
       "  </tbody>\n",
       "</table>\n",
       "</div>"
      ],
      "text/plain": [
       "   C1  C2\n",
       "A   1   6\n",
       "B   2   7\n",
       "C   3   8\n",
       "D   4   9\n",
       "E   5  10"
      ]
     },
     "execution_count": 24,
     "metadata": {},
     "output_type": "execute_result"
    }
   ],
   "source": [
    "df[(df['C1'] > 0) | (df['C1'] > 0)]"
   ]
  },
  {
   "cell_type": "code",
   "execution_count": 16,
   "metadata": {},
   "outputs": [
    {
     "data": {
      "text/html": [
       "<div>\n",
       "<style scoped>\n",
       "    .dataframe tbody tr th:only-of-type {\n",
       "        vertical-align: middle;\n",
       "    }\n",
       "\n",
       "    .dataframe tbody tr th {\n",
       "        vertical-align: top;\n",
       "    }\n",
       "\n",
       "    .dataframe thead th {\n",
       "        text-align: right;\n",
       "    }\n",
       "</style>\n",
       "<table border=\"1\" class=\"dataframe\">\n",
       "  <thead>\n",
       "    <tr style=\"text-align: right;\">\n",
       "      <th></th>\n",
       "      <th>C2</th>\n",
       "    </tr>\n",
       "  </thead>\n",
       "  <tbody>\n",
       "    <tr>\n",
       "      <th>A</th>\n",
       "      <td>6</td>\n",
       "    </tr>\n",
       "    <tr>\n",
       "      <th>B</th>\n",
       "      <td>7</td>\n",
       "    </tr>\n",
       "    <tr>\n",
       "      <th>C</th>\n",
       "      <td>8</td>\n",
       "    </tr>\n",
       "    <tr>\n",
       "      <th>D</th>\n",
       "      <td>9</td>\n",
       "    </tr>\n",
       "    <tr>\n",
       "      <th>E</th>\n",
       "      <td>10</td>\n",
       "    </tr>\n",
       "  </tbody>\n",
       "</table>\n",
       "</div>"
      ],
      "text/plain": [
       "   C2\n",
       "A   6\n",
       "B   7\n",
       "C   8\n",
       "D   9\n",
       "E  10"
      ]
     },
     "execution_count": 16,
     "metadata": {},
     "output_type": "execute_result"
    }
   ],
   "source": [
    "#Deleting by a column\n",
    "df.drop('C1',axis=1)"
   ]
  },
  {
   "cell_type": "code",
   "execution_count": 26,
   "metadata": {},
   "outputs": [
    {
     "data": {
      "text/html": [
       "<div>\n",
       "<style scoped>\n",
       "    .dataframe tbody tr th:only-of-type {\n",
       "        vertical-align: middle;\n",
       "    }\n",
       "\n",
       "    .dataframe tbody tr th {\n",
       "        vertical-align: top;\n",
       "    }\n",
       "\n",
       "    .dataframe thead th {\n",
       "        text-align: right;\n",
       "    }\n",
       "</style>\n",
       "<table border=\"1\" class=\"dataframe\">\n",
       "  <thead>\n",
       "    <tr style=\"text-align: right;\">\n",
       "      <th></th>\n",
       "      <th>C1</th>\n",
       "      <th>C2</th>\n",
       "    </tr>\n",
       "  </thead>\n",
       "  <tbody>\n",
       "    <tr>\n",
       "      <th>A</th>\n",
       "      <td>1</td>\n",
       "      <td>6</td>\n",
       "    </tr>\n",
       "    <tr>\n",
       "      <th>B</th>\n",
       "      <td>2</td>\n",
       "      <td>7</td>\n",
       "    </tr>\n",
       "    <tr>\n",
       "      <th>C</th>\n",
       "      <td>3</td>\n",
       "      <td>8</td>\n",
       "    </tr>\n",
       "    <tr>\n",
       "      <th>D</th>\n",
       "      <td>0</td>\n",
       "      <td>0</td>\n",
       "    </tr>\n",
       "    <tr>\n",
       "      <th>E</th>\n",
       "      <td>0</td>\n",
       "      <td>0</td>\n",
       "    </tr>\n",
       "  </tbody>\n",
       "</table>\n",
       "</div>"
      ],
      "text/plain": [
       "   C1  C2\n",
       "A   1   6\n",
       "B   2   7\n",
       "C   3   8\n",
       "D   0   0\n",
       "E   0   0"
      ]
     },
     "execution_count": 26,
     "metadata": {},
     "output_type": "execute_result"
    }
   ],
   "source": [
    "#Replacing values based on conditions\n",
    "df.replace(df[(df['C1'] > 8) | (df['C2'] > 8)],0)"
   ]
  },
  {
   "cell_type": "markdown",
   "metadata": {},
   "source": [
    "### Missing Data in DataFrame"
   ]
  },
  {
   "cell_type": "code",
   "execution_count": 105,
   "metadata": {},
   "outputs": [
    {
     "name": "stdout",
     "output_type": "stream",
     "text": [
      "    C1    C2\n",
      "A  NaN   NaN\n",
      "B  2.0   7.0\n",
      "C  3.0   8.0\n",
      "D  4.0   9.0\n",
      "E  5.0  10.0\n",
      "   C1  C2\n",
      "A   1   6\n",
      "B   2   7\n",
      "C   3   8\n",
      "D   4   9\n",
      "E   5  10\n"
     ]
    }
   ],
   "source": [
    "#Missing Data Dilemma\n",
    "#I am copying data frame in order to not change existing one and updating new one\n",
    "df_missing = df.copy()\n",
    "df_missing.iloc[0] = np.nan\n",
    "print(df_missing)\n",
    "print(df)"
   ]
  },
  {
   "cell_type": "code",
   "execution_count": 113,
   "metadata": {},
   "outputs": [
    {
     "data": {
      "text/html": [
       "<div>\n",
       "<style>\n",
       "    .dataframe thead tr:only-child th {\n",
       "        text-align: right;\n",
       "    }\n",
       "\n",
       "    .dataframe thead th {\n",
       "        text-align: left;\n",
       "    }\n",
       "\n",
       "    .dataframe tbody tr th {\n",
       "        vertical-align: top;\n",
       "    }\n",
       "</style>\n",
       "<table border=\"1\" class=\"dataframe\">\n",
       "  <thead>\n",
       "    <tr style=\"text-align: right;\">\n",
       "      <th></th>\n",
       "      <th>C1</th>\n",
       "      <th>C2</th>\n",
       "    </tr>\n",
       "  </thead>\n",
       "  <tbody>\n",
       "    <tr>\n",
       "      <th>A</th>\n",
       "      <td>True</td>\n",
       "      <td>True</td>\n",
       "    </tr>\n",
       "    <tr>\n",
       "      <th>B</th>\n",
       "      <td>False</td>\n",
       "      <td>False</td>\n",
       "    </tr>\n",
       "    <tr>\n",
       "      <th>C</th>\n",
       "      <td>False</td>\n",
       "      <td>False</td>\n",
       "    </tr>\n",
       "    <tr>\n",
       "      <th>D</th>\n",
       "      <td>False</td>\n",
       "      <td>False</td>\n",
       "    </tr>\n",
       "    <tr>\n",
       "      <th>E</th>\n",
       "      <td>False</td>\n",
       "      <td>False</td>\n",
       "    </tr>\n",
       "  </tbody>\n",
       "</table>\n",
       "</div>"
      ],
      "text/plain": [
       "      C1     C2\n",
       "A   True   True\n",
       "B  False  False\n",
       "C  False  False\n",
       "D  False  False\n",
       "E  False  False"
      ]
     },
     "execution_count": 113,
     "metadata": {},
     "output_type": "execute_result"
    }
   ],
   "source": [
    "#Checking missing data\n",
    "df_missing.isnull()"
   ]
  },
  {
   "cell_type": "code",
   "execution_count": 116,
   "metadata": {},
   "outputs": [
    {
     "name": "stdout",
     "output_type": "stream",
     "text": [
      "Sum of elements:\n",
      " 55\n",
      "Sum of non missing elements:\n",
      " 48.0\n"
     ]
    }
   ],
   "source": [
    "#Sum of elements\n",
    "print('Sum of elements:\\n',np.nansum(df))\n",
    "print('Sum of non missing elements:\\n',np.nansum(df_missing))"
   ]
  },
  {
   "cell_type": "code",
   "execution_count": 130,
   "metadata": {},
   "outputs": [
    {
     "data": {
      "text/html": [
       "<div>\n",
       "<style>\n",
       "    .dataframe thead tr:only-child th {\n",
       "        text-align: right;\n",
       "    }\n",
       "\n",
       "    .dataframe thead th {\n",
       "        text-align: left;\n",
       "    }\n",
       "\n",
       "    .dataframe tbody tr th {\n",
       "        vertical-align: top;\n",
       "    }\n",
       "</style>\n",
       "<table border=\"1\" class=\"dataframe\">\n",
       "  <thead>\n",
       "    <tr style=\"text-align: right;\">\n",
       "      <th></th>\n",
       "      <th>C1</th>\n",
       "      <th>C2</th>\n",
       "    </tr>\n",
       "  </thead>\n",
       "  <tbody>\n",
       "    <tr>\n",
       "      <th>B</th>\n",
       "      <td>2.0</td>\n",
       "      <td>7.0</td>\n",
       "    </tr>\n",
       "    <tr>\n",
       "      <th>C</th>\n",
       "      <td>3.0</td>\n",
       "      <td>8.0</td>\n",
       "    </tr>\n",
       "    <tr>\n",
       "      <th>D</th>\n",
       "      <td>4.0</td>\n",
       "      <td>9.0</td>\n",
       "    </tr>\n",
       "    <tr>\n",
       "      <th>E</th>\n",
       "      <td>5.0</td>\n",
       "      <td>10.0</td>\n",
       "    </tr>\n",
       "  </tbody>\n",
       "</table>\n",
       "</div>"
      ],
      "text/plain": [
       "    C1    C2\n",
       "B  2.0   7.0\n",
       "C  3.0   8.0\n",
       "D  4.0   9.0\n",
       "E  5.0  10.0"
      ]
     },
     "execution_count": 130,
     "metadata": {},
     "output_type": "execute_result"
    }
   ],
   "source": [
    "#Deleting missing rows\n",
    "df_missing.dropna()"
   ]
  },
  {
   "cell_type": "code",
   "execution_count": 132,
   "metadata": {},
   "outputs": [
    {
     "data": {
      "text/html": [
       "<div>\n",
       "<style>\n",
       "    .dataframe thead tr:only-child th {\n",
       "        text-align: right;\n",
       "    }\n",
       "\n",
       "    .dataframe thead th {\n",
       "        text-align: left;\n",
       "    }\n",
       "\n",
       "    .dataframe tbody tr th {\n",
       "        vertical-align: top;\n",
       "    }\n",
       "</style>\n",
       "<table border=\"1\" class=\"dataframe\">\n",
       "  <thead>\n",
       "    <tr style=\"text-align: right;\">\n",
       "      <th></th>\n",
       "      <th>C1</th>\n",
       "      <th>C2</th>\n",
       "    </tr>\n",
       "  </thead>\n",
       "  <tbody>\n",
       "    <tr>\n",
       "      <th>A</th>\n",
       "      <td>99.0</td>\n",
       "      <td>99.0</td>\n",
       "    </tr>\n",
       "    <tr>\n",
       "      <th>B</th>\n",
       "      <td>2.0</td>\n",
       "      <td>7.0</td>\n",
       "    </tr>\n",
       "    <tr>\n",
       "      <th>C</th>\n",
       "      <td>3.0</td>\n",
       "      <td>8.0</td>\n",
       "    </tr>\n",
       "    <tr>\n",
       "      <th>D</th>\n",
       "      <td>4.0</td>\n",
       "      <td>9.0</td>\n",
       "    </tr>\n",
       "    <tr>\n",
       "      <th>E</th>\n",
       "      <td>5.0</td>\n",
       "      <td>10.0</td>\n",
       "    </tr>\n",
       "  </tbody>\n",
       "</table>\n",
       "</div>"
      ],
      "text/plain": [
       "     C1    C2\n",
       "A  99.0  99.0\n",
       "B   2.0   7.0\n",
       "C   3.0   8.0\n",
       "D   4.0   9.0\n",
       "E   5.0  10.0"
      ]
     },
     "execution_count": 132,
     "metadata": {},
     "output_type": "execute_result"
    }
   ],
   "source": [
    "#Filling missing data\n",
    "df_missing.fillna(99)"
   ]
  },
  {
   "cell_type": "markdown",
   "metadata": {},
   "source": [
    "### Concat in DataFrame"
   ]
  },
  {
   "cell_type": "code",
   "execution_count": 134,
   "metadata": {},
   "outputs": [
    {
     "name": "stdout",
     "output_type": "stream",
     "text": [
      "[1 2 3 4 5 6]\n"
     ]
    }
   ],
   "source": [
    "#Creating arrays\n",
    "A = [1,2,3]\n",
    "B = [4,5,6]\n",
    "print(np.concatenate([A,B]))"
   ]
  },
  {
   "cell_type": "code",
   "execution_count": 149,
   "metadata": {},
   "outputs": [
    {
     "name": "stdout",
     "output_type": "stream",
     "text": [
      "Numpy concat:\n",
      "\n",
      "[1 2 3 4 5 6]\n",
      "\n",
      "\n",
      "<class 'numpy.ndarray'>\n",
      "\n",
      "\n",
      "Pandas concat:\n",
      "\n",
      "A    1\n",
      "B    2\n",
      "C    3\n",
      "A    4\n",
      "B    5\n",
      "C    6\n",
      "dtype: int64\n",
      "\n",
      "\n",
      "<class 'pandas.core.series.Series'>\n",
      "\n",
      "\n"
     ]
    }
   ],
   "source": [
    "#Creating series\n",
    "X = pd.Series([1,2,3],index=['A','B','C'])\n",
    "Y = pd.Series([4,5,6],index=['A','B','C'])\n",
    "print('Numpy concat:\\n')\n",
    "print(np.concatenate([X,Y]))\n",
    "print('\\n')\n",
    "print(type(np.concatenate([X,Y])))\n",
    "print('\\n')\n",
    "print('Pandas concat:\\n')\n",
    "print(pd.concat([X,Y]))\n",
    "print('\\n')\n",
    "print(type(pd.concat([X,Y])))\n",
    "print('\\n')"
   ]
  },
  {
   "cell_type": "code",
   "execution_count": 151,
   "metadata": {},
   "outputs": [
    {
     "name": "stdout",
     "output_type": "stream",
     "text": [
      "   C1  C2\n",
      "A   1   4\n",
      "B   2   5\n",
      "C   3   6\n",
      "<class 'pandas.core.frame.DataFrame'>\n"
     ]
    }
   ],
   "source": [
    "#Creating data frame\n",
    "df = pd.DataFrame({'C1':X, 'C2':Y})\n",
    "print(df)\n",
    "print(type(df))"
   ]
  },
  {
   "cell_type": "code",
   "execution_count": 155,
   "metadata": {},
   "outputs": [
    {
     "name": "stdout",
     "output_type": "stream",
     "text": [
      "Same of the old one\n",
      "\n",
      "   C1  C2\n",
      "A   1   4\n",
      "B   2   5\n",
      "C   3   6 \n",
      "\n",
      "Multiplying the old one with 2\n",
      "\n",
      "   C1  C2\n",
      "A   2   8\n",
      "B   4  10\n",
      "C   6  12 \n",
      "\n"
     ]
    }
   ],
   "source": [
    "#Creating new data frames via old one\n",
    "print('Same of the old one\\n')\n",
    "df_1 = df.copy()\n",
    "print(df_1,'\\n')\n",
    "print('Multiplying the old one with 2\\n')\n",
    "df_2 = (df*2).copy()\n",
    "print(df_2,'\\n')"
   ]
  },
  {
   "cell_type": "code",
   "execution_count": 159,
   "metadata": {},
   "outputs": [
    {
     "name": "stdout",
     "output_type": "stream",
     "text": [
      "   C1  C2\n",
      "A   1   4\n",
      "B   2   5\n",
      "C   3   6\n",
      "A   2   8\n",
      "B   4  10\n",
      "C   6  12\n"
     ]
    }
   ],
   "source": [
    "#Appending DataFrames - 1: Same size and label\n",
    "#Here concat is inserting second dataframe to first dataframes. This is default behaviour of pandas concat\n",
    "print(pd.concat([df_1, df_2]))"
   ]
  },
  {
   "cell_type": "code",
   "execution_count": 161,
   "metadata": {},
   "outputs": [
    {
     "name": "stdout",
     "output_type": "stream",
     "text": [
      "   C1  C2  C1  C2\n",
      "A   1   4   2   8\n",
      "B   2   5   4  10\n",
      "C   3   6   6  12\n"
     ]
    }
   ],
   "source": [
    "#Appending DataFrames - 2: Same size and label\n",
    "#We can change inserting behaviour. Default axis=0 which is row. We changed it to axis=2\n",
    "print(pd.concat([df_1, df_2],axis=1))"
   ]
  },
  {
   "cell_type": "code",
   "execution_count": 166,
   "metadata": {},
   "outputs": [
    {
     "name": "stdout",
     "output_type": "stream",
     "text": [
      "Original concat\n",
      "\n",
      "   C1  C2\n",
      "A   1   4\n",
      "B   2   5\n",
      "C   3   6\n",
      "A   2   8\n",
      "B   4  10\n",
      "C   6  12\n",
      "\n",
      "Concat with ignoring index\n",
      "   C1  C2\n",
      "0   1   4\n",
      "1   2   5\n",
      "2   3   6\n",
      "3   2   8\n",
      "4   4  10\n",
      "5   6  12\n",
      "\n"
     ]
    }
   ],
   "source": [
    "#Appending DataFrames - 3: Indexing problem\n",
    "#For row concat there becomes a repeating index problem\n",
    "print('Original concat\\n')\n",
    "print(pd.concat([df_1, df_2]))\n",
    "print('')\n",
    "#In order to solve this problem we must ignore original indexes\n",
    "print('Concat with ignoring index')\n",
    "print(pd.concat([df_1, df_2], ignore_index=True))\n",
    "print('')"
   ]
  },
  {
   "cell_type": "markdown",
   "metadata": {},
   "source": [
    "### Join and Merge in DataFrame"
   ]
  },
  {
   "cell_type": "code",
   "execution_count": 182,
   "metadata": {},
   "outputs": [
    {
     "name": "stdout",
     "output_type": "stream",
     "text": [
      "New df_2:    C3  C4\n",
      "A   2   8\n",
      "B   4  10\n",
      "C   6  12\n",
      "\n",
      "Original concat produces NaN values because of different columns\n",
      "\n",
      "    C1   C2   C3    C4\n",
      "A  1.0  4.0  NaN   NaN\n",
      "B  2.0  5.0  NaN   NaN\n",
      "C  3.0  6.0  NaN   NaN\n",
      "A  NaN  NaN  2.0   8.0\n",
      "B  NaN  NaN  4.0  10.0\n",
      "C  NaN  NaN  6.0  12.0\n",
      "\n",
      "Using default join:\n",
      "\n",
      "    C1   C2   C3    C4\n",
      "A  1.0  4.0  NaN   NaN\n",
      "B  2.0  5.0  NaN   NaN\n",
      "C  3.0  6.0  NaN   NaN\n",
      "A  NaN  NaN  2.0   8.0\n",
      "B  NaN  NaN  4.0  10.0\n",
      "C  NaN  NaN  6.0  12.0\n",
      "\n",
      "Default join is outer as seen above\n"
     ]
    }
   ],
   "source": [
    "#Join and Merge in DataFrame - 1:\n",
    "#Changing column names for join\n",
    "df_2.columns = ['C3','C4']\n",
    "print('New df_2:',df_2)\n",
    "print('')\n",
    "print('Original concat produces NaN values because of different columns\\n')\n",
    "print(pd.concat([df_1, df_2]))\n",
    "print('')\n",
    "print('Using default join:')\n",
    "print('')\n",
    "print(pd.concat([df_1, df_2],join='outer'))\n",
    "print('')\n",
    "print('Default join is outer as seen above')"
   ]
  },
  {
   "cell_type": "code",
   "execution_count": 191,
   "metadata": {
    "collapsed": true
   },
   "outputs": [],
   "source": [
    "#Join and Merge in DataFrame - 2:\n",
    "#Creating efficient data set for join\n",
    "df_personel_group = pd.DataFrame({'personel': ['A', 'B', 'C', 'D'],\n",
    "                                  'department': ['X', 'Y', 'Y', 'Z']})\n",
    "df_personel_age = pd.DataFrame({'personel': ['A', 'B', 'C', 'D'],'age': [40, 20, 30, 60]})"
   ]
  },
  {
   "cell_type": "code",
   "execution_count": 187,
   "metadata": {},
   "outputs": [
    {
     "name": "stdout",
     "output_type": "stream",
     "text": [
      "  department personel\n",
      "0          X        A\n",
      "1          Y        B\n",
      "2          Y        C\n",
      "3          Z        D\n",
      "   age personel\n",
      "0   40        A\n",
      "1   20        B\n",
      "2   30        C\n",
      "3   60        D\n"
     ]
    }
   ],
   "source": [
    "#Displaying DataFrames\n",
    "print(df_personel_group)\n",
    "print(df_personel_age)"
   ]
  },
  {
   "cell_type": "code",
   "execution_count": 188,
   "metadata": {},
   "outputs": [
    {
     "data": {
      "text/html": [
       "<div>\n",
       "<style>\n",
       "    .dataframe thead tr:only-child th {\n",
       "        text-align: right;\n",
       "    }\n",
       "\n",
       "    .dataframe thead th {\n",
       "        text-align: left;\n",
       "    }\n",
       "\n",
       "    .dataframe tbody tr th {\n",
       "        vertical-align: top;\n",
       "    }\n",
       "</style>\n",
       "<table border=\"1\" class=\"dataframe\">\n",
       "  <thead>\n",
       "    <tr style=\"text-align: right;\">\n",
       "      <th></th>\n",
       "      <th>department</th>\n",
       "      <th>personel</th>\n",
       "      <th>age</th>\n",
       "    </tr>\n",
       "  </thead>\n",
       "  <tbody>\n",
       "    <tr>\n",
       "      <th>0</th>\n",
       "      <td>X</td>\n",
       "      <td>A</td>\n",
       "      <td>40</td>\n",
       "    </tr>\n",
       "    <tr>\n",
       "      <th>1</th>\n",
       "      <td>Y</td>\n",
       "      <td>B</td>\n",
       "      <td>20</td>\n",
       "    </tr>\n",
       "    <tr>\n",
       "      <th>2</th>\n",
       "      <td>Y</td>\n",
       "      <td>C</td>\n",
       "      <td>30</td>\n",
       "    </tr>\n",
       "    <tr>\n",
       "      <th>3</th>\n",
       "      <td>Z</td>\n",
       "      <td>D</td>\n",
       "      <td>60</td>\n",
       "    </tr>\n",
       "  </tbody>\n",
       "</table>\n",
       "</div>"
      ],
      "text/plain": [
       "  department personel  age\n",
       "0          X        A   40\n",
       "1          Y        B   20\n",
       "2          Y        C   30\n",
       "3          Z        D   60"
      ]
     },
     "execution_count": 188,
     "metadata": {},
     "output_type": "execute_result"
    }
   ],
   "source": [
    "#Merging DataFrames using inner join on key column(One-toone)\n",
    "pd.merge(df_personel_group,df_personel_age,how='inner',on='personel')"
   ]
  },
  {
   "cell_type": "code",
   "execution_count": 205,
   "metadata": {
    "collapsed": true,
    "scrolled": true
   },
   "outputs": [],
   "source": [
    "#Join and Merge in DataFrame - 3:\n",
    "#Adding rows to df_personel_age\n",
    "df_new_personel = pd.DataFrame({'personel':['E','F','G'],'age':[40,25,30]})\n",
    "df_personel_age = pd.concat([df_personel_age, df_new_personel], ignore_index=True)"
   ]
  },
  {
   "cell_type": "code",
   "execution_count": 212,
   "metadata": {},
   "outputs": [
    {
     "name": "stdout",
     "output_type": "stream",
     "text": [
      "  department personel  age\n",
      "0          X        A   40\n",
      "1          Y        B   20\n",
      "2          Y        C   30\n",
      "3          Z        D   60\n",
      "   age personel department\n",
      "0   40        A          X\n",
      "1   20        B          Y\n",
      "2   30        C          Y\n",
      "3   60        D          Z\n",
      "   age personel department\n",
      "0   40        A          X\n",
      "1   20        B          Y\n",
      "2   30        C          Y\n",
      "3   60        D          Z\n",
      "4   40        E        NaN\n",
      "5   25        F        NaN\n",
      "6   30        G        NaN\n",
      "   age personel department\n",
      "0   40        A          X\n",
      "1   20        B          Y\n",
      "2   30        C          Y\n",
      "3   60        D          Z\n",
      "4   40        E        NaN\n",
      "5   25        F        NaN\n",
      "6   30        G        NaN\n"
     ]
    }
   ],
   "source": [
    "#One to Many Joins\n",
    "print(pd.merge(df_personel_group,df_personel_age,how='inner',on='personel'))\n",
    "print(pd.merge(df_personel_age,df_personel_group,how='inner',on='personel'))\n",
    "print(pd.merge(df_personel_age,df_personel_group,how='outer',on='personel'))\n",
    "print(pd.merge(df_personel_age,df_personel_group,how='outer',left_on='personel',right_on='personel'))"
   ]
  },
  {
   "cell_type": "markdown",
   "metadata": {},
   "source": [
    "### Aggregation and Grouping"
   ]
  },
  {
   "cell_type": "code",
   "execution_count": 3,
   "metadata": {
    "collapsed": true
   },
   "outputs": [],
   "source": [
    "#Gathering Data\n",
    "credit = pd.read_csv(r\"E:/Github/Python/Data-Sets/Risk.txt\",sep=\",\",index_col=False)"
   ]
  },
  {
   "cell_type": "code",
   "execution_count": 4,
   "metadata": {},
   "outputs": [
    {
     "data": {
      "text/html": [
       "<div>\n",
       "<style scoped>\n",
       "    .dataframe tbody tr th:only-of-type {\n",
       "        vertical-align: middle;\n",
       "    }\n",
       "\n",
       "    .dataframe tbody tr th {\n",
       "        vertical-align: top;\n",
       "    }\n",
       "\n",
       "    .dataframe thead th {\n",
       "        text-align: right;\n",
       "    }\n",
       "</style>\n",
       "<table border=\"1\" class=\"dataframe\">\n",
       "  <thead>\n",
       "    <tr style=\"text-align: right;\">\n",
       "      <th></th>\n",
       "      <th>ID</th>\n",
       "      <th>AGE</th>\n",
       "      <th>INCOME</th>\n",
       "      <th>GENDER</th>\n",
       "      <th>MARITAL</th>\n",
       "      <th>NUMKIDS</th>\n",
       "      <th>NUMCARDS</th>\n",
       "      <th>HOWPAID</th>\n",
       "      <th>MORTGAGE</th>\n",
       "      <th>STORECAR</th>\n",
       "      <th>LOANS</th>\n",
       "      <th>RISK</th>\n",
       "    </tr>\n",
       "  </thead>\n",
       "  <tbody>\n",
       "    <tr>\n",
       "      <th>0</th>\n",
       "      <td>100756</td>\n",
       "      <td>44</td>\n",
       "      <td>59944</td>\n",
       "      <td>m</td>\n",
       "      <td>married</td>\n",
       "      <td>1</td>\n",
       "      <td>2</td>\n",
       "      <td>monthly</td>\n",
       "      <td>y</td>\n",
       "      <td>2</td>\n",
       "      <td>0</td>\n",
       "      <td>good risk</td>\n",
       "    </tr>\n",
       "    <tr>\n",
       "      <th>1</th>\n",
       "      <td>100668</td>\n",
       "      <td>35</td>\n",
       "      <td>59692</td>\n",
       "      <td>m</td>\n",
       "      <td>married</td>\n",
       "      <td>1</td>\n",
       "      <td>1</td>\n",
       "      <td>monthly</td>\n",
       "      <td>y</td>\n",
       "      <td>1</td>\n",
       "      <td>0</td>\n",
       "      <td>bad loss</td>\n",
       "    </tr>\n",
       "    <tr>\n",
       "      <th>2</th>\n",
       "      <td>100418</td>\n",
       "      <td>34</td>\n",
       "      <td>59508</td>\n",
       "      <td>m</td>\n",
       "      <td>married</td>\n",
       "      <td>1</td>\n",
       "      <td>1</td>\n",
       "      <td>monthly</td>\n",
       "      <td>y</td>\n",
       "      <td>2</td>\n",
       "      <td>1</td>\n",
       "      <td>good risk</td>\n",
       "    </tr>\n",
       "    <tr>\n",
       "      <th>3</th>\n",
       "      <td>100416</td>\n",
       "      <td>34</td>\n",
       "      <td>59463</td>\n",
       "      <td>m</td>\n",
       "      <td>married</td>\n",
       "      <td>0</td>\n",
       "      <td>2</td>\n",
       "      <td>monthly</td>\n",
       "      <td>y</td>\n",
       "      <td>1</td>\n",
       "      <td>1</td>\n",
       "      <td>bad loss</td>\n",
       "    </tr>\n",
       "    <tr>\n",
       "      <th>4</th>\n",
       "      <td>100590</td>\n",
       "      <td>39</td>\n",
       "      <td>59393</td>\n",
       "      <td>f</td>\n",
       "      <td>married</td>\n",
       "      <td>0</td>\n",
       "      <td>2</td>\n",
       "      <td>monthly</td>\n",
       "      <td>y</td>\n",
       "      <td>1</td>\n",
       "      <td>0</td>\n",
       "      <td>good risk</td>\n",
       "    </tr>\n",
       "  </tbody>\n",
       "</table>\n",
       "</div>"
      ],
      "text/plain": [
       "       ID  AGE  INCOME GENDER    MARITAL  NUMKIDS  NUMCARDS  HOWPAID MORTGAGE  \\\n",
       "0  100756   44   59944      m  married          1         2  monthly        y   \n",
       "1  100668   35   59692      m  married          1         1  monthly        y   \n",
       "2  100418   34   59508      m  married          1         1  monthly        y   \n",
       "3  100416   34   59463      m  married          0         2  monthly        y   \n",
       "4  100590   39   59393      f  married          0         2  monthly        y   \n",
       "\n",
       "   STORECAR  LOANS        RISK  \n",
       "0         2      0  good risk   \n",
       "1         1      0  bad loss    \n",
       "2         2      1  good risk   \n",
       "3         1      1  bad loss    \n",
       "4         1      0  good risk   "
      ]
     },
     "execution_count": 4,
     "metadata": {},
     "output_type": "execute_result"
    }
   ],
   "source": [
    "#First couple rows\n",
    "credit.head()"
   ]
  },
  {
   "cell_type": "code",
   "execution_count": 220,
   "metadata": {},
   "outputs": [
    {
     "name": "stdout",
     "output_type": "stream",
     "text": [
      "Sum of Age column:\n",
      " 131001\n",
      "Average of Age column:\n",
      " 31.819528783094487\n"
     ]
    }
   ],
   "source": [
    "#Aggregate -1: Basics\n",
    "print('Sum of Age column:\\n',credit['AGE'].sum())\n",
    "print('Average of Age column:\\n',credit['AGE'].mean())"
   ]
  },
  {
   "cell_type": "code",
   "execution_count": 240,
   "metadata": {
    "collapsed": true
   },
   "outputs": [
    {
     "data": {
      "text/plain": [
       "       MORTGAGE\n",
       "count  n            917.000000\n",
       "       y           3200.000000\n",
       "mean   n             33.593239\n",
       "       y             31.311250\n",
       "std    n             10.477845\n",
       "       y              9.639322\n",
       "min    n             20.000000\n",
       "       y             18.000000\n",
       "25%    n             23.000000\n",
       "       y             22.000000\n",
       "50%    n             33.000000\n",
       "       y             30.000000\n",
       "75%    n             44.000000\n",
       "       y             40.000000\n",
       "max    n             50.000000\n",
       "       y             50.000000\n",
       "dtype: float64"
      ]
     },
     "execution_count": 240,
     "metadata": {},
     "output_type": "execute_result"
    }
   ],
   "source": [
    "#Aggregate -2: Descriptive Statistics\n",
    "credit.groupby('MORTGAGE')['AGE'].describe().unstack()"
   ]
  },
  {
   "cell_type": "code",
   "execution_count": 10,
   "metadata": {},
   "outputs": [
    {
     "name": "stdout",
     "output_type": "stream",
     "text": [
      "AGE non null row counts based on MORTAGAGE class, MORTGAGE\n",
      "n     917\n",
      "y    3200\n",
      "Name: AGE, dtype: int64\n",
      "\n",
      "AGE non null medians based on MORTAGAGE class, MORTGAGE\n",
      "n    33\n",
      "y    30\n",
      "Name: AGE, dtype: int64\n"
     ]
    }
   ],
   "source": [
    "#Aggregate -3: Group bying based on a column and counting another column\n",
    "print('AGE non null row counts based on MORTAGAGE class,',credit.groupby('MORTGAGE')['AGE'].count())\n",
    "print('')\n",
    "print('AGE non null medians based on MORTAGAGE class,',credit.groupby('MORTGAGE')['AGE'].median())"
   ]
  },
  {
   "cell_type": "code",
   "execution_count": 12,
   "metadata": {},
   "outputs": [
    {
     "data": {
      "text/plain": [
       "pandas.core.series.Series"
      ]
     },
     "execution_count": 12,
     "metadata": {},
     "output_type": "execute_result"
    }
   ],
   "source": [
    "#Aggregate - 4: When we want to see the counts of groups \n",
    "credit['MORTGAGE'].value_counts()"
   ]
  },
  {
   "cell_type": "code",
   "execution_count": 266,
   "metadata": {},
   "outputs": [
    {
     "data": {
      "text/html": [
       "<div>\n",
       "<style>\n",
       "    .dataframe thead tr:only-child th {\n",
       "        text-align: right;\n",
       "    }\n",
       "\n",
       "    .dataframe thead th {\n",
       "        text-align: left;\n",
       "    }\n",
       "\n",
       "    .dataframe tbody tr th {\n",
       "        vertical-align: top;\n",
       "    }\n",
       "</style>\n",
       "<table border=\"1\" class=\"dataframe\">\n",
       "  <thead>\n",
       "    <tr>\n",
       "      <th></th>\n",
       "      <th colspan=\"3\" halign=\"left\">AGE</th>\n",
       "      <th colspan=\"3\" halign=\"left\">INCOME</th>\n",
       "    </tr>\n",
       "    <tr>\n",
       "      <th></th>\n",
       "      <th>min</th>\n",
       "      <th>median</th>\n",
       "      <th>max</th>\n",
       "      <th>min</th>\n",
       "      <th>median</th>\n",
       "      <th>max</th>\n",
       "    </tr>\n",
       "    <tr>\n",
       "      <th>MORTGAGE</th>\n",
       "      <th></th>\n",
       "      <th></th>\n",
       "      <th></th>\n",
       "      <th></th>\n",
       "      <th></th>\n",
       "      <th></th>\n",
       "    </tr>\n",
       "  </thead>\n",
       "  <tbody>\n",
       "    <tr>\n",
       "      <th>n</th>\n",
       "      <td>20</td>\n",
       "      <td>33</td>\n",
       "      <td>50</td>\n",
       "      <td>15046</td>\n",
       "      <td>22918.0</td>\n",
       "      <td>29986</td>\n",
       "    </tr>\n",
       "    <tr>\n",
       "      <th>y</th>\n",
       "      <td>18</td>\n",
       "      <td>30</td>\n",
       "      <td>50</td>\n",
       "      <td>15005</td>\n",
       "      <td>23645.5</td>\n",
       "      <td>59944</td>\n",
       "    </tr>\n",
       "  </tbody>\n",
       "</table>\n",
       "</div>"
      ],
      "text/plain": [
       "         AGE            INCOME                \n",
       "         min median max    min   median    max\n",
       "MORTGAGE                                      \n",
       "n         20     33  50  15046  22918.0  29986\n",
       "y         18     30  50  15005  23645.5  59944"
      ]
     },
     "execution_count": 266,
     "metadata": {},
     "output_type": "execute_result"
    }
   ],
   "source": [
    "#Aggregate\n",
    "credit.groupby('MORTGAGE')['AGE','INCOME'].aggregate(['min', np.median, max])"
   ]
  },
  {
   "cell_type": "code",
   "execution_count": 268,
   "metadata": {
    "collapsed": true
   },
   "outputs": [
    {
     "data": {
      "text/plain": [
       "0       12.688750\n",
       "1        3.688750\n",
       "2        2.688750\n",
       "3        2.688750\n",
       "4        7.688750\n",
       "5        9.688750\n",
       "6       10.688750\n",
       "7       -0.311250\n",
       "8       -3.311250\n",
       "9       -1.311250\n",
       "10       6.688750\n",
       "11       4.688750\n",
       "12      10.688750\n",
       "13      12.688750\n",
       "14       1.688750\n",
       "15      13.688750\n",
       "16       2.688750\n",
       "17       0.688750\n",
       "18       3.688750\n",
       "19       6.688750\n",
       "20      -3.311250\n",
       "21      11.688750\n",
       "22       9.688750\n",
       "23      11.688750\n",
       "24      12.688750\n",
       "25       5.688750\n",
       "26       2.688750\n",
       "27       1.688750\n",
       "28       6.688750\n",
       "29       7.688750\n",
       "          ...    \n",
       "4087    -7.311250\n",
       "4088     7.406761\n",
       "4089    -4.311250\n",
       "4090   -12.593239\n",
       "4091    -3.593239\n",
       "4092   -12.311250\n",
       "4093   -10.311250\n",
       "4094    -7.311250\n",
       "4095    11.688750\n",
       "4096     6.406761\n",
       "4097     3.406761\n",
       "4098   -11.593239\n",
       "4099    12.406761\n",
       "4100    -4.311250\n",
       "4101   -11.311250\n",
       "4102   -10.311250\n",
       "4103   -10.311250\n",
       "4104    14.406761\n",
       "4105    -5.593239\n",
       "4106     4.688750\n",
       "4107   -12.593239\n",
       "4108    -6.311250\n",
       "4109   -10.311250\n",
       "4110     7.406761\n",
       "4111    -7.311250\n",
       "4112   -11.311250\n",
       "4113    -8.311250\n",
       "4114    -6.311250\n",
       "4115    -7.311250\n",
       "4116    18.688750\n",
       "Name: AGE, Length: 4117, dtype: float64"
      ]
     },
     "execution_count": 268,
     "metadata": {},
     "output_type": "execute_result"
    }
   ],
   "source": [
    "#Transformation\n",
    "credit.groupby('MORTGAGE')['AGE'].transform(lambda x: x - x.mean())"
   ]
  },
  {
   "cell_type": "code",
   "execution_count": 270,
   "metadata": {},
   "outputs": [
    {
     "data": {
      "text/html": [
       "<div>\n",
       "<style>\n",
       "    .dataframe thead tr:only-child th {\n",
       "        text-align: right;\n",
       "    }\n",
       "\n",
       "    .dataframe thead th {\n",
       "        text-align: left;\n",
       "    }\n",
       "\n",
       "    .dataframe tbody tr th {\n",
       "        vertical-align: top;\n",
       "    }\n",
       "</style>\n",
       "<table border=\"1\" class=\"dataframe\">\n",
       "  <thead>\n",
       "    <tr style=\"text-align: right;\">\n",
       "      <th>HOWPAID</th>\n",
       "      <th>monthly</th>\n",
       "      <th>weekly</th>\n",
       "    </tr>\n",
       "    <tr>\n",
       "      <th>MORTGAGE</th>\n",
       "      <th></th>\n",
       "      <th></th>\n",
       "    </tr>\n",
       "  </thead>\n",
       "  <tbody>\n",
       "    <tr>\n",
       "      <th>n</th>\n",
       "      <td>24.460581</td>\n",
       "      <td>36.849112</td>\n",
       "    </tr>\n",
       "    <tr>\n",
       "      <th>y</th>\n",
       "      <td>31.092997</td>\n",
       "      <td>31.586572</td>\n",
       "    </tr>\n",
       "  </tbody>\n",
       "</table>\n",
       "</div>"
      ],
      "text/plain": [
       "HOWPAID     monthly    weekly \n",
       "MORTGAGE                      \n",
       "n         24.460581  36.849112\n",
       "y         31.092997  31.586572"
      ]
     },
     "execution_count": 270,
     "metadata": {},
     "output_type": "execute_result"
    }
   ],
   "source": [
    "#Pivot Tables default creates mean\n",
    "credit.pivot_table('AGE', index='MORTGAGE', columns='HOWPAID')"
   ]
  },
  {
   "cell_type": "code",
   "execution_count": 4,
   "metadata": {},
   "outputs": [
    {
     "data": {
      "text/html": [
       "<div>\n",
       "<style>\n",
       "    .dataframe thead tr:only-child th {\n",
       "        text-align: right;\n",
       "    }\n",
       "\n",
       "    .dataframe thead th {\n",
       "        text-align: left;\n",
       "    }\n",
       "\n",
       "    .dataframe tbody tr th {\n",
       "        vertical-align: top;\n",
       "    }\n",
       "</style>\n",
       "<table border=\"1\" class=\"dataframe\">\n",
       "  <thead>\n",
       "    <tr style=\"text-align: right;\">\n",
       "      <th></th>\n",
       "      <th>HOWPAID</th>\n",
       "      <th>monthly</th>\n",
       "      <th>weekly</th>\n",
       "    </tr>\n",
       "    <tr>\n",
       "      <th>MORTGAGE</th>\n",
       "      <th>MARITAL</th>\n",
       "      <th></th>\n",
       "      <th></th>\n",
       "    </tr>\n",
       "  </thead>\n",
       "  <tbody>\n",
       "    <tr>\n",
       "      <th rowspan=\"2\" valign=\"top\">n</th>\n",
       "      <th>divsepwid</th>\n",
       "      <td>NaN</td>\n",
       "      <td>42.440171</td>\n",
       "    </tr>\n",
       "    <tr>\n",
       "      <th>single</th>\n",
       "      <td>24.460581</td>\n",
       "      <td>24.269231</td>\n",
       "    </tr>\n",
       "    <tr>\n",
       "      <th rowspan=\"3\" valign=\"top\">y</th>\n",
       "      <th>divsepwid</th>\n",
       "      <td>NaN</td>\n",
       "      <td>42.666667</td>\n",
       "    </tr>\n",
       "    <tr>\n",
       "      <th>married</th>\n",
       "      <td>31.518490</td>\n",
       "      <td>28.006321</td>\n",
       "    </tr>\n",
       "    <tr>\n",
       "      <th>single</th>\n",
       "      <td>29.958932</td>\n",
       "      <td>24.027397</td>\n",
       "    </tr>\n",
       "  </tbody>\n",
       "</table>\n",
       "</div>"
      ],
      "text/plain": [
       "HOWPAID               monthly    weekly \n",
       "MORTGAGE MARITAL                        \n",
       "n        divsepwid        NaN  42.440171\n",
       "         single     24.460581  24.269231\n",
       "y        divsepwid        NaN  42.666667\n",
       "         married    31.518490  28.006321\n",
       "         single     29.958932  24.027397"
      ]
     },
     "execution_count": 4,
     "metadata": {},
     "output_type": "execute_result"
    }
   ],
   "source": [
    "#Higher Dimensions Pivot Tables default creates mean\n",
    "credit.pivot_table('AGE', index=['MORTGAGE','MARITAL'], columns='HOWPAID', aggfunc='mean')"
   ]
  },
  {
   "cell_type": "markdown",
   "metadata": {},
   "source": [
    "### String Operations"
   ]
  },
  {
   "cell_type": "code",
   "execution_count": 7,
   "metadata": {
    "collapsed": true
   },
   "outputs": [],
   "source": [
    "#Creating string array\n",
    "string_array = ['seckin','elif','kofte','dinc']"
   ]
  },
  {
   "cell_type": "code",
   "execution_count": 20,
   "metadata": {
    "collapsed": true
   },
   "outputs": [],
   "source": [
    "#Capitalizing every element\n",
    "string_array = [s.capitalize() for s in string_array]"
   ]
  },
  {
   "cell_type": "code",
   "execution_count": 22,
   "metadata": {
    "collapsed": true
   },
   "outputs": [],
   "source": [
    "#Converting from array to pandas series object\n",
    "string_array = pd.Series(string_array)"
   ]
  },
  {
   "cell_type": "code",
   "execution_count": 23,
   "metadata": {},
   "outputs": [
    {
     "data": {
      "text/plain": [
       "pandas.core.series.Series"
      ]
     },
     "execution_count": 23,
     "metadata": {},
     "output_type": "execute_result"
    }
   ],
   "source": [
    "#Checking type\n",
    "type(string_array)"
   ]
  },
  {
   "cell_type": "code",
   "execution_count": 26,
   "metadata": {},
   "outputs": [
    {
     "data": {
      "text/plain": [
       "'SeckinElifKofteDinc'"
      ]
     },
     "execution_count": 26,
     "metadata": {},
     "output_type": "execute_result"
    }
   ],
   "source": [
    "#Printing elements with no space concat\n",
    "string_array.str.cat()"
   ]
  },
  {
   "cell_type": "code",
   "execution_count": 27,
   "metadata": {},
   "outputs": [
    {
     "data": {
      "text/plain": [
       "0    False\n",
       "1    False\n",
       "2     True\n",
       "3    False\n",
       "dtype: bool"
      ]
     },
     "execution_count": 27,
     "metadata": {},
     "output_type": "execute_result"
    }
   ],
   "source": [
    "#Searching string for a pattern and returning Bool\n",
    "string_array.str.contains('Kof')"
   ]
  },
  {
   "cell_type": "code",
   "execution_count": 30,
   "metadata": {},
   "outputs": [
    {
     "data": {
      "text/plain": [
       "0    0000000Seckin0000000\n",
       "1    00000000Elif00000000\n",
       "2    0000000Kofte00000000\n",
       "3    00000000Dinc00000000\n",
       "dtype: object"
      ]
     },
     "execution_count": 30,
     "metadata": {},
     "output_type": "execute_result"
    }
   ],
   "source": [
    "#Lpad and Rpad at the same time with centralizing element\n",
    "string_array.str.center(20,'0')"
   ]
  },
  {
   "cell_type": "code",
   "execution_count": 35,
   "metadata": {},
   "outputs": [
    {
     "data": {
      "text/plain": [
       "0   -1\n",
       "1   -1\n",
       "2    3\n",
       "3   -1\n",
       "dtype: int64"
      ]
     },
     "execution_count": 35,
     "metadata": {},
     "output_type": "execute_result"
    }
   ],
   "source": [
    "#Return lowest indexes in each strings in the Series/Index where the substring is fully contained between\n",
    "string_array.str.find('te')"
   ]
  },
  {
   "cell_type": "code",
   "execution_count": 32,
   "metadata": {},
   "outputs": [
    {
     "data": {
      "text/plain": [
       "0    6\n",
       "1    4\n",
       "2    5\n",
       "3    4\n",
       "dtype: int64"
      ]
     },
     "execution_count": 32,
     "metadata": {},
     "output_type": "execute_result"
    }
   ],
   "source": [
    "#Length of each element in the series object\n",
    "string_array.str.len()"
   ]
  },
  {
   "cell_type": "code",
   "execution_count": 18,
   "metadata": {},
   "outputs": [
    {
     "name": "stdout",
     "output_type": "stream",
     "text": [
      "2018\n",
      "03\n",
      "02\n",
      "16\n"
     ]
    }
   ],
   "source": [
    "#Splitting text field based on seperator\n",
    "text = '2018/03/02/16'\n",
    "\n",
    "Year = text.split('/')[0]\n",
    "print(Year)\n",
    "Month = text.split('/')[1]\n",
    "print(Month)\n",
    "Day = text.split('/')[2]\n",
    "print(Day)\n",
    "Hour = text.split('/')[3]\n",
    "print(Hour)"
   ]
  },
  {
   "cell_type": "code",
   "execution_count": 19,
   "metadata": {},
   "outputs": [
    {
     "name": "stdout",
     "output_type": "stream",
     "text": [
      "   C1  C2  C3\n",
      "A   1   6  11\n",
      "B   2   7  12\n",
      "C   3   8  13\n",
      "D   4   9  14\n",
      "E   5  10  15\n"
     ]
    }
   ],
   "source": [
    "#Creating data frame via series objects \n",
    "x = pd.Series({'A': 1, 'B': 2, 'C': 3, 'D': 4, 'E': 5})\n",
    "y = pd.Series({'A': 6, 'B': 7, 'C': 8, 'D': 9, 'E': 10})\n",
    "z = pd.Series({'A': 11, 'B': 12, 'C': 13, 'D': 14, 'E': 15})\n",
    "df = pd.DataFrame({'C1':x, 'C2':y, 'C3':z})\n",
    "print(df)"
   ]
  },
  {
   "cell_type": "code",
   "execution_count": 24,
   "metadata": {},
   "outputs": [
    {
     "name": "stdout",
     "output_type": "stream",
     "text": [
      "   C1  C2  C3\n",
      "A   1   6  11\n",
      "\n",
      "   C1  C2  C3\n",
      "B   2   7  12\n",
      "\n",
      "   C1  C2  C3\n",
      "C   3   8  13\n",
      "\n",
      "   C1  C2  C3\n",
      "D   4   9  14\n",
      "\n",
      "   C1  C2  C3\n",
      "E   5  10  15\n",
      "\n"
     ]
    }
   ],
   "source": [
    "#Creating individual data frames in a dictionary based on values of a data frame column\n",
    "myDict = {}\n",
    "for a in np.sort(df['C1'].unique()):\n",
    "    myDict['dt_'+str(a)] = (df[df['C1'] == a])\n",
    "\n",
    "print(myDict['dt_1'])\n",
    "print('')\n",
    "print(myDict['dt_2'])\n",
    "print('')\n",
    "print(myDict['dt_3'])\n",
    "print('')\n",
    "print(myDict['dt_4'])\n",
    "print('')\n",
    "print(myDict['dt_5'])\n",
    "print('')"
   ]
  },
  {
   "cell_type": "code",
   "execution_count": 27,
   "metadata": {
    "collapsed": true
   },
   "outputs": [],
   "source": [
    "#Renaming data frame column\n",
    "df = df.rename(index=str, columns={\"C1\": \"C4\"})\n",
    "print(df)"
   ]
  },
  {
   "cell_type": "code",
   "execution_count": 32,
   "metadata": {
    "collapsed": true
   },
   "outputs": [],
   "source": [
    "#Sorting data frame column in place in descending order\n",
    "df.sort_values(['C4'],inplace=True,ascending=False)\n",
    "df"
   ]
  },
  {
   "cell_type": "code",
   "execution_count": 37,
   "metadata": {
    "collapsed": true
   },
   "outputs": [
    {
     "name": "stdout",
     "output_type": "stream",
     "text": [
      "125.100.8.1\n",
      "125.100.8.2\n",
      "125.100.8.3\n",
      "125.100.8.4\n",
      "125.100.8.5\n",
      "125.100.8.6\n",
      "125.100.8.7\n",
      "125.100.8.8\n",
      "125.100.8.9\n",
      "125.100.8.10\n",
      "125.100.8.11\n",
      "125.100.8.12\n",
      "125.100.8.13\n",
      "125.100.8.14\n",
      "125.100.8.15\n",
      "125.100.8.16\n",
      "125.100.8.17\n",
      "125.100.8.18\n",
      "125.100.8.19\n",
      "125.100.8.20\n",
      "125.100.8.21\n",
      "125.100.8.22\n",
      "125.100.8.23\n",
      "125.100.8.24\n",
      "125.100.8.25\n",
      "125.100.8.26\n",
      "125.100.8.27\n",
      "125.100.8.28\n",
      "125.100.8.29\n",
      "125.100.8.30\n",
      "125.100.8.31\n",
      "125.100.8.32\n",
      "125.100.8.33\n",
      "125.100.8.34\n",
      "125.100.8.35\n",
      "125.100.8.36\n",
      "125.100.8.37\n",
      "125.100.8.38\n",
      "125.100.8.39\n",
      "125.100.8.40\n",
      "125.100.8.41\n",
      "125.100.8.42\n",
      "125.100.8.43\n",
      "125.100.8.44\n",
      "125.100.8.45\n",
      "125.100.8.46\n",
      "125.100.8.47\n",
      "125.100.8.48\n",
      "125.100.8.49\n",
      "125.100.8.50\n",
      "125.100.8.51\n",
      "125.100.8.52\n",
      "125.100.8.53\n",
      "125.100.8.54\n",
      "125.100.8.55\n",
      "125.100.8.56\n",
      "125.100.8.57\n",
      "125.100.8.58\n",
      "125.100.8.59\n",
      "125.100.8.60\n",
      "125.100.8.61\n",
      "125.100.8.62\n",
      "125.100.8.63\n",
      "125.100.8.64\n",
      "125.100.8.65\n",
      "125.100.8.66\n",
      "125.100.8.67\n",
      "125.100.8.68\n",
      "125.100.8.69\n",
      "125.100.8.70\n",
      "125.100.8.71\n",
      "125.100.8.72\n",
      "125.100.8.73\n",
      "125.100.8.74\n",
      "125.100.8.75\n",
      "125.100.8.76\n",
      "125.100.8.77\n",
      "125.100.8.78\n",
      "125.100.8.79\n",
      "125.100.8.80\n",
      "125.100.8.81\n",
      "125.100.8.82\n",
      "125.100.8.83\n",
      "125.100.8.84\n",
      "125.100.8.85\n",
      "125.100.8.86\n",
      "125.100.8.87\n",
      "125.100.8.88\n",
      "125.100.8.89\n",
      "125.100.8.90\n",
      "125.100.8.91\n",
      "125.100.8.92\n",
      "125.100.8.93\n",
      "125.100.8.94\n",
      "125.100.8.95\n",
      "125.100.8.96\n",
      "125.100.8.97\n",
      "125.100.8.98\n",
      "125.100.8.99\n",
      "125.100.8.100\n",
      "125.100.8.101\n",
      "125.100.8.102\n",
      "125.100.8.103\n",
      "125.100.8.104\n",
      "125.100.8.105\n",
      "125.100.8.106\n",
      "125.100.8.107\n",
      "125.100.8.108\n",
      "125.100.8.109\n",
      "125.100.8.110\n",
      "125.100.8.111\n",
      "125.100.8.112\n",
      "125.100.8.113\n",
      "125.100.8.114\n",
      "125.100.8.115\n",
      "125.100.8.116\n",
      "125.100.8.117\n",
      "125.100.8.118\n",
      "125.100.8.119\n",
      "125.100.8.120\n",
      "125.100.8.121\n",
      "125.100.8.122\n",
      "125.100.8.123\n",
      "125.100.8.124\n",
      "125.100.8.125\n",
      "125.100.8.126\n",
      "125.100.8.127\n",
      "125.100.8.128\n",
      "125.100.8.129\n",
      "125.100.8.130\n",
      "125.100.8.131\n",
      "125.100.8.132\n",
      "125.100.8.133\n",
      "125.100.8.134\n",
      "125.100.8.135\n",
      "125.100.8.136\n",
      "125.100.8.137\n",
      "125.100.8.138\n",
      "125.100.8.139\n",
      "125.100.8.140\n",
      "125.100.8.141\n",
      "125.100.8.142\n",
      "125.100.8.143\n",
      "125.100.8.144\n",
      "125.100.8.145\n",
      "125.100.8.146\n",
      "125.100.8.147\n",
      "125.100.8.148\n",
      "125.100.8.149\n",
      "125.100.8.150\n",
      "125.100.8.151\n",
      "125.100.8.152\n",
      "125.100.8.153\n",
      "125.100.8.154\n",
      "125.100.8.155\n",
      "125.100.8.156\n",
      "125.100.8.157\n",
      "125.100.8.158\n",
      "125.100.8.159\n",
      "125.100.8.160\n",
      "125.100.8.161\n",
      "125.100.8.162\n",
      "125.100.8.163\n",
      "125.100.8.164\n",
      "125.100.8.165\n",
      "125.100.8.166\n",
      "125.100.8.167\n",
      "125.100.8.168\n",
      "125.100.8.169\n",
      "125.100.8.170\n",
      "125.100.8.171\n",
      "125.100.8.172\n",
      "125.100.8.173\n",
      "125.100.8.174\n",
      "125.100.8.175\n",
      "125.100.8.176\n",
      "125.100.8.177\n",
      "125.100.8.178\n",
      "125.100.8.179\n",
      "125.100.8.180\n",
      "125.100.8.181\n",
      "125.100.8.182\n",
      "125.100.8.183\n",
      "125.100.8.184\n",
      "125.100.8.185\n",
      "125.100.8.186\n",
      "125.100.8.187\n",
      "125.100.8.188\n",
      "125.100.8.189\n",
      "125.100.8.190\n",
      "125.100.8.191\n",
      "125.100.8.192\n",
      "125.100.8.193\n",
      "125.100.8.194\n",
      "125.100.8.195\n",
      "125.100.8.196\n",
      "125.100.8.197\n",
      "125.100.8.198\n",
      "125.100.8.199\n",
      "125.100.8.200\n",
      "125.100.8.201\n",
      "125.100.8.202\n",
      "125.100.8.203\n",
      "125.100.8.204\n",
      "125.100.8.205\n",
      "125.100.8.206\n",
      "125.100.8.207\n",
      "125.100.8.208\n",
      "125.100.8.209\n",
      "125.100.8.210\n",
      "125.100.8.211\n",
      "125.100.8.212\n",
      "125.100.8.213\n",
      "125.100.8.214\n",
      "125.100.8.215\n",
      "125.100.8.216\n",
      "125.100.8.217\n",
      "125.100.8.218\n",
      "125.100.8.219\n",
      "125.100.8.220\n",
      "125.100.8.221\n",
      "125.100.8.222\n",
      "125.100.8.223\n",
      "125.100.8.224\n",
      "125.100.8.225\n",
      "125.100.8.226\n",
      "125.100.8.227\n",
      "125.100.8.228\n",
      "125.100.8.229\n",
      "125.100.8.230\n",
      "125.100.8.231\n",
      "125.100.8.232\n",
      "125.100.8.233\n",
      "125.100.8.234\n",
      "125.100.8.235\n",
      "125.100.8.236\n",
      "125.100.8.237\n",
      "125.100.8.238\n",
      "125.100.8.239\n",
      "125.100.8.240\n",
      "125.100.8.241\n",
      "125.100.8.242\n",
      "125.100.8.243\n",
      "125.100.8.244\n",
      "125.100.8.245\n",
      "125.100.8.246\n",
      "125.100.8.247\n",
      "125.100.8.248\n",
      "125.100.8.249\n",
      "125.100.8.250\n",
      "125.100.8.251\n",
      "125.100.8.252\n",
      "125.100.8.253\n",
      "125.100.8.254\n",
      "125.100.8.255\n",
      "125.100.9.0\n",
      "125.100.9.1\n",
      "125.100.9.2\n",
      "125.100.9.3\n",
      "125.100.9.4\n",
      "125.100.9.5\n",
      "125.100.9.6\n",
      "125.100.9.7\n",
      "125.100.9.8\n",
      "125.100.9.9\n",
      "125.100.9.10\n",
      "125.100.9.11\n",
      "125.100.9.12\n",
      "125.100.9.13\n",
      "125.100.9.14\n",
      "125.100.9.15\n",
      "125.100.9.16\n",
      "125.100.9.17\n",
      "125.100.9.18\n",
      "125.100.9.19\n",
      "125.100.9.20\n",
      "125.100.9.21\n",
      "125.100.9.22\n",
      "125.100.9.23\n",
      "125.100.9.24\n",
      "125.100.9.25\n",
      "125.100.9.26\n",
      "125.100.9.27\n",
      "125.100.9.28\n",
      "125.100.9.29\n",
      "125.100.9.30\n",
      "125.100.9.31\n",
      "125.100.9.32\n",
      "125.100.9.33\n",
      "125.100.9.34\n",
      "125.100.9.35\n",
      "125.100.9.36\n",
      "125.100.9.37\n",
      "125.100.9.38\n",
      "125.100.9.39\n",
      "125.100.9.40\n",
      "125.100.9.41\n",
      "125.100.9.42\n",
      "125.100.9.43\n",
      "125.100.9.44\n",
      "125.100.9.45\n",
      "125.100.9.46\n",
      "125.100.9.47\n",
      "125.100.9.48\n",
      "125.100.9.49\n",
      "125.100.9.50\n",
      "125.100.9.51\n",
      "125.100.9.52\n",
      "125.100.9.53\n",
      "125.100.9.54\n",
      "125.100.9.55\n",
      "125.100.9.56\n",
      "125.100.9.57\n",
      "125.100.9.58\n",
      "125.100.9.59\n",
      "125.100.9.60\n",
      "125.100.9.61\n",
      "125.100.9.62\n",
      "125.100.9.63\n",
      "125.100.9.64\n",
      "125.100.9.65\n",
      "125.100.9.66\n",
      "125.100.9.67\n",
      "125.100.9.68\n",
      "125.100.9.69\n",
      "125.100.9.70\n",
      "125.100.9.71\n",
      "125.100.9.72\n",
      "125.100.9.73\n",
      "125.100.9.74\n",
      "125.100.9.75\n",
      "125.100.9.76\n",
      "125.100.9.77\n",
      "125.100.9.78\n",
      "125.100.9.79\n",
      "125.100.9.80\n",
      "125.100.9.81\n",
      "125.100.9.82\n",
      "125.100.9.83\n",
      "125.100.9.84\n",
      "125.100.9.85\n",
      "125.100.9.86\n",
      "125.100.9.87\n",
      "125.100.9.88\n",
      "125.100.9.89\n",
      "125.100.9.90\n",
      "125.100.9.91\n",
      "125.100.9.92\n",
      "125.100.9.93\n",
      "125.100.9.94\n",
      "125.100.9.95\n",
      "125.100.9.96\n",
      "125.100.9.97\n",
      "125.100.9.98\n",
      "125.100.9.99\n",
      "125.100.9.100\n",
      "125.100.9.101\n",
      "125.100.9.102\n",
      "125.100.9.103\n",
      "125.100.9.104\n",
      "125.100.9.105\n",
      "125.100.9.106\n",
      "125.100.9.107\n",
      "125.100.9.108\n",
      "125.100.9.109\n",
      "125.100.9.110\n",
      "125.100.9.111\n",
      "125.100.9.112\n",
      "125.100.9.113\n",
      "125.100.9.114\n",
      "125.100.9.115\n",
      "125.100.9.116\n",
      "125.100.9.117\n",
      "125.100.9.118\n",
      "125.100.9.119\n",
      "125.100.9.120\n",
      "125.100.9.121\n",
      "125.100.9.122\n",
      "125.100.9.123\n",
      "125.100.9.124\n",
      "125.100.9.125\n",
      "125.100.9.126\n",
      "125.100.9.127\n",
      "125.100.9.128\n",
      "125.100.9.129\n",
      "125.100.9.130\n",
      "125.100.9.131\n",
      "125.100.9.132\n",
      "125.100.9.133\n",
      "125.100.9.134\n",
      "125.100.9.135\n",
      "125.100.9.136\n",
      "125.100.9.137\n",
      "125.100.9.138\n",
      "125.100.9.139\n",
      "125.100.9.140\n",
      "125.100.9.141\n",
      "125.100.9.142\n",
      "125.100.9.143\n",
      "125.100.9.144\n",
      "125.100.9.145\n",
      "125.100.9.146\n",
      "125.100.9.147\n",
      "125.100.9.148\n",
      "125.100.9.149\n",
      "125.100.9.150\n",
      "125.100.9.151\n",
      "125.100.9.152\n",
      "125.100.9.153\n",
      "125.100.9.154\n",
      "125.100.9.155\n",
      "125.100.9.156\n",
      "125.100.9.157\n",
      "125.100.9.158\n",
      "125.100.9.159\n",
      "125.100.9.160\n",
      "125.100.9.161\n",
      "125.100.9.162\n",
      "125.100.9.163\n",
      "125.100.9.164\n",
      "125.100.9.165\n",
      "125.100.9.166\n",
      "125.100.9.167\n",
      "125.100.9.168\n",
      "125.100.9.169\n",
      "125.100.9.170\n",
      "125.100.9.171\n",
      "125.100.9.172\n",
      "125.100.9.173\n",
      "125.100.9.174\n",
      "125.100.9.175\n",
      "125.100.9.176\n",
      "125.100.9.177\n",
      "125.100.9.178\n",
      "125.100.9.179\n",
      "125.100.9.180\n",
      "125.100.9.181\n",
      "125.100.9.182\n",
      "125.100.9.183\n",
      "125.100.9.184\n",
      "125.100.9.185\n",
      "125.100.9.186\n",
      "125.100.9.187\n",
      "125.100.9.188\n",
      "125.100.9.189\n",
      "125.100.9.190\n",
      "125.100.9.191\n",
      "125.100.9.192\n",
      "125.100.9.193\n",
      "125.100.9.194\n",
      "125.100.9.195\n",
      "125.100.9.196\n",
      "125.100.9.197\n",
      "125.100.9.198\n",
      "125.100.9.199\n",
      "125.100.9.200\n",
      "125.100.9.201\n",
      "125.100.9.202\n",
      "125.100.9.203\n",
      "125.100.9.204\n",
      "125.100.9.205\n",
      "125.100.9.206\n",
      "125.100.9.207\n",
      "125.100.9.208\n",
      "125.100.9.209\n",
      "125.100.9.210\n",
      "125.100.9.211\n",
      "125.100.9.212\n",
      "125.100.9.213\n",
      "125.100.9.214\n",
      "125.100.9.215\n",
      "125.100.9.216\n",
      "125.100.9.217\n",
      "125.100.9.218\n",
      "125.100.9.219\n",
      "125.100.9.220\n",
      "125.100.9.221\n",
      "125.100.9.222\n",
      "125.100.9.223\n",
      "125.100.9.224\n",
      "125.100.9.225\n",
      "125.100.9.226\n",
      "125.100.9.227\n",
      "125.100.9.228\n",
      "125.100.9.229\n",
      "125.100.9.230\n",
      "125.100.9.231\n",
      "125.100.9.232\n",
      "125.100.9.233\n",
      "125.100.9.234\n",
      "125.100.9.235\n",
      "125.100.9.236\n",
      "125.100.9.237\n",
      "125.100.9.238\n",
      "125.100.9.239\n",
      "125.100.9.240\n",
      "125.100.9.241\n",
      "125.100.9.242\n",
      "125.100.9.243\n",
      "125.100.9.244\n",
      "125.100.9.245\n",
      "125.100.9.246\n",
      "125.100.9.247\n",
      "125.100.9.248\n",
      "125.100.9.249\n",
      "125.100.9.250\n",
      "125.100.9.251\n",
      "125.100.9.252\n",
      "125.100.9.253\n",
      "125.100.9.254\n",
      "125.100.9.255\n",
      "125.100.10.0\n",
      "125.100.10.1\n",
      "125.100.10.2\n",
      "125.100.10.3\n",
      "125.100.10.4\n",
      "125.100.10.5\n",
      "125.100.10.6\n",
      "125.100.10.7\n",
      "125.100.10.8\n",
      "125.100.10.9\n",
      "125.100.10.10\n",
      "125.100.10.11\n",
      "125.100.10.12\n",
      "125.100.10.13\n",
      "125.100.10.14\n",
      "125.100.10.15\n",
      "125.100.10.16\n",
      "125.100.10.17\n",
      "125.100.10.18\n",
      "125.100.10.19\n",
      "125.100.10.20\n",
      "125.100.10.21\n",
      "125.100.10.22\n",
      "125.100.10.23\n",
      "125.100.10.24\n",
      "125.100.10.25\n",
      "125.100.10.26\n",
      "125.100.10.27\n",
      "125.100.10.28\n",
      "125.100.10.29\n",
      "125.100.10.30\n",
      "125.100.10.31\n",
      "125.100.10.32\n",
      "125.100.10.33\n",
      "125.100.10.34\n",
      "125.100.10.35\n",
      "125.100.10.36\n",
      "125.100.10.37\n",
      "125.100.10.38\n",
      "125.100.10.39\n",
      "125.100.10.40\n",
      "125.100.10.41\n",
      "125.100.10.42\n",
      "125.100.10.43\n",
      "125.100.10.44\n",
      "125.100.10.45\n",
      "125.100.10.46\n",
      "125.100.10.47\n",
      "125.100.10.48\n",
      "125.100.10.49\n",
      "125.100.10.50\n",
      "125.100.10.51\n",
      "125.100.10.52\n",
      "125.100.10.53\n",
      "125.100.10.54\n",
      "125.100.10.55\n",
      "125.100.10.56\n",
      "125.100.10.57\n",
      "125.100.10.58\n",
      "125.100.10.59\n",
      "125.100.10.60\n",
      "125.100.10.61\n",
      "125.100.10.62\n",
      "125.100.10.63\n",
      "125.100.10.64\n",
      "125.100.10.65\n",
      "125.100.10.66\n",
      "125.100.10.67\n",
      "125.100.10.68\n",
      "125.100.10.69\n",
      "125.100.10.70\n",
      "125.100.10.71\n",
      "125.100.10.72\n",
      "125.100.10.73\n",
      "125.100.10.74\n",
      "125.100.10.75\n",
      "125.100.10.76\n",
      "125.100.10.77\n",
      "125.100.10.78\n",
      "125.100.10.79\n",
      "125.100.10.80\n",
      "125.100.10.81\n",
      "125.100.10.82\n",
      "125.100.10.83\n",
      "125.100.10.84\n",
      "125.100.10.85\n",
      "125.100.10.86\n",
      "125.100.10.87\n",
      "125.100.10.88\n",
      "125.100.10.89\n",
      "125.100.10.90\n",
      "125.100.10.91\n",
      "125.100.10.92\n",
      "125.100.10.93\n",
      "125.100.10.94\n",
      "125.100.10.95\n",
      "125.100.10.96\n",
      "125.100.10.97\n",
      "125.100.10.98\n",
      "125.100.10.99\n",
      "125.100.10.100\n",
      "125.100.10.101\n",
      "125.100.10.102\n",
      "125.100.10.103\n",
      "125.100.10.104\n",
      "125.100.10.105\n",
      "125.100.10.106\n",
      "125.100.10.107\n",
      "125.100.10.108\n",
      "125.100.10.109\n",
      "125.100.10.110\n",
      "125.100.10.111\n",
      "125.100.10.112\n",
      "125.100.10.113\n",
      "125.100.10.114\n",
      "125.100.10.115\n",
      "125.100.10.116\n",
      "125.100.10.117\n",
      "125.100.10.118\n",
      "125.100.10.119\n",
      "125.100.10.120\n",
      "125.100.10.121\n",
      "125.100.10.122\n",
      "125.100.10.123\n",
      "125.100.10.124\n",
      "125.100.10.125\n",
      "125.100.10.126\n",
      "125.100.10.127\n",
      "125.100.10.128\n",
      "125.100.10.129\n",
      "125.100.10.130\n",
      "125.100.10.131\n",
      "125.100.10.132\n",
      "125.100.10.133\n",
      "125.100.10.134\n",
      "125.100.10.135\n",
      "125.100.10.136\n",
      "125.100.10.137\n",
      "125.100.10.138\n",
      "125.100.10.139\n",
      "125.100.10.140\n",
      "125.100.10.141\n",
      "125.100.10.142\n",
      "125.100.10.143\n",
      "125.100.10.144\n",
      "125.100.10.145\n",
      "125.100.10.146\n",
      "125.100.10.147\n",
      "125.100.10.148\n",
      "125.100.10.149\n",
      "125.100.10.150\n",
      "125.100.10.151\n",
      "125.100.10.152\n",
      "125.100.10.153\n",
      "125.100.10.154\n",
      "125.100.10.155\n",
      "125.100.10.156\n",
      "125.100.10.157\n",
      "125.100.10.158\n",
      "125.100.10.159\n",
      "125.100.10.160\n",
      "125.100.10.161\n",
      "125.100.10.162\n",
      "125.100.10.163\n",
      "125.100.10.164\n",
      "125.100.10.165\n",
      "125.100.10.166\n",
      "125.100.10.167\n",
      "125.100.10.168\n",
      "125.100.10.169\n",
      "125.100.10.170\n",
      "125.100.10.171\n",
      "125.100.10.172\n",
      "125.100.10.173\n",
      "125.100.10.174\n",
      "125.100.10.175\n",
      "125.100.10.176\n",
      "125.100.10.177\n",
      "125.100.10.178\n",
      "125.100.10.179\n",
      "125.100.10.180\n",
      "125.100.10.181\n",
      "125.100.10.182\n",
      "125.100.10.183\n",
      "125.100.10.184\n",
      "125.100.10.185\n",
      "125.100.10.186\n",
      "125.100.10.187\n",
      "125.100.10.188\n",
      "125.100.10.189\n",
      "125.100.10.190\n",
      "125.100.10.191\n",
      "125.100.10.192\n",
      "125.100.10.193\n",
      "125.100.10.194\n",
      "125.100.10.195\n",
      "125.100.10.196\n",
      "125.100.10.197\n",
      "125.100.10.198\n",
      "125.100.10.199\n",
      "125.100.10.200\n",
      "125.100.10.201\n",
      "125.100.10.202\n",
      "125.100.10.203\n",
      "125.100.10.204\n",
      "125.100.10.205\n",
      "125.100.10.206\n",
      "125.100.10.207\n",
      "125.100.10.208\n",
      "125.100.10.209\n",
      "125.100.10.210\n",
      "125.100.10.211\n",
      "125.100.10.212\n",
      "125.100.10.213\n",
      "125.100.10.214\n",
      "125.100.10.215\n",
      "125.100.10.216\n",
      "125.100.10.217\n",
      "125.100.10.218\n",
      "125.100.10.219\n",
      "125.100.10.220\n",
      "125.100.10.221\n",
      "125.100.10.222\n",
      "125.100.10.223\n",
      "125.100.10.224\n",
      "125.100.10.225\n",
      "125.100.10.226\n",
      "125.100.10.227\n",
      "125.100.10.228\n",
      "125.100.10.229\n",
      "125.100.10.230\n",
      "125.100.10.231\n",
      "125.100.10.232\n",
      "125.100.10.233\n",
      "125.100.10.234\n",
      "125.100.10.235\n",
      "125.100.10.236\n",
      "125.100.10.237\n",
      "125.100.10.238\n",
      "125.100.10.239\n",
      "125.100.10.240\n",
      "125.100.10.241\n",
      "125.100.10.242\n",
      "125.100.10.243\n",
      "125.100.10.244\n",
      "125.100.10.245\n",
      "125.100.10.246\n",
      "125.100.10.247\n",
      "125.100.10.248\n",
      "125.100.10.249\n",
      "125.100.10.250\n",
      "125.100.10.251\n",
      "125.100.10.252\n",
      "125.100.10.253\n",
      "125.100.10.254\n",
      "125.100.10.255\n",
      "125.100.11.0\n",
      "125.100.11.1\n",
      "125.100.11.2\n",
      "125.100.11.3\n",
      "125.100.11.4\n",
      "125.100.11.5\n",
      "125.100.11.6\n",
      "125.100.11.7\n",
      "125.100.11.8\n",
      "125.100.11.9\n",
      "125.100.11.10\n",
      "125.100.11.11\n",
      "125.100.11.12\n",
      "125.100.11.13\n",
      "125.100.11.14\n",
      "125.100.11.15\n",
      "125.100.11.16\n",
      "125.100.11.17\n",
      "125.100.11.18\n",
      "125.100.11.19\n",
      "125.100.11.20\n",
      "125.100.11.21\n",
      "125.100.11.22\n",
      "125.100.11.23\n",
      "125.100.11.24\n",
      "125.100.11.25\n",
      "125.100.11.26\n",
      "125.100.11.27\n",
      "125.100.11.28\n",
      "125.100.11.29\n",
      "125.100.11.30\n",
      "125.100.11.31\n",
      "125.100.11.32\n",
      "125.100.11.33\n",
      "125.100.11.34\n",
      "125.100.11.35\n",
      "125.100.11.36\n",
      "125.100.11.37\n",
      "125.100.11.38\n",
      "125.100.11.39\n",
      "125.100.11.40\n",
      "125.100.11.41\n",
      "125.100.11.42\n",
      "125.100.11.43\n",
      "125.100.11.44\n",
      "125.100.11.45\n",
      "125.100.11.46\n",
      "125.100.11.47\n",
      "125.100.11.48\n",
      "125.100.11.49\n",
      "125.100.11.50\n",
      "125.100.11.51\n",
      "125.100.11.52\n",
      "125.100.11.53\n",
      "125.100.11.54\n",
      "125.100.11.55\n",
      "125.100.11.56\n",
      "125.100.11.57\n",
      "125.100.11.58\n",
      "125.100.11.59\n",
      "125.100.11.60\n",
      "125.100.11.61\n",
      "125.100.11.62\n",
      "125.100.11.63\n",
      "125.100.11.64\n",
      "125.100.11.65\n",
      "125.100.11.66\n",
      "125.100.11.67\n",
      "125.100.11.68\n",
      "125.100.11.69\n",
      "125.100.11.70\n",
      "125.100.11.71\n",
      "125.100.11.72\n",
      "125.100.11.73\n",
      "125.100.11.74\n",
      "125.100.11.75\n",
      "125.100.11.76\n",
      "125.100.11.77\n",
      "125.100.11.78\n",
      "125.100.11.79\n",
      "125.100.11.80\n",
      "125.100.11.81\n",
      "125.100.11.82\n",
      "125.100.11.83\n",
      "125.100.11.84\n",
      "125.100.11.85\n",
      "125.100.11.86\n",
      "125.100.11.87\n",
      "125.100.11.88\n",
      "125.100.11.89\n",
      "125.100.11.90\n",
      "125.100.11.91\n",
      "125.100.11.92\n",
      "125.100.11.93\n",
      "125.100.11.94\n",
      "125.100.11.95\n",
      "125.100.11.96\n",
      "125.100.11.97\n",
      "125.100.11.98\n",
      "125.100.11.99\n",
      "125.100.11.100\n",
      "125.100.11.101\n",
      "125.100.11.102\n",
      "125.100.11.103\n",
      "125.100.11.104\n",
      "125.100.11.105\n",
      "125.100.11.106\n",
      "125.100.11.107\n",
      "125.100.11.108\n",
      "125.100.11.109\n",
      "125.100.11.110\n",
      "125.100.11.111\n",
      "125.100.11.112\n",
      "125.100.11.113\n",
      "125.100.11.114\n",
      "125.100.11.115\n",
      "125.100.11.116\n",
      "125.100.11.117\n",
      "125.100.11.118\n",
      "125.100.11.119\n",
      "125.100.11.120\n",
      "125.100.11.121\n",
      "125.100.11.122\n",
      "125.100.11.123\n",
      "125.100.11.124\n",
      "125.100.11.125\n",
      "125.100.11.126\n",
      "125.100.11.127\n",
      "125.100.11.128\n",
      "125.100.11.129\n",
      "125.100.11.130\n",
      "125.100.11.131\n",
      "125.100.11.132\n",
      "125.100.11.133\n",
      "125.100.11.134\n",
      "125.100.11.135\n",
      "125.100.11.136\n",
      "125.100.11.137\n",
      "125.100.11.138\n",
      "125.100.11.139\n",
      "125.100.11.140\n",
      "125.100.11.141\n",
      "125.100.11.142\n",
      "125.100.11.143\n",
      "125.100.11.144\n",
      "125.100.11.145\n",
      "125.100.11.146\n",
      "125.100.11.147\n",
      "125.100.11.148\n",
      "125.100.11.149\n",
      "125.100.11.150\n",
      "125.100.11.151\n",
      "125.100.11.152\n",
      "125.100.11.153\n",
      "125.100.11.154\n",
      "125.100.11.155\n",
      "125.100.11.156\n",
      "125.100.11.157\n",
      "125.100.11.158\n",
      "125.100.11.159\n",
      "125.100.11.160\n",
      "125.100.11.161\n",
      "125.100.11.162\n",
      "125.100.11.163\n",
      "125.100.11.164\n",
      "125.100.11.165\n",
      "125.100.11.166\n",
      "125.100.11.167\n",
      "125.100.11.168\n",
      "125.100.11.169\n",
      "125.100.11.170\n",
      "125.100.11.171\n",
      "125.100.11.172\n",
      "125.100.11.173\n",
      "125.100.11.174\n",
      "125.100.11.175\n",
      "125.100.11.176\n",
      "125.100.11.177\n",
      "125.100.11.178\n",
      "125.100.11.179\n",
      "125.100.11.180\n",
      "125.100.11.181\n",
      "125.100.11.182\n",
      "125.100.11.183\n",
      "125.100.11.184\n",
      "125.100.11.185\n",
      "125.100.11.186\n",
      "125.100.11.187\n",
      "125.100.11.188\n",
      "125.100.11.189\n",
      "125.100.11.190\n",
      "125.100.11.191\n",
      "125.100.11.192\n",
      "125.100.11.193\n",
      "125.100.11.194\n",
      "125.100.11.195\n",
      "125.100.11.196\n",
      "125.100.11.197\n",
      "125.100.11.198\n",
      "125.100.11.199\n",
      "125.100.11.200\n",
      "125.100.11.201\n",
      "125.100.11.202\n",
      "125.100.11.203\n",
      "125.100.11.204\n",
      "125.100.11.205\n",
      "125.100.11.206\n",
      "125.100.11.207\n",
      "125.100.11.208\n",
      "125.100.11.209\n",
      "125.100.11.210\n",
      "125.100.11.211\n",
      "125.100.11.212\n",
      "125.100.11.213\n",
      "125.100.11.214\n",
      "125.100.11.215\n",
      "125.100.11.216\n",
      "125.100.11.217\n",
      "125.100.11.218\n",
      "125.100.11.219\n",
      "125.100.11.220\n",
      "125.100.11.221\n",
      "125.100.11.222\n",
      "125.100.11.223\n",
      "125.100.11.224\n",
      "125.100.11.225\n",
      "125.100.11.226\n",
      "125.100.11.227\n",
      "125.100.11.228\n",
      "125.100.11.229\n",
      "125.100.11.230\n",
      "125.100.11.231\n",
      "125.100.11.232\n",
      "125.100.11.233\n",
      "125.100.11.234\n",
      "125.100.11.235\n",
      "125.100.11.236\n",
      "125.100.11.237\n",
      "125.100.11.238\n",
      "125.100.11.239\n",
      "125.100.11.240\n",
      "125.100.11.241\n",
      "125.100.11.242\n",
      "125.100.11.243\n",
      "125.100.11.244\n",
      "125.100.11.245\n",
      "125.100.11.246\n",
      "125.100.11.247\n",
      "125.100.11.248\n",
      "125.100.11.249\n",
      "125.100.11.250\n",
      "125.100.11.251\n",
      "125.100.11.252\n",
      "125.100.11.253\n",
      "125.100.11.254\n"
     ]
    }
   ],
   "source": [
    "#Converting subnet to possible ip addresses\n",
    "import ipaddress\n",
    "\n",
    "result = pd.DataFrame()\n",
    "net4 = ipaddress.ip_network('125.100.8.0/22')\n",
    "for x in net4.hosts():\n",
    "    print(x)"
   ]
  }
 ],
 "metadata": {
  "kernelspec": {
   "display_name": "Python 3",
   "language": "python",
   "name": "python3"
  },
  "language_info": {
   "codemirror_mode": {
    "name": "ipython",
    "version": 3
   },
   "file_extension": ".py",
   "mimetype": "text/x-python",
   "name": "python",
   "nbconvert_exporter": "python",
   "pygments_lexer": "ipython3",
   "version": "3.6.3"
  }
 },
 "nbformat": 4,
 "nbformat_minor": 2
}
