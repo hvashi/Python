{
 "cells": [
  {
   "cell_type": "code",
   "execution_count": 2,
   "metadata": {},
   "outputs": [],
   "source": [
    "#Loading library\n",
    "import numpy as np\n",
    "import pandas as pd"
   ]
  },
  {
   "cell_type": "markdown",
   "metadata": {},
   "source": [
    "### Series"
   ]
  },
  {
   "cell_type": "code",
   "execution_count": 3,
   "metadata": {},
   "outputs": [
    {
     "name": "stdout",
     "output_type": "stream",
     "text": [
      "0    10\n",
      "1    20\n",
      "2    30\n",
      "dtype: int64\n",
      "\n",
      "<class 'pandas.core.series.Series'>\n"
     ]
    }
   ],
   "source": [
    "#Pandas has \"series\" and \"data frame\" objects. Data frames are created via series.\n",
    "series_object = pd.Series([10,20,30])\n",
    "print(series_object)\n",
    "print('')\n",
    "print(type(series_object))"
   ]
  },
  {
   "cell_type": "code",
   "execution_count": 8,
   "metadata": {},
   "outputs": [
    {
     "name": "stdout",
     "output_type": "stream",
     "text": [
      "Printing values:  [10 20 30]\n",
      "Printing indexes:  RangeIndex(start=0, stop=3, step=1)\n"
     ]
    }
   ],
   "source": [
    "#Series has value and index\n",
    "print('Printing values: ',series_object.values)\n",
    "print('Printing indexes: ',series_object.index)"
   ]
  },
  {
   "cell_type": "code",
   "execution_count": 17,
   "metadata": {},
   "outputs": [
    {
     "data": {
      "text/plain": [
       "10"
      ]
     },
     "execution_count": 17,
     "metadata": {},
     "output_type": "execute_result"
    }
   ],
   "source": [
    "#Series slicing - 1:\n",
    "series_object.loc[0]"
   ]
  },
  {
   "cell_type": "code",
   "execution_count": 18,
   "metadata": {},
   "outputs": [
    {
     "data": {
      "text/plain": [
       "1    20\n",
       "2    30\n",
       "dtype: int64"
      ]
     },
     "execution_count": 18,
     "metadata": {},
     "output_type": "execute_result"
    }
   ],
   "source": [
    "#Series slicing - 2:\n",
    "series_object.loc[1:]"
   ]
  },
  {
   "cell_type": "code",
   "execution_count": 21,
   "metadata": {},
   "outputs": [
    {
     "name": "stdout",
     "output_type": "stream",
     "text": [
      "30\n"
     ]
    }
   ],
   "source": [
    "#Calling series object with index value. As seen index values does not have to be in order or numeric or string.\n",
    "series_object_with_index = pd.Series([10,20,30],index=[1000,25000,'a'])\n",
    "print(series_object_with_index['a'])"
   ]
  },
  {
   "cell_type": "markdown",
   "metadata": {},
   "source": [
    "### DataFrame"
   ]
  },
  {
   "cell_type": "code",
   "execution_count": 66,
   "metadata": {},
   "outputs": [
    {
     "name": "stdout",
     "output_type": "stream",
     "text": [
      "   C1  C2\n",
      "A   1   6\n",
      "B   2   7\n",
      "C   3   8\n",
      "D   4   9\n",
      "E   5  10\n"
     ]
    }
   ],
   "source": [
    "#Creating data frame via series objects \n",
    "x = pd.Series({'A': 1, 'B': 2, 'C': 3, 'D': 4, 'E': 5})\n",
    "y = pd.Series({'A': 6, 'B': 7, 'C': 8, 'D': 9, 'E': 10})\n",
    "df = pd.DataFrame({'C1':x, 'C2':y})\n",
    "print(df)"
   ]
  },
  {
   "cell_type": "code",
   "execution_count": null,
   "metadata": {},
   "outputs": [],
   "source": [
    "#To gather column names of dataframe\n",
    "list(df)"
   ]
  },
  {
   "cell_type": "code",
   "execution_count": null,
   "metadata": {},
   "outputs": [],
   "source": [
    "#Row number in dataframe\n",
    "df.count()"
   ]
  },
  {
   "cell_type": "code",
   "execution_count": 69,
   "metadata": {},
   "outputs": [
    {
     "data": {
      "text/plain": [
       "A    1\n",
       "B    2\n",
       "C    3\n",
       "D    4\n",
       "E    5\n",
       "Name: C1, dtype: int64"
      ]
     },
     "execution_count": 69,
     "metadata": {},
     "output_type": "execute_result"
    }
   ],
   "source": [
    "#Data Frame Slicing - 1: Slicing first column of data frame\n",
    "df['C1']"
   ]
  },
  {
   "cell_type": "code",
   "execution_count": 71,
   "metadata": {},
   "outputs": [
    {
     "data": {
      "text/plain": [
       "array([1, 6])"
      ]
     },
     "execution_count": 71,
     "metadata": {},
     "output_type": "execute_result"
    }
   ],
   "source": [
    "#Data Frame Slicing - 2: Slicing first row of data frame\n",
    "df.values[0]"
   ]
  },
  {
   "cell_type": "code",
   "execution_count": 72,
   "metadata": {},
   "outputs": [
    {
     "data": {
      "text/html": [
       "<div>\n",
       "<style>\n",
       "    .dataframe thead tr:only-child th {\n",
       "        text-align: right;\n",
       "    }\n",
       "\n",
       "    .dataframe thead th {\n",
       "        text-align: left;\n",
       "    }\n",
       "\n",
       "    .dataframe tbody tr th {\n",
       "        vertical-align: top;\n",
       "    }\n",
       "</style>\n",
       "<table border=\"1\" class=\"dataframe\">\n",
       "  <thead>\n",
       "    <tr style=\"text-align: right;\">\n",
       "      <th></th>\n",
       "      <th>area</th>\n",
       "      <th>pop</th>\n",
       "    </tr>\n",
       "  </thead>\n",
       "  <tbody>\n",
       "    <tr>\n",
       "      <th>A</th>\n",
       "      <td>1</td>\n",
       "      <td>6</td>\n",
       "    </tr>\n",
       "    <tr>\n",
       "      <th>B</th>\n",
       "      <td>2</td>\n",
       "      <td>7</td>\n",
       "    </tr>\n",
       "    <tr>\n",
       "      <th>C</th>\n",
       "      <td>3</td>\n",
       "      <td>8</td>\n",
       "    </tr>\n",
       "  </tbody>\n",
       "</table>\n",
       "</div>"
      ],
      "text/plain": [
       "   area  pop\n",
       "A     1    6\n",
       "B     2    7\n",
       "C     3    8"
      ]
     },
     "execution_count": 72,
     "metadata": {},
     "output_type": "execute_result"
    }
   ],
   "source": [
    "#Data Frame Slicing - 3: First 3 rows and 2 columns or slicing row index up to 3 and column index up to 2\n",
    "#iloc is used for position indexing\n",
    "data.iloc[:3, :2]"
   ]
  },
  {
   "cell_type": "code",
   "execution_count": 75,
   "metadata": {},
   "outputs": [
    {
     "data": {
      "text/html": [
       "<div>\n",
       "<style>\n",
       "    .dataframe thead tr:only-child th {\n",
       "        text-align: right;\n",
       "    }\n",
       "\n",
       "    .dataframe thead th {\n",
       "        text-align: left;\n",
       "    }\n",
       "\n",
       "    .dataframe tbody tr th {\n",
       "        vertical-align: top;\n",
       "    }\n",
       "</style>\n",
       "<table border=\"1\" class=\"dataframe\">\n",
       "  <thead>\n",
       "    <tr style=\"text-align: right;\">\n",
       "      <th></th>\n",
       "      <th>C1</th>\n",
       "      <th>C2</th>\n",
       "    </tr>\n",
       "  </thead>\n",
       "  <tbody>\n",
       "    <tr>\n",
       "      <th>A</th>\n",
       "      <td>1</td>\n",
       "      <td>6</td>\n",
       "    </tr>\n",
       "    <tr>\n",
       "      <th>B</th>\n",
       "      <td>2</td>\n",
       "      <td>7</td>\n",
       "    </tr>\n",
       "    <tr>\n",
       "      <th>C</th>\n",
       "      <td>3</td>\n",
       "      <td>8</td>\n",
       "    </tr>\n",
       "  </tbody>\n",
       "</table>\n",
       "</div>"
      ],
      "text/plain": [
       "   C1  C2\n",
       "A   1   6\n",
       "B   2   7\n",
       "C   3   8"
      ]
     },
     "execution_count": 75,
     "metadata": {},
     "output_type": "execute_result"
    }
   ],
   "source": [
    "#Data Frame Slicing - 4: Label index including up to C and columns up to C2\n",
    "#loc is used for label indexing\n",
    "df.loc[:'C', :'C2']"
   ]
  },
  {
   "cell_type": "code",
   "execution_count": 76,
   "metadata": {},
   "outputs": [
    {
     "data": {
      "text/plain": [
       "C     8\n",
       "D     9\n",
       "E    10\n",
       "Name: C2, dtype: int64"
      ]
     },
     "execution_count": 76,
     "metadata": {},
     "output_type": "execute_result"
    }
   ],
   "source": [
    "#Data Frame Slicing - 5: Conditional slicing\n",
    "df[df['C1']>2]['C2']"
   ]
  },
  {
   "cell_type": "code",
   "execution_count": 81,
   "metadata": {},
   "outputs": [
    {
     "data": {
      "text/plain": [
       "C     8\n",
       "D     9\n",
       "E    10\n",
       "Name: C2, dtype: int64"
      ]
     },
     "execution_count": 81,
     "metadata": {},
     "output_type": "execute_result"
    }
   ],
   "source": [
    "#Data Frame Slicing - 6: Complex conditional slicing\n",
    "df[((df['C1']>2) & (df['C1']<10)) | ((df['C1'] < 2) & (df['C2'] > 100))]['C2']"
   ]
  },
  {
   "cell_type": "code",
   "execution_count": 85,
   "metadata": {},
   "outputs": [
    {
     "data": {
      "text/html": [
       "<div>\n",
       "<style>\n",
       "    .dataframe thead tr:only-child th {\n",
       "        text-align: right;\n",
       "    }\n",
       "\n",
       "    .dataframe thead th {\n",
       "        text-align: left;\n",
       "    }\n",
       "\n",
       "    .dataframe tbody tr th {\n",
       "        vertical-align: top;\n",
       "    }\n",
       "</style>\n",
       "<table border=\"1\" class=\"dataframe\">\n",
       "  <thead>\n",
       "    <tr style=\"text-align: right;\">\n",
       "      <th></th>\n",
       "      <th>C1</th>\n",
       "      <th>C2</th>\n",
       "    </tr>\n",
       "  </thead>\n",
       "  <tbody>\n",
       "    <tr>\n",
       "      <th>A</th>\n",
       "      <td>1</td>\n",
       "      <td>6</td>\n",
       "    </tr>\n",
       "    <tr>\n",
       "      <th>B</th>\n",
       "      <td>2</td>\n",
       "      <td>7</td>\n",
       "    </tr>\n",
       "    <tr>\n",
       "      <th>C</th>\n",
       "      <td>3</td>\n",
       "      <td>8</td>\n",
       "    </tr>\n",
       "  </tbody>\n",
       "</table>\n",
       "</div>"
      ],
      "text/plain": [
       "   C1  C2\n",
       "A   1   6\n",
       "B   2   7\n",
       "C   3   8"
      ]
     },
     "execution_count": 85,
     "metadata": {},
     "output_type": "execute_result"
    }
   ],
   "source": [
    "#Data Frame Slicing - 7: Label based indexing\n",
    "df['A':'C']"
   ]
  },
  {
   "cell_type": "code",
   "execution_count": 86,
   "metadata": {},
   "outputs": [
    {
     "data": {
      "text/html": [
       "<div>\n",
       "<style>\n",
       "    .dataframe thead tr:only-child th {\n",
       "        text-align: right;\n",
       "    }\n",
       "\n",
       "    .dataframe thead th {\n",
       "        text-align: left;\n",
       "    }\n",
       "\n",
       "    .dataframe tbody tr th {\n",
       "        vertical-align: top;\n",
       "    }\n",
       "</style>\n",
       "<table border=\"1\" class=\"dataframe\">\n",
       "  <thead>\n",
       "    <tr style=\"text-align: right;\">\n",
       "      <th></th>\n",
       "      <th>C1</th>\n",
       "      <th>C2</th>\n",
       "    </tr>\n",
       "  </thead>\n",
       "  <tbody>\n",
       "    <tr>\n",
       "      <th>A</th>\n",
       "      <td>1</td>\n",
       "      <td>6</td>\n",
       "    </tr>\n",
       "    <tr>\n",
       "      <th>B</th>\n",
       "      <td>2</td>\n",
       "      <td>7</td>\n",
       "    </tr>\n",
       "    <tr>\n",
       "      <th>C</th>\n",
       "      <td>3</td>\n",
       "      <td>8</td>\n",
       "    </tr>\n",
       "  </tbody>\n",
       "</table>\n",
       "</div>"
      ],
      "text/plain": [
       "   C1  C2\n",
       "A   1   6\n",
       "B   2   7\n",
       "C   3   8"
      ]
     },
     "execution_count": 86,
     "metadata": {},
     "output_type": "execute_result"
    }
   ],
   "source": [
    "#Data Frame Slicing - 8: Label based indexing\n",
    "df.loc['A':'C']"
   ]
  },
  {
   "cell_type": "code",
   "execution_count": 83,
   "metadata": {},
   "outputs": [
    {
     "data": {
      "text/html": [
       "<div>\n",
       "<style>\n",
       "    .dataframe thead tr:only-child th {\n",
       "        text-align: right;\n",
       "    }\n",
       "\n",
       "    .dataframe thead th {\n",
       "        text-align: left;\n",
       "    }\n",
       "\n",
       "    .dataframe tbody tr th {\n",
       "        vertical-align: top;\n",
       "    }\n",
       "</style>\n",
       "<table border=\"1\" class=\"dataframe\">\n",
       "  <thead>\n",
       "    <tr style=\"text-align: right;\">\n",
       "      <th></th>\n",
       "      <th>C1</th>\n",
       "      <th>C2</th>\n",
       "    </tr>\n",
       "  </thead>\n",
       "  <tbody>\n",
       "    <tr>\n",
       "      <th>A</th>\n",
       "      <td>1</td>\n",
       "      <td>6</td>\n",
       "    </tr>\n",
       "    <tr>\n",
       "      <th>B</th>\n",
       "      <td>2</td>\n",
       "      <td>7</td>\n",
       "    </tr>\n",
       "    <tr>\n",
       "      <th>C</th>\n",
       "      <td>3</td>\n",
       "      <td>8</td>\n",
       "    </tr>\n",
       "  </tbody>\n",
       "</table>\n",
       "</div>"
      ],
      "text/plain": [
       "   C1  C2\n",
       "A   1   6\n",
       "B   2   7\n",
       "C   3   8"
      ]
     },
     "execution_count": 83,
     "metadata": {},
     "output_type": "execute_result"
    }
   ],
   "source": [
    "#Data Frame Slicing - 9: Position based indexing\n",
    "df[0:3]"
   ]
  },
  {
   "cell_type": "code",
   "execution_count": 84,
   "metadata": {},
   "outputs": [
    {
     "data": {
      "text/html": [
       "<div>\n",
       "<style>\n",
       "    .dataframe thead tr:only-child th {\n",
       "        text-align: right;\n",
       "    }\n",
       "\n",
       "    .dataframe thead th {\n",
       "        text-align: left;\n",
       "    }\n",
       "\n",
       "    .dataframe tbody tr th {\n",
       "        vertical-align: top;\n",
       "    }\n",
       "</style>\n",
       "<table border=\"1\" class=\"dataframe\">\n",
       "  <thead>\n",
       "    <tr style=\"text-align: right;\">\n",
       "      <th></th>\n",
       "      <th>C1</th>\n",
       "      <th>C2</th>\n",
       "    </tr>\n",
       "  </thead>\n",
       "  <tbody>\n",
       "    <tr>\n",
       "      <th>A</th>\n",
       "      <td>1</td>\n",
       "      <td>6</td>\n",
       "    </tr>\n",
       "    <tr>\n",
       "      <th>B</th>\n",
       "      <td>2</td>\n",
       "      <td>7</td>\n",
       "    </tr>\n",
       "    <tr>\n",
       "      <th>C</th>\n",
       "      <td>3</td>\n",
       "      <td>8</td>\n",
       "    </tr>\n",
       "  </tbody>\n",
       "</table>\n",
       "</div>"
      ],
      "text/plain": [
       "   C1  C2\n",
       "A   1   6\n",
       "B   2   7\n",
       "C   3   8"
      ]
     },
     "execution_count": 84,
     "metadata": {},
     "output_type": "execute_result"
    }
   ],
   "source": [
    "#Data Frame Slicing - 10: Position based indexing\n",
    "df.iloc[0:3]"
   ]
  },
  {
   "cell_type": "code",
   "execution_count": 92,
   "metadata": {},
   "outputs": [
    {
     "name": "stdout",
     "output_type": "stream",
     "text": [
      "Multiplying data frame\n",
      "   C1  C2\n",
      "A   2  12\n",
      "B   4  14\n",
      "C   6  16\n",
      "D   8  18\n",
      "E  10  20\n",
      "\n",
      "Lets check type of the result\n",
      "\n",
      "Subtracting from data frame\n",
      "   C1  C2\n",
      "A  -1   4\n",
      "B   0   5\n",
      "C   1   6\n",
      "D   2   7\n",
      "E   3   8\n"
     ]
    }
   ],
   "source": [
    "#Operations with Data Frames\n",
    "print('Multiplying data frame')\n",
    "print(np.multiply(df,2))\n",
    "print('\\nLets check type of the result\\n')\n",
    "type(np.multiply(df,2))\n",
    "print('Subtracting from data frame')\n",
    "print(np.subtract(df,2))"
   ]
  },
  {
   "cell_type": "markdown",
   "metadata": {},
   "source": [
    "### Missing Data in DataFrame"
   ]
  },
  {
   "cell_type": "code",
   "execution_count": 105,
   "metadata": {},
   "outputs": [
    {
     "name": "stdout",
     "output_type": "stream",
     "text": [
      "    C1    C2\n",
      "A  NaN   NaN\n",
      "B  2.0   7.0\n",
      "C  3.0   8.0\n",
      "D  4.0   9.0\n",
      "E  5.0  10.0\n",
      "   C1  C2\n",
      "A   1   6\n",
      "B   2   7\n",
      "C   3   8\n",
      "D   4   9\n",
      "E   5  10\n"
     ]
    }
   ],
   "source": [
    "#Missing Data Dilemma\n",
    "#I am copying data frame in order to not change existing one and updating new one\n",
    "df_missing = df.copy()\n",
    "df_missing.iloc[0] = np.nan\n",
    "print(df_missing)\n",
    "print(df)"
   ]
  },
  {
   "cell_type": "code",
   "execution_count": 113,
   "metadata": {},
   "outputs": [
    {
     "data": {
      "text/html": [
       "<div>\n",
       "<style>\n",
       "    .dataframe thead tr:only-child th {\n",
       "        text-align: right;\n",
       "    }\n",
       "\n",
       "    .dataframe thead th {\n",
       "        text-align: left;\n",
       "    }\n",
       "\n",
       "    .dataframe tbody tr th {\n",
       "        vertical-align: top;\n",
       "    }\n",
       "</style>\n",
       "<table border=\"1\" class=\"dataframe\">\n",
       "  <thead>\n",
       "    <tr style=\"text-align: right;\">\n",
       "      <th></th>\n",
       "      <th>C1</th>\n",
       "      <th>C2</th>\n",
       "    </tr>\n",
       "  </thead>\n",
       "  <tbody>\n",
       "    <tr>\n",
       "      <th>A</th>\n",
       "      <td>True</td>\n",
       "      <td>True</td>\n",
       "    </tr>\n",
       "    <tr>\n",
       "      <th>B</th>\n",
       "      <td>False</td>\n",
       "      <td>False</td>\n",
       "    </tr>\n",
       "    <tr>\n",
       "      <th>C</th>\n",
       "      <td>False</td>\n",
       "      <td>False</td>\n",
       "    </tr>\n",
       "    <tr>\n",
       "      <th>D</th>\n",
       "      <td>False</td>\n",
       "      <td>False</td>\n",
       "    </tr>\n",
       "    <tr>\n",
       "      <th>E</th>\n",
       "      <td>False</td>\n",
       "      <td>False</td>\n",
       "    </tr>\n",
       "  </tbody>\n",
       "</table>\n",
       "</div>"
      ],
      "text/plain": [
       "      C1     C2\n",
       "A   True   True\n",
       "B  False  False\n",
       "C  False  False\n",
       "D  False  False\n",
       "E  False  False"
      ]
     },
     "execution_count": 113,
     "metadata": {},
     "output_type": "execute_result"
    }
   ],
   "source": [
    "#Checking missing data\n",
    "df_missing.isnull()"
   ]
  },
  {
   "cell_type": "code",
   "execution_count": 116,
   "metadata": {},
   "outputs": [
    {
     "name": "stdout",
     "output_type": "stream",
     "text": [
      "Sum of elements:\n",
      " 55\n",
      "Sum of non missing elements:\n",
      " 48.0\n"
     ]
    }
   ],
   "source": [
    "#Sum of elements\n",
    "print('Sum of elements:\\n',np.nansum(df))\n",
    "print('Sum of non missing elements:\\n',np.nansum(df_missing))"
   ]
  },
  {
   "cell_type": "code",
   "execution_count": 130,
   "metadata": {},
   "outputs": [
    {
     "data": {
      "text/html": [
       "<div>\n",
       "<style>\n",
       "    .dataframe thead tr:only-child th {\n",
       "        text-align: right;\n",
       "    }\n",
       "\n",
       "    .dataframe thead th {\n",
       "        text-align: left;\n",
       "    }\n",
       "\n",
       "    .dataframe tbody tr th {\n",
       "        vertical-align: top;\n",
       "    }\n",
       "</style>\n",
       "<table border=\"1\" class=\"dataframe\">\n",
       "  <thead>\n",
       "    <tr style=\"text-align: right;\">\n",
       "      <th></th>\n",
       "      <th>C1</th>\n",
       "      <th>C2</th>\n",
       "    </tr>\n",
       "  </thead>\n",
       "  <tbody>\n",
       "    <tr>\n",
       "      <th>B</th>\n",
       "      <td>2.0</td>\n",
       "      <td>7.0</td>\n",
       "    </tr>\n",
       "    <tr>\n",
       "      <th>C</th>\n",
       "      <td>3.0</td>\n",
       "      <td>8.0</td>\n",
       "    </tr>\n",
       "    <tr>\n",
       "      <th>D</th>\n",
       "      <td>4.0</td>\n",
       "      <td>9.0</td>\n",
       "    </tr>\n",
       "    <tr>\n",
       "      <th>E</th>\n",
       "      <td>5.0</td>\n",
       "      <td>10.0</td>\n",
       "    </tr>\n",
       "  </tbody>\n",
       "</table>\n",
       "</div>"
      ],
      "text/plain": [
       "    C1    C2\n",
       "B  2.0   7.0\n",
       "C  3.0   8.0\n",
       "D  4.0   9.0\n",
       "E  5.0  10.0"
      ]
     },
     "execution_count": 130,
     "metadata": {},
     "output_type": "execute_result"
    }
   ],
   "source": [
    "#Deleting missing rows\n",
    "df_missing.dropna()"
   ]
  },
  {
   "cell_type": "code",
   "execution_count": 132,
   "metadata": {},
   "outputs": [
    {
     "data": {
      "text/html": [
       "<div>\n",
       "<style>\n",
       "    .dataframe thead tr:only-child th {\n",
       "        text-align: right;\n",
       "    }\n",
       "\n",
       "    .dataframe thead th {\n",
       "        text-align: left;\n",
       "    }\n",
       "\n",
       "    .dataframe tbody tr th {\n",
       "        vertical-align: top;\n",
       "    }\n",
       "</style>\n",
       "<table border=\"1\" class=\"dataframe\">\n",
       "  <thead>\n",
       "    <tr style=\"text-align: right;\">\n",
       "      <th></th>\n",
       "      <th>C1</th>\n",
       "      <th>C2</th>\n",
       "    </tr>\n",
       "  </thead>\n",
       "  <tbody>\n",
       "    <tr>\n",
       "      <th>A</th>\n",
       "      <td>99.0</td>\n",
       "      <td>99.0</td>\n",
       "    </tr>\n",
       "    <tr>\n",
       "      <th>B</th>\n",
       "      <td>2.0</td>\n",
       "      <td>7.0</td>\n",
       "    </tr>\n",
       "    <tr>\n",
       "      <th>C</th>\n",
       "      <td>3.0</td>\n",
       "      <td>8.0</td>\n",
       "    </tr>\n",
       "    <tr>\n",
       "      <th>D</th>\n",
       "      <td>4.0</td>\n",
       "      <td>9.0</td>\n",
       "    </tr>\n",
       "    <tr>\n",
       "      <th>E</th>\n",
       "      <td>5.0</td>\n",
       "      <td>10.0</td>\n",
       "    </tr>\n",
       "  </tbody>\n",
       "</table>\n",
       "</div>"
      ],
      "text/plain": [
       "     C1    C2\n",
       "A  99.0  99.0\n",
       "B   2.0   7.0\n",
       "C   3.0   8.0\n",
       "D   4.0   9.0\n",
       "E   5.0  10.0"
      ]
     },
     "execution_count": 132,
     "metadata": {},
     "output_type": "execute_result"
    }
   ],
   "source": [
    "#Filling missing data\n",
    "df_missing.fillna(99)"
   ]
  },
  {
   "cell_type": "markdown",
   "metadata": {},
   "source": [
    "### Concat in DataFrame"
   ]
  },
  {
   "cell_type": "code",
   "execution_count": 134,
   "metadata": {},
   "outputs": [
    {
     "name": "stdout",
     "output_type": "stream",
     "text": [
      "[1 2 3 4 5 6]\n"
     ]
    }
   ],
   "source": [
    "#Creating arrays\n",
    "A = [1,2,3]\n",
    "B = [4,5,6]\n",
    "print(np.concatenate([A,B]))"
   ]
  },
  {
   "cell_type": "code",
   "execution_count": 149,
   "metadata": {},
   "outputs": [
    {
     "name": "stdout",
     "output_type": "stream",
     "text": [
      "Numpy concat:\n",
      "\n",
      "[1 2 3 4 5 6]\n",
      "\n",
      "\n",
      "<class 'numpy.ndarray'>\n",
      "\n",
      "\n",
      "Pandas concat:\n",
      "\n",
      "A    1\n",
      "B    2\n",
      "C    3\n",
      "A    4\n",
      "B    5\n",
      "C    6\n",
      "dtype: int64\n",
      "\n",
      "\n",
      "<class 'pandas.core.series.Series'>\n",
      "\n",
      "\n"
     ]
    }
   ],
   "source": [
    "#Creating series\n",
    "X = pd.Series([1,2,3],index=['A','B','C'])\n",
    "Y = pd.Series([4,5,6],index=['A','B','C'])\n",
    "print('Numpy concat:\\n')\n",
    "print(np.concatenate([X,Y]))\n",
    "print('\\n')\n",
    "print(type(np.concatenate([X,Y])))\n",
    "print('\\n')\n",
    "print('Pandas concat:\\n')\n",
    "print(pd.concat([X,Y]))\n",
    "print('\\n')\n",
    "print(type(pd.concat([X,Y])))\n",
    "print('\\n')"
   ]
  },
  {
   "cell_type": "code",
   "execution_count": 151,
   "metadata": {},
   "outputs": [
    {
     "name": "stdout",
     "output_type": "stream",
     "text": [
      "   C1  C2\n",
      "A   1   4\n",
      "B   2   5\n",
      "C   3   6\n",
      "<class 'pandas.core.frame.DataFrame'>\n"
     ]
    }
   ],
   "source": [
    "#Creating data frame\n",
    "df = pd.DataFrame({'C1':X, 'C2':Y})\n",
    "print(df)\n",
    "print(type(df))"
   ]
  },
  {
   "cell_type": "code",
   "execution_count": 155,
   "metadata": {},
   "outputs": [
    {
     "name": "stdout",
     "output_type": "stream",
     "text": [
      "Same of the old one\n",
      "\n",
      "   C1  C2\n",
      "A   1   4\n",
      "B   2   5\n",
      "C   3   6 \n",
      "\n",
      "Multiplying the old one with 2\n",
      "\n",
      "   C1  C2\n",
      "A   2   8\n",
      "B   4  10\n",
      "C   6  12 \n",
      "\n"
     ]
    }
   ],
   "source": [
    "#Creating new data frames via old one\n",
    "print('Same of the old one\\n')\n",
    "df_1 = df.copy()\n",
    "print(df_1,'\\n')\n",
    "print('Multiplying the old one with 2\\n')\n",
    "df_2 = (df*2).copy()\n",
    "print(df_2,'\\n')"
   ]
  },
  {
   "cell_type": "code",
   "execution_count": 159,
   "metadata": {},
   "outputs": [
    {
     "name": "stdout",
     "output_type": "stream",
     "text": [
      "   C1  C2\n",
      "A   1   4\n",
      "B   2   5\n",
      "C   3   6\n",
      "A   2   8\n",
      "B   4  10\n",
      "C   6  12\n"
     ]
    }
   ],
   "source": [
    "#Appending DataFrames - 1: Same size and label\n",
    "#Here concat is inserting second dataframe to first dataframes. This is default behaviour of pandas concat\n",
    "print(pd.concat([df_1, df_2]))"
   ]
  },
  {
   "cell_type": "code",
   "execution_count": 161,
   "metadata": {},
   "outputs": [
    {
     "name": "stdout",
     "output_type": "stream",
     "text": [
      "   C1  C2  C1  C2\n",
      "A   1   4   2   8\n",
      "B   2   5   4  10\n",
      "C   3   6   6  12\n"
     ]
    }
   ],
   "source": [
    "#Appending DataFrames - 2: Same size and label\n",
    "#We can change inserting behaviour. Default axis=0 which is row. We changed it to axis=2\n",
    "print(pd.concat([df_1, df_2],axis=1))"
   ]
  },
  {
   "cell_type": "code",
   "execution_count": 166,
   "metadata": {},
   "outputs": [
    {
     "name": "stdout",
     "output_type": "stream",
     "text": [
      "Original concat\n",
      "\n",
      "   C1  C2\n",
      "A   1   4\n",
      "B   2   5\n",
      "C   3   6\n",
      "A   2   8\n",
      "B   4  10\n",
      "C   6  12\n",
      "\n",
      "Concat with ignoring index\n",
      "   C1  C2\n",
      "0   1   4\n",
      "1   2   5\n",
      "2   3   6\n",
      "3   2   8\n",
      "4   4  10\n",
      "5   6  12\n",
      "\n"
     ]
    }
   ],
   "source": [
    "#Appending DataFrames - 3: Indexing problem\n",
    "#For row concat there becomes a repeating index problem\n",
    "print('Original concat\\n')\n",
    "print(pd.concat([df_1, df_2]))\n",
    "print('')\n",
    "#In order to solve this problem we must ignore original indexes\n",
    "print('Concat with ignoring index')\n",
    "print(pd.concat([df_1, df_2], ignore_index=True))\n",
    "print('')"
   ]
  },
  {
   "cell_type": "markdown",
   "metadata": {},
   "source": [
    "### Join and Merge in DataFrame"
   ]
  },
  {
   "cell_type": "code",
   "execution_count": 182,
   "metadata": {},
   "outputs": [
    {
     "name": "stdout",
     "output_type": "stream",
     "text": [
      "New df_2:    C3  C4\n",
      "A   2   8\n",
      "B   4  10\n",
      "C   6  12\n",
      "\n",
      "Original concat produces NaN values because of different columns\n",
      "\n",
      "    C1   C2   C3    C4\n",
      "A  1.0  4.0  NaN   NaN\n",
      "B  2.0  5.0  NaN   NaN\n",
      "C  3.0  6.0  NaN   NaN\n",
      "A  NaN  NaN  2.0   8.0\n",
      "B  NaN  NaN  4.0  10.0\n",
      "C  NaN  NaN  6.0  12.0\n",
      "\n",
      "Using default join:\n",
      "\n",
      "    C1   C2   C3    C4\n",
      "A  1.0  4.0  NaN   NaN\n",
      "B  2.0  5.0  NaN   NaN\n",
      "C  3.0  6.0  NaN   NaN\n",
      "A  NaN  NaN  2.0   8.0\n",
      "B  NaN  NaN  4.0  10.0\n",
      "C  NaN  NaN  6.0  12.0\n",
      "\n",
      "Default join is outer as seen above\n"
     ]
    }
   ],
   "source": [
    "#Join and Merge in DataFrame - 1:\n",
    "#Changing column names for join\n",
    "df_2.columns = ['C3','C4']\n",
    "print('New df_2:',df_2)\n",
    "print('')\n",
    "print('Original concat produces NaN values because of different columns\\n')\n",
    "print(pd.concat([df_1, df_2]))\n",
    "print('')\n",
    "print('Using default join:')\n",
    "print('')\n",
    "print(pd.concat([df_1, df_2],join='outer'))\n",
    "print('')\n",
    "print('Default join is outer as seen above')"
   ]
  },
  {
   "cell_type": "code",
   "execution_count": 191,
   "metadata": {},
   "outputs": [],
   "source": [
    "#Join and Merge in DataFrame - 2:\n",
    "#Creating efficient data set for join\n",
    "df_personel_group = pd.DataFrame({'personel': ['A', 'B', 'C', 'D'],\n",
    "                                  'department': ['X', 'Y', 'Y', 'Z']})\n",
    "df_personel_age = pd.DataFrame({'personel': ['A', 'B', 'C', 'D'],'age': [40, 20, 30, 60]})"
   ]
  },
  {
   "cell_type": "code",
   "execution_count": 187,
   "metadata": {},
   "outputs": [
    {
     "name": "stdout",
     "output_type": "stream",
     "text": [
      "  department personel\n",
      "0          X        A\n",
      "1          Y        B\n",
      "2          Y        C\n",
      "3          Z        D\n",
      "   age personel\n",
      "0   40        A\n",
      "1   20        B\n",
      "2   30        C\n",
      "3   60        D\n"
     ]
    }
   ],
   "source": [
    "#Displaying DataFrames\n",
    "print(df_personel_group)\n",
    "print(df_personel_age)"
   ]
  },
  {
   "cell_type": "code",
   "execution_count": 188,
   "metadata": {},
   "outputs": [
    {
     "data": {
      "text/html": [
       "<div>\n",
       "<style>\n",
       "    .dataframe thead tr:only-child th {\n",
       "        text-align: right;\n",
       "    }\n",
       "\n",
       "    .dataframe thead th {\n",
       "        text-align: left;\n",
       "    }\n",
       "\n",
       "    .dataframe tbody tr th {\n",
       "        vertical-align: top;\n",
       "    }\n",
       "</style>\n",
       "<table border=\"1\" class=\"dataframe\">\n",
       "  <thead>\n",
       "    <tr style=\"text-align: right;\">\n",
       "      <th></th>\n",
       "      <th>department</th>\n",
       "      <th>personel</th>\n",
       "      <th>age</th>\n",
       "    </tr>\n",
       "  </thead>\n",
       "  <tbody>\n",
       "    <tr>\n",
       "      <th>0</th>\n",
       "      <td>X</td>\n",
       "      <td>A</td>\n",
       "      <td>40</td>\n",
       "    </tr>\n",
       "    <tr>\n",
       "      <th>1</th>\n",
       "      <td>Y</td>\n",
       "      <td>B</td>\n",
       "      <td>20</td>\n",
       "    </tr>\n",
       "    <tr>\n",
       "      <th>2</th>\n",
       "      <td>Y</td>\n",
       "      <td>C</td>\n",
       "      <td>30</td>\n",
       "    </tr>\n",
       "    <tr>\n",
       "      <th>3</th>\n",
       "      <td>Z</td>\n",
       "      <td>D</td>\n",
       "      <td>60</td>\n",
       "    </tr>\n",
       "  </tbody>\n",
       "</table>\n",
       "</div>"
      ],
      "text/plain": [
       "  department personel  age\n",
       "0          X        A   40\n",
       "1          Y        B   20\n",
       "2          Y        C   30\n",
       "3          Z        D   60"
      ]
     },
     "execution_count": 188,
     "metadata": {},
     "output_type": "execute_result"
    }
   ],
   "source": [
    "#Merging DataFrames using inner join on key column(One-toone)\n",
    "pd.merge(df_personel_group,df_personel_age,how='inner',on='personel')"
   ]
  },
  {
   "cell_type": "code",
   "execution_count": 205,
   "metadata": {
    "scrolled": true
   },
   "outputs": [],
   "source": [
    "#Join and Merge in DataFrame - 3:\n",
    "#Adding rows to df_personel_age\n",
    "df_new_personel = pd.DataFrame({'personel':['E','F','G'],'age':[40,25,30]})\n",
    "df_personel_age = pd.concat([df_personel_age, df_new_personel], ignore_index=True)"
   ]
  },
  {
   "cell_type": "code",
   "execution_count": 212,
   "metadata": {},
   "outputs": [
    {
     "name": "stdout",
     "output_type": "stream",
     "text": [
      "  department personel  age\n",
      "0          X        A   40\n",
      "1          Y        B   20\n",
      "2          Y        C   30\n",
      "3          Z        D   60\n",
      "   age personel department\n",
      "0   40        A          X\n",
      "1   20        B          Y\n",
      "2   30        C          Y\n",
      "3   60        D          Z\n",
      "   age personel department\n",
      "0   40        A          X\n",
      "1   20        B          Y\n",
      "2   30        C          Y\n",
      "3   60        D          Z\n",
      "4   40        E        NaN\n",
      "5   25        F        NaN\n",
      "6   30        G        NaN\n",
      "   age personel department\n",
      "0   40        A          X\n",
      "1   20        B          Y\n",
      "2   30        C          Y\n",
      "3   60        D          Z\n",
      "4   40        E        NaN\n",
      "5   25        F        NaN\n",
      "6   30        G        NaN\n"
     ]
    }
   ],
   "source": [
    "#One to Many Joins\n",
    "print(pd.merge(df_personel_group,df_personel_age,how='inner',on='personel'))\n",
    "print(pd.merge(df_personel_age,df_personel_group,how='inner',on='personel'))\n",
    "print(pd.merge(df_personel_age,df_personel_group,how='outer',on='personel'))\n",
    "print(pd.merge(df_personel_age,df_personel_group,how='outer',left_on='personel',right_on='personel'))"
   ]
  },
  {
   "cell_type": "markdown",
   "metadata": {},
   "source": [
    "### Aggregation and Grouping"
   ]
  },
  {
   "cell_type": "code",
   "execution_count": 3,
   "metadata": {},
   "outputs": [],
   "source": [
    "#Gathering Data\n",
    "credit = pd.read_csv(r\"/home/seckindinc/Desktop/Github/Python/Data-Sets/Risk.txt\",sep=\",\",index_col=False)"
   ]
  },
  {
   "cell_type": "code",
   "execution_count": 215,
   "metadata": {},
   "outputs": [
    {
     "data": {
      "text/html": [
       "<div>\n",
       "<style>\n",
       "    .dataframe thead tr:only-child th {\n",
       "        text-align: right;\n",
       "    }\n",
       "\n",
       "    .dataframe thead th {\n",
       "        text-align: left;\n",
       "    }\n",
       "\n",
       "    .dataframe tbody tr th {\n",
       "        vertical-align: top;\n",
       "    }\n",
       "</style>\n",
       "<table border=\"1\" class=\"dataframe\">\n",
       "  <thead>\n",
       "    <tr style=\"text-align: right;\">\n",
       "      <th></th>\n",
       "      <th>ID</th>\n",
       "      <th>AGE</th>\n",
       "      <th>INCOME</th>\n",
       "      <th>GENDER</th>\n",
       "      <th>MARITAL</th>\n",
       "      <th>NUMKIDS</th>\n",
       "      <th>NUMCARDS</th>\n",
       "      <th>HOWPAID</th>\n",
       "      <th>MORTGAGE</th>\n",
       "      <th>STORECAR</th>\n",
       "      <th>LOANS</th>\n",
       "      <th>RISK</th>\n",
       "    </tr>\n",
       "  </thead>\n",
       "  <tbody>\n",
       "    <tr>\n",
       "      <th>0</th>\n",
       "      <td>100756</td>\n",
       "      <td>44</td>\n",
       "      <td>59944</td>\n",
       "      <td>m</td>\n",
       "      <td>married</td>\n",
       "      <td>1</td>\n",
       "      <td>2</td>\n",
       "      <td>monthly</td>\n",
       "      <td>y</td>\n",
       "      <td>2</td>\n",
       "      <td>0</td>\n",
       "      <td>good risk</td>\n",
       "    </tr>\n",
       "    <tr>\n",
       "      <th>1</th>\n",
       "      <td>100668</td>\n",
       "      <td>35</td>\n",
       "      <td>59692</td>\n",
       "      <td>m</td>\n",
       "      <td>married</td>\n",
       "      <td>1</td>\n",
       "      <td>1</td>\n",
       "      <td>monthly</td>\n",
       "      <td>y</td>\n",
       "      <td>1</td>\n",
       "      <td>0</td>\n",
       "      <td>bad loss</td>\n",
       "    </tr>\n",
       "    <tr>\n",
       "      <th>2</th>\n",
       "      <td>100418</td>\n",
       "      <td>34</td>\n",
       "      <td>59508</td>\n",
       "      <td>m</td>\n",
       "      <td>married</td>\n",
       "      <td>1</td>\n",
       "      <td>1</td>\n",
       "      <td>monthly</td>\n",
       "      <td>y</td>\n",
       "      <td>2</td>\n",
       "      <td>1</td>\n",
       "      <td>good risk</td>\n",
       "    </tr>\n",
       "    <tr>\n",
       "      <th>3</th>\n",
       "      <td>100416</td>\n",
       "      <td>34</td>\n",
       "      <td>59463</td>\n",
       "      <td>m</td>\n",
       "      <td>married</td>\n",
       "      <td>0</td>\n",
       "      <td>2</td>\n",
       "      <td>monthly</td>\n",
       "      <td>y</td>\n",
       "      <td>1</td>\n",
       "      <td>1</td>\n",
       "      <td>bad loss</td>\n",
       "    </tr>\n",
       "    <tr>\n",
       "      <th>4</th>\n",
       "      <td>100590</td>\n",
       "      <td>39</td>\n",
       "      <td>59393</td>\n",
       "      <td>f</td>\n",
       "      <td>married</td>\n",
       "      <td>0</td>\n",
       "      <td>2</td>\n",
       "      <td>monthly</td>\n",
       "      <td>y</td>\n",
       "      <td>1</td>\n",
       "      <td>0</td>\n",
       "      <td>good risk</td>\n",
       "    </tr>\n",
       "  </tbody>\n",
       "</table>\n",
       "</div>"
      ],
      "text/plain": [
       "       ID  AGE  INCOME GENDER    MARITAL  NUMKIDS  NUMCARDS  HOWPAID MORTGAGE  \\\n",
       "0  100756   44   59944      m  married          1         2  monthly        y   \n",
       "1  100668   35   59692      m  married          1         1  monthly        y   \n",
       "2  100418   34   59508      m  married          1         1  monthly        y   \n",
       "3  100416   34   59463      m  married          0         2  monthly        y   \n",
       "4  100590   39   59393      f  married          0         2  monthly        y   \n",
       "\n",
       "   STORECAR  LOANS        RISK  \n",
       "0         2      0  good risk   \n",
       "1         1      0  bad loss    \n",
       "2         2      1  good risk   \n",
       "3         1      1  bad loss    \n",
       "4         1      0  good risk   "
      ]
     },
     "execution_count": 215,
     "metadata": {},
     "output_type": "execute_result"
    }
   ],
   "source": [
    "#First couple rows\n",
    "credit.head()"
   ]
  },
  {
   "cell_type": "code",
   "execution_count": 220,
   "metadata": {},
   "outputs": [
    {
     "name": "stdout",
     "output_type": "stream",
     "text": [
      "Sum of Age column:\n",
      " 131001\n",
      "Average of Age column:\n",
      " 31.819528783094487\n"
     ]
    }
   ],
   "source": [
    "#Aggregate -1: Basics\n",
    "print('Sum of Age column:\\n',credit['AGE'].sum())\n",
    "print('Average of Age column:\\n',credit['AGE'].mean())"
   ]
  },
  {
   "cell_type": "code",
   "execution_count": 240,
   "metadata": {
    "collapsed": true
   },
   "outputs": [
    {
     "data": {
      "text/plain": [
       "       MORTGAGE\n",
       "count  n            917.000000\n",
       "       y           3200.000000\n",
       "mean   n             33.593239\n",
       "       y             31.311250\n",
       "std    n             10.477845\n",
       "       y              9.639322\n",
       "min    n             20.000000\n",
       "       y             18.000000\n",
       "25%    n             23.000000\n",
       "       y             22.000000\n",
       "50%    n             33.000000\n",
       "       y             30.000000\n",
       "75%    n             44.000000\n",
       "       y             40.000000\n",
       "max    n             50.000000\n",
       "       y             50.000000\n",
       "dtype: float64"
      ]
     },
     "execution_count": 240,
     "metadata": {},
     "output_type": "execute_result"
    }
   ],
   "source": [
    "#Aggregate -2: Descriptive Statistics\n",
    "credit.groupby('MORTGAGE')['AGE'].describe().unstack()"
   ]
  },
  {
   "cell_type": "code",
   "execution_count": 237,
   "metadata": {},
   "outputs": [
    {
     "name": "stdout",
     "output_type": "stream",
     "text": [
      "AGE non null row counts based on MORTAGAGE class, MORTGAGE\n",
      "n     917\n",
      "y    3200\n",
      "Name: AGE, dtype: int64\n",
      "\n",
      "AGE non null medians based on MORTAGAGE class, MORTGAGE\n",
      "n    33\n",
      "y    30\n",
      "Name: AGE, dtype: int64\n"
     ]
    }
   ],
   "source": [
    "#Aggregate -3: Group bying based on a column and counting another column\n",
    "print('AGE non null row counts based on MORTAGAGE class,',credit.groupby('MORTGAGE')['AGE'].count())\n",
    "print('')\n",
    "print('AGE non null medians based on MORTAGAGE class,',credit.groupby('MORTGAGE')['AGE'].median())"
   ]
  },
  {
   "cell_type": "code",
   "execution_count": 266,
   "metadata": {
    "collapsed": true
   },
   "outputs": [
    {
     "data": {
      "text/html": [
       "<div>\n",
       "<style>\n",
       "    .dataframe thead tr:only-child th {\n",
       "        text-align: right;\n",
       "    }\n",
       "\n",
       "    .dataframe thead th {\n",
       "        text-align: left;\n",
       "    }\n",
       "\n",
       "    .dataframe tbody tr th {\n",
       "        vertical-align: top;\n",
       "    }\n",
       "</style>\n",
       "<table border=\"1\" class=\"dataframe\">\n",
       "  <thead>\n",
       "    <tr>\n",
       "      <th></th>\n",
       "      <th colspan=\"3\" halign=\"left\">AGE</th>\n",
       "      <th colspan=\"3\" halign=\"left\">INCOME</th>\n",
       "    </tr>\n",
       "    <tr>\n",
       "      <th></th>\n",
       "      <th>min</th>\n",
       "      <th>median</th>\n",
       "      <th>max</th>\n",
       "      <th>min</th>\n",
       "      <th>median</th>\n",
       "      <th>max</th>\n",
       "    </tr>\n",
       "    <tr>\n",
       "      <th>MORTGAGE</th>\n",
       "      <th></th>\n",
       "      <th></th>\n",
       "      <th></th>\n",
       "      <th></th>\n",
       "      <th></th>\n",
       "      <th></th>\n",
       "    </tr>\n",
       "  </thead>\n",
       "  <tbody>\n",
       "    <tr>\n",
       "      <th>n</th>\n",
       "      <td>20</td>\n",
       "      <td>33</td>\n",
       "      <td>50</td>\n",
       "      <td>15046</td>\n",
       "      <td>22918.0</td>\n",
       "      <td>29986</td>\n",
       "    </tr>\n",
       "    <tr>\n",
       "      <th>y</th>\n",
       "      <td>18</td>\n",
       "      <td>30</td>\n",
       "      <td>50</td>\n",
       "      <td>15005</td>\n",
       "      <td>23645.5</td>\n",
       "      <td>59944</td>\n",
       "    </tr>\n",
       "  </tbody>\n",
       "</table>\n",
       "</div>"
      ],
      "text/plain": [
       "         AGE            INCOME                \n",
       "         min median max    min   median    max\n",
       "MORTGAGE                                      \n",
       "n         20     33  50  15046  22918.0  29986\n",
       "y         18     30  50  15005  23645.5  59944"
      ]
     },
     "execution_count": 266,
     "metadata": {},
     "output_type": "execute_result"
    }
   ],
   "source": [
    "#Aggregate\n",
    "credit.groupby('MORTGAGE')['AGE','INCOME'].aggregate(['min', np.median, max])"
   ]
  },
  {
   "cell_type": "code",
   "execution_count": 268,
   "metadata": {
    "collapsed": true
   },
   "outputs": [
    {
     "data": {
      "text/plain": [
       "0       12.688750\n",
       "1        3.688750\n",
       "2        2.688750\n",
       "3        2.688750\n",
       "4        7.688750\n",
       "5        9.688750\n",
       "6       10.688750\n",
       "7       -0.311250\n",
       "8       -3.311250\n",
       "9       -1.311250\n",
       "10       6.688750\n",
       "11       4.688750\n",
       "12      10.688750\n",
       "13      12.688750\n",
       "14       1.688750\n",
       "15      13.688750\n",
       "16       2.688750\n",
       "17       0.688750\n",
       "18       3.688750\n",
       "19       6.688750\n",
       "20      -3.311250\n",
       "21      11.688750\n",
       "22       9.688750\n",
       "23      11.688750\n",
       "24      12.688750\n",
       "25       5.688750\n",
       "26       2.688750\n",
       "27       1.688750\n",
       "28       6.688750\n",
       "29       7.688750\n",
       "          ...    \n",
       "4087    -7.311250\n",
       "4088     7.406761\n",
       "4089    -4.311250\n",
       "4090   -12.593239\n",
       "4091    -3.593239\n",
       "4092   -12.311250\n",
       "4093   -10.311250\n",
       "4094    -7.311250\n",
       "4095    11.688750\n",
       "4096     6.406761\n",
       "4097     3.406761\n",
       "4098   -11.593239\n",
       "4099    12.406761\n",
       "4100    -4.311250\n",
       "4101   -11.311250\n",
       "4102   -10.311250\n",
       "4103   -10.311250\n",
       "4104    14.406761\n",
       "4105    -5.593239\n",
       "4106     4.688750\n",
       "4107   -12.593239\n",
       "4108    -6.311250\n",
       "4109   -10.311250\n",
       "4110     7.406761\n",
       "4111    -7.311250\n",
       "4112   -11.311250\n",
       "4113    -8.311250\n",
       "4114    -6.311250\n",
       "4115    -7.311250\n",
       "4116    18.688750\n",
       "Name: AGE, Length: 4117, dtype: float64"
      ]
     },
     "execution_count": 268,
     "metadata": {},
     "output_type": "execute_result"
    }
   ],
   "source": [
    "#Transformation\n",
    "credit.groupby('MORTGAGE')['AGE'].transform(lambda x: x - x.mean())"
   ]
  },
  {
   "cell_type": "code",
   "execution_count": 270,
   "metadata": {},
   "outputs": [
    {
     "data": {
      "text/html": [
       "<div>\n",
       "<style>\n",
       "    .dataframe thead tr:only-child th {\n",
       "        text-align: right;\n",
       "    }\n",
       "\n",
       "    .dataframe thead th {\n",
       "        text-align: left;\n",
       "    }\n",
       "\n",
       "    .dataframe tbody tr th {\n",
       "        vertical-align: top;\n",
       "    }\n",
       "</style>\n",
       "<table border=\"1\" class=\"dataframe\">\n",
       "  <thead>\n",
       "    <tr style=\"text-align: right;\">\n",
       "      <th>HOWPAID</th>\n",
       "      <th>monthly</th>\n",
       "      <th>weekly</th>\n",
       "    </tr>\n",
       "    <tr>\n",
       "      <th>MORTGAGE</th>\n",
       "      <th></th>\n",
       "      <th></th>\n",
       "    </tr>\n",
       "  </thead>\n",
       "  <tbody>\n",
       "    <tr>\n",
       "      <th>n</th>\n",
       "      <td>24.460581</td>\n",
       "      <td>36.849112</td>\n",
       "    </tr>\n",
       "    <tr>\n",
       "      <th>y</th>\n",
       "      <td>31.092997</td>\n",
       "      <td>31.586572</td>\n",
       "    </tr>\n",
       "  </tbody>\n",
       "</table>\n",
       "</div>"
      ],
      "text/plain": [
       "HOWPAID     monthly    weekly \n",
       "MORTGAGE                      \n",
       "n         24.460581  36.849112\n",
       "y         31.092997  31.586572"
      ]
     },
     "execution_count": 270,
     "metadata": {},
     "output_type": "execute_result"
    }
   ],
   "source": [
    "#Pivot Tables default creates mean\n",
    "credit.pivot_table('AGE', index='MORTGAGE', columns='HOWPAID')"
   ]
  },
  {
   "cell_type": "code",
   "execution_count": 4,
   "metadata": {},
   "outputs": [
    {
     "data": {
      "text/html": [
       "<div>\n",
       "<style>\n",
       "    .dataframe thead tr:only-child th {\n",
       "        text-align: right;\n",
       "    }\n",
       "\n",
       "    .dataframe thead th {\n",
       "        text-align: left;\n",
       "    }\n",
       "\n",
       "    .dataframe tbody tr th {\n",
       "        vertical-align: top;\n",
       "    }\n",
       "</style>\n",
       "<table border=\"1\" class=\"dataframe\">\n",
       "  <thead>\n",
       "    <tr style=\"text-align: right;\">\n",
       "      <th></th>\n",
       "      <th>HOWPAID</th>\n",
       "      <th>monthly</th>\n",
       "      <th>weekly</th>\n",
       "    </tr>\n",
       "    <tr>\n",
       "      <th>MORTGAGE</th>\n",
       "      <th>MARITAL</th>\n",
       "      <th></th>\n",
       "      <th></th>\n",
       "    </tr>\n",
       "  </thead>\n",
       "  <tbody>\n",
       "    <tr>\n",
       "      <th rowspan=\"2\" valign=\"top\">n</th>\n",
       "      <th>divsepwid</th>\n",
       "      <td>NaN</td>\n",
       "      <td>42.440171</td>\n",
       "    </tr>\n",
       "    <tr>\n",
       "      <th>single</th>\n",
       "      <td>24.460581</td>\n",
       "      <td>24.269231</td>\n",
       "    </tr>\n",
       "    <tr>\n",
       "      <th rowspan=\"3\" valign=\"top\">y</th>\n",
       "      <th>divsepwid</th>\n",
       "      <td>NaN</td>\n",
       "      <td>42.666667</td>\n",
       "    </tr>\n",
       "    <tr>\n",
       "      <th>married</th>\n",
       "      <td>31.518490</td>\n",
       "      <td>28.006321</td>\n",
       "    </tr>\n",
       "    <tr>\n",
       "      <th>single</th>\n",
       "      <td>29.958932</td>\n",
       "      <td>24.027397</td>\n",
       "    </tr>\n",
       "  </tbody>\n",
       "</table>\n",
       "</div>"
      ],
      "text/plain": [
       "HOWPAID               monthly    weekly \n",
       "MORTGAGE MARITAL                        \n",
       "n        divsepwid        NaN  42.440171\n",
       "         single     24.460581  24.269231\n",
       "y        divsepwid        NaN  42.666667\n",
       "         married    31.518490  28.006321\n",
       "         single     29.958932  24.027397"
      ]
     },
     "execution_count": 4,
     "metadata": {},
     "output_type": "execute_result"
    }
   ],
   "source": [
    "#Higher Dimensions Pivot Tables default creates mean\n",
    "credit.pivot_table('AGE', index=['MORTGAGE','MARITAL'], columns='HOWPAID', aggfunc='mean')"
   ]
  },
  {
   "cell_type": "markdown",
   "metadata": {},
   "source": [
    "### String Operations"
   ]
  },
  {
   "cell_type": "code",
   "execution_count": 7,
   "metadata": {},
   "outputs": [],
   "source": [
    "#Creating string array\n",
    "string_array = ['seckin','elif','kofte','dinc']"
   ]
  },
  {
   "cell_type": "code",
   "execution_count": 20,
   "metadata": {},
   "outputs": [],
   "source": [
    "#Capitalizing every element\n",
    "string_array = [s.capitalize() for s in string_array]"
   ]
  },
  {
   "cell_type": "code",
   "execution_count": 22,
   "metadata": {},
   "outputs": [],
   "source": [
    "#Converting from array to pandas series object\n",
    "string_array = pd.Series(string_array)"
   ]
  },
  {
   "cell_type": "code",
   "execution_count": 23,
   "metadata": {},
   "outputs": [
    {
     "data": {
      "text/plain": [
       "pandas.core.series.Series"
      ]
     },
     "execution_count": 23,
     "metadata": {},
     "output_type": "execute_result"
    }
   ],
   "source": [
    "#Checking type\n",
    "type(string_array)"
   ]
  },
  {
   "cell_type": "code",
   "execution_count": 26,
   "metadata": {},
   "outputs": [
    {
     "data": {
      "text/plain": [
       "'SeckinElifKofteDinc'"
      ]
     },
     "execution_count": 26,
     "metadata": {},
     "output_type": "execute_result"
    }
   ],
   "source": [
    "#Printing elements with no space concat\n",
    "string_array.str.cat()"
   ]
  },
  {
   "cell_type": "code",
   "execution_count": 27,
   "metadata": {},
   "outputs": [
    {
     "data": {
      "text/plain": [
       "0    False\n",
       "1    False\n",
       "2     True\n",
       "3    False\n",
       "dtype: bool"
      ]
     },
     "execution_count": 27,
     "metadata": {},
     "output_type": "execute_result"
    }
   ],
   "source": [
    "#Searching string for a pattern and returning Bool\n",
    "string_array.str.contains('Kof')"
   ]
  },
  {
   "cell_type": "code",
   "execution_count": 30,
   "metadata": {},
   "outputs": [
    {
     "data": {
      "text/plain": [
       "0    0000000Seckin0000000\n",
       "1    00000000Elif00000000\n",
       "2    0000000Kofte00000000\n",
       "3    00000000Dinc00000000\n",
       "dtype: object"
      ]
     },
     "execution_count": 30,
     "metadata": {},
     "output_type": "execute_result"
    }
   ],
   "source": [
    "#Lpad and Rpad at the same time with centralizing element\n",
    "string_array.str.center(20,'0')"
   ]
  },
  {
   "cell_type": "code",
   "execution_count": 35,
   "metadata": {},
   "outputs": [
    {
     "data": {
      "text/plain": [
       "0   -1\n",
       "1   -1\n",
       "2    3\n",
       "3   -1\n",
       "dtype: int64"
      ]
     },
     "execution_count": 35,
     "metadata": {},
     "output_type": "execute_result"
    }
   ],
   "source": [
    "#Return lowest indexes in each strings in the Series/Index where the substring is fully contained between\n",
    "string_array.str.find('te')"
   ]
  },
  {
   "cell_type": "code",
   "execution_count": 32,
   "metadata": {},
   "outputs": [
    {
     "data": {
      "text/plain": [
       "0    6\n",
       "1    4\n",
       "2    5\n",
       "3    4\n",
       "dtype: int64"
      ]
     },
     "execution_count": 32,
     "metadata": {},
     "output_type": "execute_result"
    }
   ],
   "source": [
    "#Length of each element in the series object\n",
    "string_array.str.len()"
   ]
  }
 ],
 "metadata": {
  "kernelspec": {
   "display_name": "Python 3",
   "language": "python",
   "name": "python3"
  },
  "language_info": {
   "codemirror_mode": {
    "name": "ipython",
    "version": 3
   },
   "file_extension": ".py",
   "mimetype": "text/x-python",
   "name": "python",
   "nbconvert_exporter": "python",
   "pygments_lexer": "ipython3",
   "version": "3.6.3"
  }
 },
 "nbformat": 4,
 "nbformat_minor": 2
}
