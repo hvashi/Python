{
 "cells": [
  {
   "cell_type": "markdown",
   "metadata": {},
   "source": [
    "<div style=\"float: right; margin: 20px 20px 20px 20px\"><img src=\"images/cheesy.jpg\" width=\"250px\"></div>\n",
    "\n",
    "# Bro to Spark: Cheesy/Easy Way\n",
    "** NOTE:** This is NOT the correct way to go from Bro to Spark. We're going to be using local data and a local Spark kernel which obviously won't scale at all. But if you just want to explore Spark with some smaller datasets this is a super **EASY** way to get started. \n",
    "\n",
    "All you need to install for this notebook/approach is:\n",
    "\n",
    "    $ pip install bat pyspark \n",
    "\n",
    "For the correct (but more complicated) way please see our Bro to Spark notebooks:\n",
    "- https://github.com/Kitware/bat/blob/master/notebooks/Bro_to_Parquet_to_Spark.ipynb\n",
    "- https://github.com/Kitware/bat/blob/master/notebooks/Bro_to_Kafka_to_Spark.ipynb\n",
    "\n",
    "<div style=\"float: right; margin: 0px 0px 0px 0px\"><img src=\"images/bro.png\" width=\"100px\"></div>\n",
    "\n",
    "You can test whether spark is installed correctly by starting up the spark shell.\n",
    "    \n",
    "    $ spark-shell\n",
    "\n",
    "There are some warnings and stuff but if you get this you have successfully installed spark.\n",
    "You can quit the shell by typing ':quit' and the scala> prompt\n",
    "<div style=\"float: right; margin: 20px 20px 20px 20px\"><img src=\"images/spark.png\" width=\"250px\"></div>\n",
    "<div style=\"margin: 20px 20px 20px 20px\"><img align=\"left\" src=\"images/spark_shell.png\" width=\"400px\"></div>"
   ]
  },
  {
   "cell_type": "code",
   "execution_count": 1,
   "metadata": {
    "collapsed": true
   },
   "outputs": [],
   "source": [
    "from pyspark.sql import SparkSession\n",
    "from bat import log_to_dataframe\n",
    "import pandas as pd"
   ]
  },
  {
   "cell_type": "code",
   "execution_count": 3,
   "metadata": {},
   "outputs": [
    {
     "name": "stdout",
     "output_type": "stream",
     "text": [
      "Successfully monitoring ../data/dns.log...\n"
     ]
    },
    {
     "data": {
      "text/html": [
       "<div>\n",
       "<table border=\"1\" class=\"dataframe\">\n",
       "  <thead>\n",
       "    <tr style=\"text-align: right;\">\n",
       "      <th></th>\n",
       "      <th>AA</th>\n",
       "      <th>RA</th>\n",
       "      <th>RD</th>\n",
       "      <th>TC</th>\n",
       "      <th>TTLs</th>\n",
       "      <th>Z</th>\n",
       "      <th>answers</th>\n",
       "      <th>id.orig_h</th>\n",
       "      <th>id.orig_p</th>\n",
       "      <th>id.resp_h</th>\n",
       "      <th>...</th>\n",
       "      <th>qclass_name</th>\n",
       "      <th>qtype</th>\n",
       "      <th>qtype_name</th>\n",
       "      <th>query</th>\n",
       "      <th>rcode</th>\n",
       "      <th>rcode_name</th>\n",
       "      <th>rejected</th>\n",
       "      <th>trans_id</th>\n",
       "      <th>ts</th>\n",
       "      <th>uid</th>\n",
       "    </tr>\n",
       "  </thead>\n",
       "  <tbody>\n",
       "    <tr>\n",
       "      <th>0</th>\n",
       "      <td>False</td>\n",
       "      <td>True</td>\n",
       "      <td>True</td>\n",
       "      <td>False</td>\n",
       "      <td>36.000000</td>\n",
       "      <td>0</td>\n",
       "      <td>54.245.228.191</td>\n",
       "      <td>192.168.33.10</td>\n",
       "      <td>1030</td>\n",
       "      <td>4.2.2.3</td>\n",
       "      <td>...</td>\n",
       "      <td>C_INTERNET</td>\n",
       "      <td>1</td>\n",
       "      <td>A</td>\n",
       "      <td>guyspy.com</td>\n",
       "      <td>0</td>\n",
       "      <td>NOERROR</td>\n",
       "      <td>False</td>\n",
       "      <td>44949</td>\n",
       "      <td>2013-09-15 17:44:27.631940</td>\n",
       "      <td>CZGShC2znK1sV7jdI7</td>\n",
       "    </tr>\n",
       "    <tr>\n",
       "      <th>1</th>\n",
       "      <td>False</td>\n",
       "      <td>True</td>\n",
       "      <td>True</td>\n",
       "      <td>False</td>\n",
       "      <td>1000.000000,36.000000</td>\n",
       "      <td>0</td>\n",
       "      <td>guyspy.com,54.245.228.191</td>\n",
       "      <td>192.168.33.10</td>\n",
       "      <td>1030</td>\n",
       "      <td>4.2.2.3</td>\n",
       "      <td>...</td>\n",
       "      <td>C_INTERNET</td>\n",
       "      <td>1</td>\n",
       "      <td>A</td>\n",
       "      <td>www.guyspy.com</td>\n",
       "      <td>0</td>\n",
       "      <td>NOERROR</td>\n",
       "      <td>False</td>\n",
       "      <td>50071</td>\n",
       "      <td>2013-09-15 17:44:27.696869</td>\n",
       "      <td>CZGShC2znK1sV7jdI7</td>\n",
       "    </tr>\n",
       "    <tr>\n",
       "      <th>2</th>\n",
       "      <td>False</td>\n",
       "      <td>True</td>\n",
       "      <td>True</td>\n",
       "      <td>False</td>\n",
       "      <td>60.000000,60.000000,60.000000,60.000000,60.000...</td>\n",
       "      <td>0</td>\n",
       "      <td>54.230.86.87,54.230.86.18,54.230.87.160,54.230...</td>\n",
       "      <td>192.168.33.10</td>\n",
       "      <td>1030</td>\n",
       "      <td>4.2.2.3</td>\n",
       "      <td>...</td>\n",
       "      <td>C_INTERNET</td>\n",
       "      <td>1</td>\n",
       "      <td>A</td>\n",
       "      <td>devrubn8mli40.cloudfront.net</td>\n",
       "      <td>0</td>\n",
       "      <td>NOERROR</td>\n",
       "      <td>False</td>\n",
       "      <td>39062</td>\n",
       "      <td>2013-09-15 17:44:28.060639</td>\n",
       "      <td>CZGShC2znK1sV7jdI7</td>\n",
       "    </tr>\n",
       "    <tr>\n",
       "      <th>3</th>\n",
       "      <td>False</td>\n",
       "      <td>True</td>\n",
       "      <td>True</td>\n",
       "      <td>False</td>\n",
       "      <td>60.000000,60.000000,60.000000,60.000000,60.000...</td>\n",
       "      <td>0</td>\n",
       "      <td>54.230.86.87,54.230.86.18,54.230.84.20,54.230....</td>\n",
       "      <td>192.168.33.10</td>\n",
       "      <td>1030</td>\n",
       "      <td>4.2.2.3</td>\n",
       "      <td>...</td>\n",
       "      <td>C_INTERNET</td>\n",
       "      <td>1</td>\n",
       "      <td>A</td>\n",
       "      <td>d31qbv1cthcecs.cloudfront.net</td>\n",
       "      <td>0</td>\n",
       "      <td>NOERROR</td>\n",
       "      <td>False</td>\n",
       "      <td>7312</td>\n",
       "      <td>2013-09-15 17:44:28.141795</td>\n",
       "      <td>CZGShC2znK1sV7jdI7</td>\n",
       "    </tr>\n",
       "    <tr>\n",
       "      <th>4</th>\n",
       "      <td>False</td>\n",
       "      <td>True</td>\n",
       "      <td>True</td>\n",
       "      <td>False</td>\n",
       "      <td>4993.000000,129.000000,129.000000,129.000000</td>\n",
       "      <td>0</td>\n",
       "      <td>cdn.entrust.net.c.footprint.net,192.221.123.25...</td>\n",
       "      <td>192.168.33.10</td>\n",
       "      <td>1030</td>\n",
       "      <td>4.2.2.3</td>\n",
       "      <td>...</td>\n",
       "      <td>C_INTERNET</td>\n",
       "      <td>1</td>\n",
       "      <td>A</td>\n",
       "      <td>crl.entrust.net</td>\n",
       "      <td>0</td>\n",
       "      <td>NOERROR</td>\n",
       "      <td>False</td>\n",
       "      <td>41872</td>\n",
       "      <td>2013-09-15 17:44:28.422704</td>\n",
       "      <td>CZGShC2znK1sV7jdI7</td>\n",
       "    </tr>\n",
       "  </tbody>\n",
       "</table>\n",
       "<p>5 rows × 23 columns</p>\n",
       "</div>"
      ],
      "text/plain": [
       "      AA    RA    RD     TC  \\\n",
       "0  False  True  True  False   \n",
       "1  False  True  True  False   \n",
       "2  False  True  True  False   \n",
       "3  False  True  True  False   \n",
       "4  False  True  True  False   \n",
       "\n",
       "                                                TTLs  Z  \\\n",
       "0                                          36.000000  0   \n",
       "1                              1000.000000,36.000000  0   \n",
       "2  60.000000,60.000000,60.000000,60.000000,60.000...  0   \n",
       "3  60.000000,60.000000,60.000000,60.000000,60.000...  0   \n",
       "4       4993.000000,129.000000,129.000000,129.000000  0   \n",
       "\n",
       "                                             answers      id.orig_h  \\\n",
       "0                                     54.245.228.191  192.168.33.10   \n",
       "1                          guyspy.com,54.245.228.191  192.168.33.10   \n",
       "2  54.230.86.87,54.230.86.18,54.230.87.160,54.230...  192.168.33.10   \n",
       "3  54.230.86.87,54.230.86.18,54.230.84.20,54.230....  192.168.33.10   \n",
       "4  cdn.entrust.net.c.footprint.net,192.221.123.25...  192.168.33.10   \n",
       "\n",
       "   id.orig_p id.resp_h         ...          qclass_name qtype qtype_name  \\\n",
       "0       1030   4.2.2.3         ...           C_INTERNET     1          A   \n",
       "1       1030   4.2.2.3         ...           C_INTERNET     1          A   \n",
       "2       1030   4.2.2.3         ...           C_INTERNET     1          A   \n",
       "3       1030   4.2.2.3         ...           C_INTERNET     1          A   \n",
       "4       1030   4.2.2.3         ...           C_INTERNET     1          A   \n",
       "\n",
       "                           query rcode rcode_name rejected trans_id  \\\n",
       "0                     guyspy.com     0    NOERROR    False    44949   \n",
       "1                 www.guyspy.com     0    NOERROR    False    50071   \n",
       "2   devrubn8mli40.cloudfront.net     0    NOERROR    False    39062   \n",
       "3  d31qbv1cthcecs.cloudfront.net     0    NOERROR    False     7312   \n",
       "4                crl.entrust.net     0    NOERROR    False    41872   \n",
       "\n",
       "                          ts                 uid  \n",
       "0 2013-09-15 17:44:27.631940  CZGShC2znK1sV7jdI7  \n",
       "1 2013-09-15 17:44:27.696869  CZGShC2znK1sV7jdI7  \n",
       "2 2013-09-15 17:44:28.060639  CZGShC2znK1sV7jdI7  \n",
       "3 2013-09-15 17:44:28.141795  CZGShC2znK1sV7jdI7  \n",
       "4 2013-09-15 17:44:28.422704  CZGShC2znK1sV7jdI7  \n",
       "\n",
       "[5 rows x 23 columns]"
      ]
     },
     "execution_count": 3,
     "metadata": {},
     "output_type": "execute_result"
    }
   ],
   "source": [
    "# Convert Bro log to Pandas DataFrame\n",
    "dns_df = log_to_dataframe.LogToDataFrame('../data/dns.log')\n",
    "dns_df.head()"
   ]
  },
  {
   "cell_type": "markdown",
   "metadata": {},
   "source": [
    "<div style=\"float: right; margin: 20px 20px 20px 20px\"><img src=\"images/spark.png\" width=\"200px\"></div>\n",
    "\n",
    "# Spark It!\n",
    "### Spin up Spark with 4 Parallel Executors\n",
    "Here we're spinning up a local spark server with 4 parallel executors, although this might seem a bit silly since we're probably running this on a laptop, there are a couple of important observations:\n",
    "\n",
    "<div style=\"float: right; margin: 20px 20px 20px 20px\"><img src=\"images/spark_jobs.png\" width=\"400px\"></div>\n",
    "\n",
    "- If you have 4/8 cores use them!\n",
    "- It's the exact same code logic as if we were running on a distributed cluster.\n",
    "- We run the same code on **DataBricks** (www.databricks.com) which is awesome BTW."
   ]
  },
  {
   "cell_type": "code",
   "execution_count": 5,
   "metadata": {
    "collapsed": true
   },
   "outputs": [],
   "source": [
    "# Spin up a local Spark Session (with 4 executors)\n",
    "spark = SparkSession.builder.master('local[4]').appName('my_awesome').getOrCreate()"
   ]
  },
  {
   "cell_type": "code",
   "execution_count": 6,
   "metadata": {
    "collapsed": true
   },
   "outputs": [],
   "source": [
    "# Convert to Spark DF\n",
    "spark_df = spark.createDataFrame(dns_df)"
   ]
  },
  {
   "cell_type": "code",
   "execution_count": 7,
   "metadata": {},
   "outputs": [
    {
     "name": "stdout",
     "output_type": "stream",
     "text": [
      "Number of Spark DataFrame rows: 51\n",
      "Columns: AA,RA,RD,TC,TTLs,Z,answers,id.orig_h,id.orig_p,id.resp_h,id.resp_p,proto,qclass,qclass_name,qtype,qtype_name,query,rcode,rcode_name,rejected,trans_id,ts,uid\n"
     ]
    }
   ],
   "source": [
    "# Some simple spark operations\n",
    "num_rows = spark_df.count()\n",
    "print(\"Number of Spark DataFrame rows: {:d}\".format(num_rows))\n",
    "columns = spark_df.columns\n",
    "print(\"Columns: {:s}\".format(','.join(columns)))"
   ]
  },
  {
   "cell_type": "code",
   "execution_count": 8,
   "metadata": {},
   "outputs": [
    {
     "name": "stdout",
     "output_type": "stream",
     "text": [
      "+-----+-----+\n",
      "|proto|count|\n",
      "+-----+-----+\n",
      "|  tcp|    3|\n",
      "|  udp|   48|\n",
      "+-----+-----+\n",
      "\n"
     ]
    }
   ],
   "source": [
    "# Some simple spark operations\n",
    "spark_df.groupBy('proto').count().show()"
   ]
  },
  {
   "cell_type": "markdown",
   "metadata": {},
   "source": [
    "<div style=\"float: right; margin: 0px 0px 0px -30px\"><img src=\"images/confused.jpg\" width=\"150px\"></div>\n",
    "### Note: Spark/PySpark does not like column names with a '.' in them\n",
    "So for the fields like 'id.orig_h' we have to put the backticks around them ( \\`id.orig_h\\` )"
   ]
  },
  {
   "cell_type": "code",
   "execution_count": 9,
   "metadata": {},
   "outputs": [
    {
     "name": "stdout",
     "output_type": "stream",
     "text": [
      "+-------------+---------+-----+\n",
      "|    id.orig_h|id.resp_h|count|\n",
      "+-------------+---------+-----+\n",
      "|192.168.33.10|  8.8.8.8|   12|\n",
      "|192.168.33.10|  4.2.2.3|   39|\n",
      "+-------------+---------+-----+\n",
      "\n"
     ]
    }
   ],
   "source": [
    "# Some simple spark operations\n",
    "spark_df.groupBy('`id.orig_h`', '`id.resp_h`').count().show()"
   ]
  },
  {
   "cell_type": "code",
   "execution_count": 10,
   "metadata": {},
   "outputs": [
    {
     "name": "stdout",
     "output_type": "stream",
     "text": [
      "+--------------------+------------+\n",
      "|               query|query_length|\n",
      "+--------------------+------------+\n",
      "|          guyspy.com|          10|\n",
      "|      www.guyspy.com|          14|\n",
      "|devrubn8mli40.clo...|          28|\n",
      "|d31qbv1cthcecs.cl...|          29|\n",
      "|     crl.entrust.net|          15|\n",
      "|   crl3.digicert.com|          17|\n",
      "|stats.g.doublecli...|          23|\n",
      "|www.googletagserv...|          25|\n",
      "|dev.visualwebsite...|          30|\n",
      "|partner.googleads...|          28|\n",
      "|www.google-analyt...|          24|\n",
      "|d5nxst8fruw4z.clo...|          28|\n",
      "|pubads.g.doublecl...|          24|\n",
      "|tag.gayadnetwork.com|          20|\n",
      "|      cdn.guyspy.com|          14|\n",
      "|pagead2.googlesyn...|          29|\n",
      "|        ib.adnxs.com|          12|\n",
      "|googleads.g.doubl...|          27|\n",
      "|    www.facebook.com|          16|\n",
      "|   lax1.ib.adnxs.com|          17|\n",
      "+--------------------+------------+\n",
      "only showing top 20 rows\n",
      "\n"
     ]
    }
   ],
   "source": [
    "# Add a column with the string length of the DNS query\n",
    "from pyspark.sql.functions import col, length\n",
    "\n",
    "# Create new dataframe that includes new column\n",
    "spark_df = spark_df.withColumn('query_length', length(col('query')))\n",
    "spark_df[['query', 'query_length']].show()"
   ]
  },
  {
   "cell_type": "code",
   "execution_count": 11,
   "metadata": {
    "collapsed": true
   },
   "outputs": [],
   "source": [
    "# Plotting defaults\n",
    "%matplotlib inline\n",
    "import matplotlib.pyplot as plt\n",
    "from bat.utils import plot_utils\n",
    "plot_utils.plot_defaults()"
   ]
  },
  {
   "cell_type": "code",
   "execution_count": 12,
   "metadata": {},
   "outputs": [
    {
     "data": {
      "text/plain": [
       "<matplotlib.text.Text at 0x10ebe1470>"
      ]
     },
     "execution_count": 12,
     "metadata": {},
     "output_type": "execute_result"
    },
    {
     "data": {
      "image/png": "[encoded data removed]",
      "text/plain": [
       "<matplotlib.figure.Figure at 0x10eb1a080>"
      ]
     },
     "metadata": {},
     "output_type": "display_data"
    }
   ],
   "source": [
    "# Show histogram of the Spark DF query lengths\n",
    "bins, counts = spark_df.select('query_length').rdd.flatMap(lambda x: x).histogram(20)\n",
    "\n",
    "# This is a bit awkward but I believe this is the correct way to do it\n",
    "plt.hist(bins[:-1], bins=bins, weights=counts)\n",
    "plt.grid(True)\n",
    "plt.xlabel('Query Lengths')\n",
    "plt.ylabel('Counts')"
   ]
  },
  {
   "cell_type": "code",
   "execution_count": 13,
   "metadata": {},
   "outputs": [
    {
     "data": {
      "text/plain": [
       "<matplotlib.text.Text at 0x10ed431d0>"
      ]
     },
     "execution_count": 13,
     "metadata": {},
     "output_type": "execute_result"
    },
    {
     "data": {
      "image/png": "[encoded data removed]",
      "text/plain": [
       "<matplotlib.figure.Figure at 0x10ddf8240>"
      ]
     },
     "metadata": {},
     "output_type": "display_data"
    }
   ],
   "source": [
    "# Compare the computation of query_length and resulting histogram with Pandas\n",
    "dns_df['query_length'] = dns_df['query'].str.len()\n",
    "dns_df['query_length'].hist(bins=20)\n",
    "plt.xlabel('Query Lengths')\n",
    "plt.ylabel('Counts')"
   ]
  },
  {
   "cell_type": "markdown",
   "metadata": {},
   "source": [
    "<div style=\"float: right; margin: 20px 0px 0px 0px\"><img src=\"images/spark.png\" width=\"150px\"></div>\n",
    "\n",
    "# That was easy.. is this the same as 'real' Spark?\n",
    "Yep, if you've gotten this far you are running a local instance of the Spark server with all the exact same functionality as any Spark cluster (minus the scalability that comes with lots of nodes obviously).\n",
    "\n",
    "Check out your Spark jobs by simply going to http://localhost:4040\n",
    "\n",
    "<div style=\"margin: 20px 0px 0px 0px\"><img src=\"images/spark_jobs.png\" width=\"600px\"></div>"
   ]
  },
  {
   "cell_type": "markdown",
   "metadata": {},
   "source": [
    "## Wrap Up\n",
    "Well that's it for this notebook. With a few simple pip installs you are ready to try out Spark on your Bro Logs. Yes it will only work on smaller data but it gets you **'in the saddle'** quickly. You can try some stuff out, get familiar with Spark and then dive into setting it up the right way:\n",
    "<div style=\"float: right; margin: 0px 0px 0px 0px\"><img src=\"https://www.kitware.com/img/small_logo_over.png\" width=\"200px\"></div>\n",
    "- https://github.com/Kitware/bat/blob/master/notebooks/Bro_to_Parquet_to_Spark.ipynb\n",
    "- https://github.com/Kitware/bat/blob/master/notebooks/Bro_to_Kafka_to_Spark.ipynb\n",
    "\n",
    "If you liked this notebook please visit the [bat](https://github.com/Kitware/bat) project for more notebooks and examples.\n"
   ]
  }
 ],
 "metadata": {
  "kernelspec": {
   "display_name": "Python 3",
   "language": "python",
   "name": "python3"
  },
  "language_info": {
   "codemirror_mode": {
    "name": "ipython",
    "version": 3
   },
   "file_extension": ".py",
   "mimetype": "text/x-python",
   "name": "python",
   "nbconvert_exporter": "python",
   "pygments_lexer": "ipython3",
   "version": "3.6.2"
  }
 },
 "nbformat": 4,
 "nbformat_minor": 2
}
