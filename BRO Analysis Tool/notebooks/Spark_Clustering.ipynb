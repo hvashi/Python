{
 "cells": [
  {
   "cell_type": "markdown",
   "metadata": {},
   "source": [
    "<div style=\"float: right; margin: 20px 20px 20px 20px\"><img src=\"images/bro.png\" width=\"100px\"></div>\n",
    "\n",
    "# Bro to Spark: Clustering\n",
    "In this notebook we will pull Bro data into Spark then do some analysis and clustering. The first step is to convert your Bro log data into a Parquet file, for instructions on how to do this (just a few lines of Python code using the BAT package) please see this notebook:\n",
    "\n",
    "<div style=\"float: right; margin: 0px 0px 0px 0px\"><img src=\"images/parquet.png\" width=\"300px\"></div>\n",
    "\n",
    "### Bro logs to Parquet Notebook\n",
    "- [Bro to Parquet to Spark](https://github.com/Kitware/bat/blob/master/notebooks/Bro_to_Parquet_to_Spark.ipynb)\n",
    "\n",
    "Apache Parquet is a columnar storage format focused on performance. Parquet data is often used within the Hadoop ecosystem and we will specifically be using it for loading data into Spark.\n",
    "\n",
    "<div style=\"float: right; margin: 0px 0px 0px 0px\"><img src=\"images/mllib.png\" width=\"200px\"></div>\n",
    "<div style=\"float: right; margin: 30px 0px 0px 0px\"><img src=\"images/spark.png\" width=\"200px\"></div>\n",
    "\n",
    "### Software\n",
    "- Bro Analysis Tools (BAT): https://github.com/Kitware/bat\n",
    "- Parquet: https://parquet.apache.org\n",
    "- Spark: https://spark.apache.org\n",
    "- Spark MLLib: https://spark.apache.org/mllib/\n",
    "\n",
    "### Data\n",
    "- Sec Repo: http://www.secrepo.com (no headers on these)\n",
    "- Kitware: [data.kitware.com](https://data.kitware.com/#collection/58d564478d777f0aef5d893a) (with headers)"
   ]
  },
  {
   "cell_type": "code",
   "execution_count": 102,
   "metadata": {},
   "outputs": [
    {
     "name": "stdout",
     "output_type": "stream",
     "text": [
      "BAT: 0.2.9\n",
      "PySpark: 2.2.0\n",
      "PyArrow: 0.6.0\n"
     ]
    }
   ],
   "source": [
    "# Third Party Imports\n",
    "import pyspark\n",
    "from pyspark.sql import SparkSession\n",
    "import pyarrow\n",
    "\n",
    "# Local imports\n",
    "import bat\n",
    "from bat.log_to_parquet import log_to_parquet\n",
    "\n",
    "# Good to print out versions of stuff\n",
    "print('BAT: {:s}'.format(bat.__version__))\n",
    "print('PySpark: {:s}'.format(pyspark.__version__))\n",
    "print('PyArrow: {:s}'.format(pyarrow.__version__))"
   ]
  },
  {
   "cell_type": "markdown",
   "metadata": {},
   "source": [
    "<div style=\"float: right; margin: 20px 20px 20px 20px\"><img src=\"images/spark.png\" width=\"200px\"></div>\n",
    "\n",
    "# Spark It!\n",
    "### Spin up Spark with 4 Parallel Executors\n",
    "Here we're spinning up a local spark server with 4 parallel executors, although this might seem a bit silly since we're probably running this on a laptop, there are a couple of important observations:\n",
    "\n",
    "<div style=\"float: right; margin: 20px 20px 20px 20px\"><img src=\"images/spark_jobs.png\" width=\"400px\"></div>\n",
    "\n",
    "- If you have 4/8 cores use them!\n",
    "- It's the exact same code logic as if we were running on a distributed cluster.\n",
    "- We run the same code on **DataBricks** (www.databricks.com) which is awesome BTW.\n",
    "\n"
   ]
  },
  {
   "cell_type": "code",
   "execution_count": 103,
   "metadata": {
    "collapsed": true
   },
   "outputs": [],
   "source": [
    "# Spin up a local Spark Session (with 4 executors)\n",
    "spark = SparkSession.builder.master(\"local[4]\").appName('my_awesome').getOrCreate()"
   ]
  },
  {
   "cell_type": "markdown",
   "metadata": {},
   "source": [
    "<div style=\"float: right; margin: 50px 20px 20px -20px\"><img src=\"images/parquet.png\" width=\"350px\"></div>\n",
    "##  Read in our Parquet File\n",
    "Here we're loading in a Bro HTTP log with ~2 million rows to demonstrate the functionality and do some analysis and clustering on the data. For more information on converting Bro logs to Parquet files please see our Bro to Parquet notebook:\n",
    "\n",
    "#### Bro logs to Parquet Notebook\n",
    "- [Bro to Parquet to Spark](https://github.com/Kitware/bat/blob/master/notebooks/Bro_to_Parquet_to_Spark.ipynb)"
   ]
  },
  {
   "cell_type": "code",
   "execution_count": 104,
   "metadata": {
    "collapsed": true
   },
   "outputs": [],
   "source": [
    "# Have Spark read in the Parquet File\n",
    "spark_df = spark.read.parquet(\"dns.parquet\")"
   ]
  },
  {
   "cell_type": "markdown",
   "metadata": {},
   "source": [
    "<div style=\"float: left; margin: 20px 20px 20px 20px\"><img src=\"images/eyeball.jpeg\" width=\"150px\"></div>\n",
    "# Lets look at our data\n",
    "We should always inspect out data when it comes in. Look at both the data values and the data types to make sure you're getting exactly what you should be."
   ]
  },
  {
   "cell_type": "code",
   "execution_count": 105,
   "metadata": {},
   "outputs": [
    {
     "name": "stdout",
     "output_type": "stream",
     "text": [
      "Number of Rows: 427935\n",
      "Columns: AA,RA,RD,TC,TTLs,Z,answers,id.orig_h,id.orig_p,id.resp_h,id.resp_p,proto,qclass,qclass_name,qtype,qtype_name,query,rcode,rcode_name,rejected,trans_id,uid,ts\n"
     ]
    }
   ],
   "source": [
    "# Get information about the Spark DataFrame\n",
    "num_rows = spark_df.count()\n",
    "print(\"Number of Rows: {:d}\".format(num_rows))\n",
    "columns = spark_df.columns\n",
    "print(\"Columns: {:s}\".format(','.join(columns)))"
   ]
  },
  {
   "cell_type": "code",
   "execution_count": 106,
   "metadata": {},
   "outputs": [
    {
     "name": "stdout",
     "output_type": "stream",
     "text": [
      "+----------+-----+------+\n",
      "|qtype_name|proto| count|\n",
      "+----------+-----+------+\n",
      "|         A|  udp|212473|\n",
      "|        NB|  udp| 77199|\n",
      "|      AAAA|  udp| 54519|\n",
      "|       PTR|  udp| 52991|\n",
      "|       TXT|  udp| 12644|\n",
      "|       SRV|  udp| 12268|\n",
      "|         -|  udp|  3472|\n",
      "|         *|  udp|   882|\n",
      "|      AXFR|  tcp|   440|\n",
      "|       SOA|  udp|   346|\n",
      "|       TXT|  tcp|   226|\n",
      "|         -|  tcp|   176|\n",
      "|        MX|  udp|   169|\n",
      "|        NS|  udp|    43|\n",
      "|     HINFO|  udp|    30|\n",
      "|     NAPTR|  udp|    27|\n",
      "|       PTR|  tcp|    26|\n",
      "|         A|  tcp|     4|\n",
      "+----------+-----+------+\n",
      "\n"
     ]
    }
   ],
   "source": [
    "spark_df.groupby('qtype_name','proto').count().sort('count', ascending=False).show()"
   ]
  },
  {
   "cell_type": "markdown",
   "metadata": {},
   "source": [
    "<div style=\"float: right; margin: 50px 0px 0px 20px\"><img src=\"images/deep_dive.jpeg\" width=\"350px\"></div>\n",
    "\n",
    "# Data looks good, lets take a deeper dive\n",
    "Spark has a powerful SQL engine as well as a Machine Learning library. So now that we've loaded our Bro data we're going to utilize the Spark SQL commands to do some investigation of our data including clustering from the MLLib.\n",
    "\n",
    "<div style=\"float: left; margin: 20px 0px 0px 0px\"><img src=\"images/spark_sql.jpg\" width=\"180px\"></div>\n",
    "<div style=\"float: left; margin: 0px 50px 0px 0px\"><img src=\"images/mllib.png\" width=\"180px\"></div>"
   ]
  },
  {
   "cell_type": "code",
   "execution_count": 107,
   "metadata": {},
   "outputs": [],
   "source": [
    "# Add a column with the string length of the DNS query\n",
    "from pyspark.sql.functions import col, length\n",
    "\n",
    "# Create new dataframe that includes two new column\n",
    "spark_df = spark_df.withColumn('query_length', length(col('query')))\n",
    "spark_df = spark_df.withColumn('answer_length', length(col('answers')))"
   ]
  },
  {
   "cell_type": "code",
   "execution_count": 108,
   "metadata": {
    "collapsed": true
   },
   "outputs": [],
   "source": [
    "# Plotting defaults\n",
    "%matplotlib inline\n",
    "import matplotlib.pyplot as plt\n",
    "from bat.utils import plot_utils\n",
    "plot_utils.plot_defaults()"
   ]
  },
  {
   "cell_type": "code",
   "execution_count": 109,
   "metadata": {},
   "outputs": [
    {
     "data": {
      "text/plain": [
       "<matplotlib.text.Text at 0x10b05e630>"
      ]
     },
     "execution_count": 109,
     "metadata": {},
     "output_type": "execute_result"
    },
    {
     "data": {
      "image/png": "[encoded data removed]",
      "text/plain": [
       "<matplotlib.figure.Figure at 0x10a226ba8>"
      ]
     },
     "metadata": {},
     "output_type": "display_data"
    }
   ],
   "source": [
    "# Show histogram of the Spark DF request body lengths\n",
    "bins, counts = spark_df.select('query_length').rdd.flatMap(lambda x: x).histogram(50)\n",
    "\n",
    "# This is a bit awkward but I believe this is the correct way to do it\n",
    "plt.hist(bins[:-1], bins=bins, weights=counts, log=True)\n",
    "plt.grid(True)\n",
    "plt.xlabel('DNS Query Lengths')\n",
    "plt.ylabel('Counts')"
   ]
  },
  {
   "cell_type": "code",
   "execution_count": 110,
   "metadata": {},
   "outputs": [
    {
     "data": {
      "text/plain": [
       "<matplotlib.text.Text at 0x104a08860>"
      ]
     },
     "execution_count": 110,
     "metadata": {},
     "output_type": "execute_result"
    },
    {
     "data": {
      "image/png": "[encoded data removed]",
      "text/plain": [
       "<matplotlib.figure.Figure at 0x10461dd68>"
      ]
     },
     "metadata": {},
     "output_type": "display_data"
    }
   ],
   "source": [
    "# Show histogram of the Spark DF request body lengths\n",
    "bins, counts = spark_df.select('answer_length').rdd.flatMap(lambda x: x).histogram(50)\n",
    "\n",
    "# This is a bit awkward but I believe this is the correct way to do it\n",
    "plt.hist(bins[:-1], bins=bins, weights=counts, log=True)\n",
    "plt.grid(True)\n",
    "plt.xlabel('DNS Answer Lengths')\n",
    "plt.ylabel('Counts')"
   ]
  },
  {
   "cell_type": "code",
   "execution_count": 111,
   "metadata": {},
   "outputs": [],
   "source": [
    "from pyspark.ml import Pipeline\n",
    "from pyspark.ml.feature import OneHotEncoder, StringIndexer, VectorAssembler\n",
    "\n",
    "categoricalColumns = ['qtype_name', 'proto']\n",
    "stages = [] \n",
    "\n",
    "for categoricalCol in categoricalColumns:\n",
    "    stringIndexer = StringIndexer(inputCol=categoricalCol, \n",
    "        outputCol=categoricalCol+\"Index\")\n",
    "    encoder = OneHotEncoder(inputCol=categoricalCol+\"Index\", \n",
    "        outputCol=categoricalCol+\"classVec\")\n",
    "    stages += [stringIndexer, encoder]\n",
    "\n",
    "numericCols = ['query_length', 'answer_length', 'Z', 'rejected']\n",
    "assemblerInputs = [c + \"classVec\" for c in categoricalColumns] + numericCols\n",
    "assembler = VectorAssembler(inputCols=assemblerInputs, outputCol=\"features\")\n",
    "stages += [assembler]\n",
    "\n",
    "pipeline = Pipeline(stages=stages)\n",
    "pipelineModel = pipeline.fit(spark_df)\n",
    "spark_df = pipelineModel.transform(spark_df)"
   ]
  },
  {
   "cell_type": "code",
   "execution_count": 112,
   "metadata": {},
   "outputs": [
    {
     "name": "stdout",
     "output_type": "stream",
     "text": [
      "+--------------------+\n",
      "|            features|\n",
      "+--------------------+\n",
      "|(18,[5,13,14,15,1...|\n",
      "|(18,[1,13,14,15,1...|\n",
      "|(18,[1,13,14,15,1...|\n",
      "|(18,[1,13,14,15,1...|\n",
      "|(18,[1,13,14,15,1...|\n",
      "|(18,[1,13,14,15,1...|\n",
      "|(18,[1,13,14,15,1...|\n",
      "|(18,[1,13,14,15,1...|\n",
      "|(18,[1,13,14,15,1...|\n",
      "|(18,[1,13,14,15,1...|\n",
      "|(18,[5,13,14,15],...|\n",
      "|(18,[5,13,14,15],...|\n",
      "|(18,[5,13,14,15],...|\n",
      "|(18,[3,13,14,15],...|\n",
      "|(18,[3,13,14,15],...|\n",
      "|(18,[5,13,14,15,1...|\n",
      "|(18,[1,13,14,15,1...|\n",
      "|(18,[1,13,14,15,1...|\n",
      "|(18,[1,13,14,15,1...|\n",
      "|(18,[2,13,14,15],...|\n",
      "+--------------------+\n",
      "only showing top 20 rows\n",
      "\n"
     ]
    }
   ],
   "source": [
    "spark_df.select('features').show()"
   ]
  },
  {
   "cell_type": "code",
   "execution_count": 113,
   "metadata": {},
   "outputs": [],
   "source": [
    "from pyspark.ml.clustering import KMeans\n",
    "\n",
    "# Trains a k-means model.\n",
    "kmeans = KMeans().setK(70)\n",
    "model = kmeans.fit(spark_df)"
   ]
  },
  {
   "cell_type": "code",
   "execution_count": 114,
   "metadata": {},
   "outputs": [
    {
     "name": "stdout",
     "output_type": "stream",
     "text": [
      "Within Set Sum of Squared Errors = 120733.85472213484\n",
      "Cluster Centers: \n",
      "[  9.50906344e-01   0.00000000e+00   0.00000000e+00   0.00000000e+00\n",
      "   4.74751834e-02   0.00000000e+00   0.00000000e+00   9.71083297e-04\n",
      "   0.00000000e+00   0.00000000e+00   0.00000000e+00   0.00000000e+00\n",
      "   6.47388865e-04   9.97410445e-01   1.14872680e+01   1.00000000e+00\n",
      "   0.00000000e+00   9.17134225e-03]\n",
      "[  0.00000000e+00   0.00000000e+00   0.00000000e+00   1.00000000e+00\n",
      "   0.00000000e+00   0.00000000e+00   0.00000000e+00   0.00000000e+00\n",
      "   0.00000000e+00   0.00000000e+00   0.00000000e+00   0.00000000e+00\n",
      "   0.00000000e+00   1.00000000e+00   2.72002232e+01   1.00360999e+00\n",
      "   0.00000000e+00   1.60808638e-03]\n",
      "[   0.    0.    0.    0.    0.    0.    0.    0.    1.    0.    0.    0.\n",
      "    0.    0.   10.  687.    0.    0.]\n",
      "[  0.00000000e+00   0.00000000e+00   0.00000000e+00   0.00000000e+00\n",
      "   0.00000000e+00   0.00000000e+00   9.63855422e-02   0.00000000e+00\n",
      "   9.03614458e-01   0.00000000e+00   0.00000000e+00   0.00000000e+00\n",
      "   0.00000000e+00   0.00000000e+00   9.13253012e+00   3.47000000e+02\n",
      "   0.00000000e+00   0.00000000e+00]\n",
      "[   0.            0.            0.            1.            0.            0.\n",
      "    0.            0.            0.            0.            0.            0.\n",
      "    0.            1.           21.65517241  137.27586207    0.            0.        ]\n",
      "[  7.35499488e-03   0.00000000e+00   7.54119728e-03   0.00000000e+00\n",
      "   1.86202402e-04   9.70021413e-01   0.00000000e+00   1.48961922e-02\n",
      "   0.00000000e+00   0.00000000e+00   0.00000000e+00   0.00000000e+00\n",
      "   0.00000000e+00   1.00000000e+00   5.69467461e+01   1.00000000e+00\n",
      "   3.52108742e-01   0.00000000e+00]\n",
      "[  0.00000000e+00   0.00000000e+00   9.21781975e-01   7.82180250e-02\n",
      "   0.00000000e+00   0.00000000e+00   0.00000000e+00   0.00000000e+00\n",
      "   0.00000000e+00   0.00000000e+00   0.00000000e+00   0.00000000e+00\n",
      "   0.00000000e+00   1.00000000e+00   2.05908438e+01   1.00000000e+00\n",
      "   8.21186615e-04   4.10593307e-04]\n",
      "[  9.97151713e-01   0.00000000e+00   0.00000000e+00   2.26187484e-03\n",
      "   0.00000000e+00   0.00000000e+00   0.00000000e+00   0.00000000e+00\n",
      "   0.00000000e+00   0.00000000e+00   5.02638854e-04   0.00000000e+00\n",
      "   8.37731423e-05   9.99664907e-01   1.50000000e+01   1.00000000e+00\n",
      "   6.70185139e-04   3.09960627e-03]\n",
      "[  8.24082785e-01   0.00000000e+00   1.48871119e-01   2.42238946e-02\n",
      "   2.82220132e-03   0.00000000e+00   0.00000000e+00   0.00000000e+00\n",
      "   0.00000000e+00   0.00000000e+00   0.00000000e+00   0.00000000e+00\n",
      "   0.00000000e+00   1.00000000e+00   2.30000000e+01   1.00000000e+00\n",
      "   0.00000000e+00   2.35183443e-03]\n",
      "[  0.           0.           0.           0.           0.           0.           1.\n",
      "   0.           0.           0.           0.           0.           0.\n",
      "   0.97252747   1.          47.64285714   0.           0.        ]\n",
      "[  8.47867380e-02   0.00000000e+00   8.63408738e-03   8.28699706e-01\n",
      "   7.68433777e-02   1.03609049e-03   0.00000000e+00   0.00000000e+00\n",
      "   0.00000000e+00   0.00000000e+00   0.00000000e+00   0.00000000e+00\n",
      "   0.00000000e+00   1.00000000e+00   3.97349335e+01   1.00000000e+00\n",
      "   0.00000000e+00   9.82559143e-02]\n",
      "[ 0.          1.          0.          0.          0.          0.          0.\n",
      "  0.          0.          0.          0.          0.          0.          1.\n",
      "  4.20721412  1.          0.99945181  0.        ]\n",
      "[   0.    0.    0.    0.    0.    0.    0.    0.    1.    0.    0.    0.\n",
      "    0.    0.   10.  412.    0.    0.]\n",
      "[  8.98322492e-01   0.00000000e+00   8.40465594e-02   5.13522766e-03\n",
      "   3.59465936e-03   0.00000000e+00   0.00000000e+00   8.90106128e-03\n",
      "   0.00000000e+00   0.00000000e+00   0.00000000e+00   0.00000000e+00\n",
      "   0.00000000e+00   1.00000000e+00   3.31299213e+01   1.00000000e+00\n",
      "   0.00000000e+00   0.00000000e+00]\n",
      "[  9.70394737e-01   0.00000000e+00   0.00000000e+00   6.57894737e-03\n",
      "   2.30263158e-02   0.00000000e+00   0.00000000e+00   0.00000000e+00\n",
      "   0.00000000e+00   0.00000000e+00   0.00000000e+00   0.00000000e+00\n",
      "   0.00000000e+00   9.80263158e-01   1.40986842e+01   1.19210526e+01\n",
      "   9.86842105e-03   0.00000000e+00]\n",
      "[  0.           0.           0.           0.           0.           0.           1.\n",
      "   0.           0.           0.           0.           0.           0.\n",
      "   0.95454545   1.          17.59848485   0.           0.        ]\n",
      "[  9.84349541e-01   0.00000000e+00   1.56075808e-02   0.00000000e+00\n",
      "   0.00000000e+00   0.00000000e+00   0.00000000e+00   0.00000000e+00\n",
      "   0.00000000e+00   4.28779693e-05   0.00000000e+00   0.00000000e+00\n",
      "   0.00000000e+00   1.00000000e+00   2.50398551e+01   1.00000000e+00\n",
      "   0.00000000e+00   8.57559386e-05]\n",
      "[ 0.          1.          0.          0.          0.          0.          0.\n",
      "  0.          0.          0.          0.          0.          0.          1.\n",
      "  8.          1.          0.99988369  0.        ]\n",
      "[  3.88098318e-03   0.00000000e+00   0.00000000e+00   8.58990944e-01\n",
      "   1.81112549e-02   1.29366106e-02   0.00000000e+00   0.00000000e+00\n",
      "   0.00000000e+00   1.06080207e-01   0.00000000e+00   0.00000000e+00\n",
      "   0.00000000e+00   1.00000000e+00   7.21966365e+01   1.07761966e+00\n",
      "   0.00000000e+00   3.88098318e-02]\n",
      "[  9.95342475e-01   0.00000000e+00   0.00000000e+00   3.25701072e-05\n",
      "   0.00000000e+00   0.00000000e+00   0.00000000e+00   4.62495522e-03\n",
      "   0.00000000e+00   0.00000000e+00   0.00000000e+00   0.00000000e+00\n",
      "   0.00000000e+00   1.00000000e+00   1.60000000e+01   1.00000000e+00\n",
      "   3.25701072e-05   1.46565482e-03]\n",
      "[  0.           1.           0.           0.           0.           0.           0.\n",
      "   0.           0.           0.           0.           0.           0.           1.\n",
      "  14.65577023   1.           0.97712794   0.        ]\n",
      "[  0.           0.           0.           0.36548223   0.63451777   0.           0.\n",
      "   0.           0.           0.           0.           0.           0.\n",
      "   0.53807107  16.69035533  32.99492386   0.           0.        ]\n",
      "[ 1.          0.          0.          0.          0.          0.          0.\n",
      "  0.          0.          0.          0.          0.          0.          1.\n",
      "  5.93881886  1.          0.          0.        ]\n",
      "[  0.00000000e+00   0.00000000e+00   0.00000000e+00   7.59493671e-02\n",
      "   0.00000000e+00   0.00000000e+00   6.32911392e-02   0.00000000e+00\n",
      "   8.60759494e-01   0.00000000e+00   0.00000000e+00   0.00000000e+00\n",
      "   0.00000000e+00   1.39240506e-01   1.03924051e+01   1.13240506e+02\n",
      "   0.00000000e+00   0.00000000e+00]\n",
      "[  0.00000000e+00   0.00000000e+00   0.00000000e+00   0.00000000e+00\n",
      "   9.98357964e-01   0.00000000e+00   0.00000000e+00   1.06249396e-03\n",
      "   0.00000000e+00   0.00000000e+00   0.00000000e+00   0.00000000e+00\n",
      "   5.79542162e-04   1.00000000e+00   1.39970057e+01   1.00000000e+00\n",
      "   2.99430117e-03   3.86361441e-03]\n",
      "[  9.20485175e-01   0.00000000e+00   3.09973046e-02   3.03234501e-03\n",
      "   0.00000000e+00   4.54851752e-02   0.00000000e+00   0.00000000e+00\n",
      "   0.00000000e+00   0.00000000e+00   0.00000000e+00   0.00000000e+00\n",
      "   0.00000000e+00   1.00000000e+00   2.98662399e+01   1.00000000e+00\n",
      "   0.00000000e+00   0.00000000e+00]\n",
      "[   0.            0.            0.            0.            0.            0.\n",
      "    0.            0.            1.            0.            0.            0.\n",
      "    0.            0.           10.          519.33333333    0.            0.        ]\n",
      "[  9.93240447e-01   0.00000000e+00   0.00000000e+00   2.06925093e-03\n",
      "   0.00000000e+00   8.27700372e-04   0.00000000e+00   0.00000000e+00\n",
      "   0.00000000e+00   3.86260174e-03   0.00000000e+00   0.00000000e+00\n",
      "   0.00000000e+00   1.00000000e+00   2.00000000e+01   1.00000000e+00\n",
      "   0.00000000e+00   3.44875155e-03]\n",
      "[   0.    0.    0.    0.    0.    0.    0.    0.    1.    0.    0.    0.\n",
      "    0.    0.   10.  277.    0.    0.]\n",
      "[  7.62580244e-01   0.00000000e+00   1.17829778e-01   1.15862497e-01\n",
      "   1.03541106e-04   0.00000000e+00   0.00000000e+00   6.21246635e-04\n",
      "   0.00000000e+00   3.00269207e-03   0.00000000e+00   0.00000000e+00\n",
      "   0.00000000e+00   1.00000000e+00   2.40000000e+01   1.00000000e+00\n",
      "   0.00000000e+00   1.65665769e-03]\n",
      "[   0.    0.    0.    0.    0.    0.    0.    0.    1.    0.    0.    0.\n",
      "    0.    0.   10.  440.    0.    0.]\n",
      "[  0.00000000e+00   0.00000000e+00   1.00000000e+00   0.00000000e+00\n",
      "   0.00000000e+00   0.00000000e+00   0.00000000e+00   0.00000000e+00\n",
      "   0.00000000e+00   0.00000000e+00   0.00000000e+00   0.00000000e+00\n",
      "   0.00000000e+00   1.00000000e+00   1.60000000e+01   1.00000000e+00\n",
      "   0.00000000e+00   6.07902736e-03]\n",
      "[  8.65995032e-01   0.00000000e+00   1.08059619e-01   0.00000000e+00\n",
      "   2.89815070e-03   1.38007176e-04   0.00000000e+00   1.91829975e-02\n",
      "   3.31217223e-03   0.00000000e+00   0.00000000e+00   4.14021529e-04\n",
      "   0.00000000e+00   9.96687828e-01   9.67913331e+00   1.00000000e+00\n",
      "   0.00000000e+00   5.79630141e-03]\n",
      "[  1.22048223e-01   0.00000000e+00   4.77255779e-02   6.94258016e-01\n",
      "   1.32239622e-01   0.00000000e+00   0.00000000e+00   3.72856078e-03\n",
      "   0.00000000e+00   0.00000000e+00   0.00000000e+00   0.00000000e+00\n",
      "   0.00000000e+00   1.00000000e+00   4.25021129e+01   1.00000000e+00\n",
      "   0.00000000e+00   7.05940840e-02]\n",
      "[ 0.  1.  0.  0.  0.  0.  0.  0.  0.  0.  0.  0.  0.  1.  7.  1.  1.  0.]\n",
      "[  1.00000000e+00   0.00000000e+00   0.00000000e+00   0.00000000e+00\n",
      "   0.00000000e+00   0.00000000e+00   0.00000000e+00   0.00000000e+00\n",
      "   0.00000000e+00   0.00000000e+00   0.00000000e+00   0.00000000e+00\n",
      "   0.00000000e+00   1.00000000e+00   1.40000000e+01   1.00000000e+00\n",
      "   0.00000000e+00   5.74349549e-05]\n",
      "[  2.35294118e-01   0.00000000e+00   1.61764706e-02   2.10294118e-01\n",
      "   8.08823529e-03   5.30147059e-01   0.00000000e+00   0.00000000e+00\n",
      "   0.00000000e+00   0.00000000e+00   0.00000000e+00   0.00000000e+00\n",
      "   0.00000000e+00   1.00000000e+00   3.71735294e+01   1.03088235e+00\n",
      "   0.00000000e+00   0.00000000e+00]\n",
      "[  9.99643589e-01   0.00000000e+00   0.00000000e+00   2.67308206e-04\n",
      "   0.00000000e+00   0.00000000e+00   0.00000000e+00   0.00000000e+00\n",
      "   0.00000000e+00   0.00000000e+00   0.00000000e+00   0.00000000e+00\n",
      "   0.00000000e+00   1.00000000e+00   1.90000000e+01   1.00000000e+00\n",
      "   0.00000000e+00   2.49487659e-03]\n",
      "[ 0.          1.          0.          0.          0.          0.          0.\n",
      "  0.          0.          0.          0.          0.          0.          1.\n",
      "  6.          1.          0.99921034  0.        ]\n",
      "[  8.58277625e-01   1.41486433e-01   0.00000000e+00   0.00000000e+00\n",
      "   0.00000000e+00   0.00000000e+00   0.00000000e+00   2.35941801e-04\n",
      "   0.00000000e+00   0.00000000e+00   0.00000000e+00   0.00000000e+00\n",
      "   0.00000000e+00   1.00000000e+00   1.30000000e+01   1.00000000e+00\n",
      "   1.40464019e-01   1.73023987e-03]\n",
      "[  0.00000000e+00   0.00000000e+00   9.61997828e-01   0.00000000e+00\n",
      "   0.00000000e+00   0.00000000e+00   0.00000000e+00   3.33876221e-02\n",
      "   0.00000000e+00   0.00000000e+00   0.00000000e+00   0.00000000e+00\n",
      "   4.61454940e-03   1.00000000e+00   1.06636808e+01   1.00000000e+00\n",
      "   0.00000000e+00   7.32899023e-03]\n",
      "[ 0.  1.  0.  0.  0.  0.  0.  0.  0.  0.  0.  0.  0.  1.  9.  1.  1.  0.]\n",
      "[  9.92063492e-01   0.00000000e+00   0.00000000e+00   0.00000000e+00\n",
      "   0.00000000e+00   0.00000000e+00   0.00000000e+00   0.00000000e+00\n",
      "   7.93650794e-03   0.00000000e+00   0.00000000e+00   0.00000000e+00\n",
      "   0.00000000e+00   9.92063492e-01   9.04761905e+00   9.13492063e+00\n",
      "   0.00000000e+00   0.00000000e+00]\n",
      "[  9.97958721e-03   0.00000000e+00   6.35064641e-03   8.84781130e-01\n",
      "   9.88886369e-02   0.00000000e+00   0.00000000e+00   0.00000000e+00\n",
      "   0.00000000e+00   0.00000000e+00   0.00000000e+00   0.00000000e+00\n",
      "   0.00000000e+00   1.00000000e+00   4.10000000e+01   1.00000000e+00\n",
      "   0.00000000e+00   9.70741665e-02]\n",
      "[  0.           0.           1.           0.           0.           0.           0.\n",
      "   0.           0.           0.           0.           0.           0.           1.\n",
      "  30.99463087   1.           0.           0.        ]\n",
      "[  0.   1.   0.   0.   0.   0.   0.   0.   0.   0.   0.   0.   0.   1.  24.\n",
      "   1.   1.   0.]\n",
      "[  0.00000000e+00   0.00000000e+00   2.58215962e-02   0.00000000e+00\n",
      "   0.00000000e+00   9.63615023e-01   0.00000000e+00   0.00000000e+00\n",
      "   0.00000000e+00   1.05633803e-02   0.00000000e+00   0.00000000e+00\n",
      "   0.00000000e+00   1.00000000e+00   2.79495305e+01   1.00000000e+00\n",
      "   0.00000000e+00   0.00000000e+00]\n",
      "[  0.00000000e+00   0.00000000e+00   1.00000000e+00   0.00000000e+00\n",
      "   0.00000000e+00   0.00000000e+00   0.00000000e+00   0.00000000e+00\n",
      "   0.00000000e+00   0.00000000e+00   0.00000000e+00   0.00000000e+00\n",
      "   0.00000000e+00   1.00000000e+00   1.88638181e+01   1.00000000e+00\n",
      "   0.00000000e+00   5.89349611e-03]\n",
      "[  0.00000000e+00   0.00000000e+00   1.00000000e+00   0.00000000e+00\n",
      "   0.00000000e+00   0.00000000e+00   0.00000000e+00   0.00000000e+00\n",
      "   0.00000000e+00   0.00000000e+00   0.00000000e+00   0.00000000e+00\n",
      "   0.00000000e+00   1.00000000e+00   1.40000000e+01   1.00000000e+00\n",
      "   2.51098556e-04   0.00000000e+00]\n",
      "[  0.00000000e+00   0.00000000e+00   1.00000000e+00   0.00000000e+00\n",
      "   0.00000000e+00   0.00000000e+00   0.00000000e+00   0.00000000e+00\n",
      "   0.00000000e+00   0.00000000e+00   0.00000000e+00   0.00000000e+00\n",
      "   0.00000000e+00   1.00000000e+00   1.50000000e+01   1.00000000e+00\n",
      "   1.78126113e-03   2.49376559e-03]\n",
      "[  9.20588235e-01   0.00000000e+00   0.00000000e+00   5.83823529e-02\n",
      "   9.11764706e-03   3.38235294e-03   0.00000000e+00   4.70588235e-03\n",
      "   0.00000000e+00   0.00000000e+00   0.00000000e+00   0.00000000e+00\n",
      "   0.00000000e+00   9.96323529e-01   2.13551471e+01   1.05882353e+00\n",
      "   5.42647059e-02   8.82352941e-04]\n",
      "[   0.    0.    0.    1.    0.    0.    0.    0.    0.    0.    0.    0.\n",
      "    0.    1.   23.  122.    0.    0.]\n",
      "[  0.00000000e+00   0.00000000e+00   6.25000000e-02   8.43750000e-01\n",
      "   0.00000000e+00   0.00000000e+00   9.37500000e-02   0.00000000e+00\n",
      "   0.00000000e+00   0.00000000e+00   0.00000000e+00   0.00000000e+00\n",
      "   0.00000000e+00   1.00000000e+00   1.56875000e+01   6.38437500e+01\n",
      "   0.00000000e+00   0.00000000e+00]\n",
      "[  9.99437254e-01   0.00000000e+00   0.00000000e+00   0.00000000e+00\n",
      "   0.00000000e+00   5.62746201e-04   0.00000000e+00   0.00000000e+00\n",
      "   0.00000000e+00   0.00000000e+00   0.00000000e+00   0.00000000e+00\n",
      "   0.00000000e+00   1.00000000e+00   3.10153348e+01   1.00000000e+00\n",
      "   7.03432752e-04   0.00000000e+00]\n",
      "[   0.    0.    0.    0.    0.    0.    0.    0.    1.    0.    0.    0.\n",
      "    0.    0.   10.  658.    0.    0.]\n",
      "[  9.98983482e-01   0.00000000e+00   0.00000000e+00   0.00000000e+00\n",
      "   0.00000000e+00   0.00000000e+00   0.00000000e+00   7.62388818e-04\n",
      "   0.00000000e+00   2.54129606e-04   0.00000000e+00   0.00000000e+00\n",
      "   0.00000000e+00   1.00000000e+00   1.70000000e+01   1.00000000e+00\n",
      "   0.00000000e+00   0.00000000e+00]\n",
      "[  9.20746742e-01   0.00000000e+00   0.00000000e+00   2.00774921e-02\n",
      "   0.00000000e+00   0.00000000e+00   0.00000000e+00   1.76118352e-03\n",
      "   0.00000000e+00   0.00000000e+00   5.74145826e-02   0.00000000e+00\n",
      "   0.00000000e+00   1.00000000e+00   1.80000000e+01   1.00000000e+00\n",
      "   0.00000000e+00   0.00000000e+00]\n",
      "[  9.18107833e-01   0.00000000e+00   2.64496439e-02   0.00000000e+00\n",
      "   0.00000000e+00   0.00000000e+00   0.00000000e+00   3.45879959e-02\n",
      "   0.00000000e+00   5.08646999e-04   0.00000000e+00   2.03458800e-02\n",
      "   0.00000000e+00   1.00000000e+00   7.84740590e+00   1.00000000e+00\n",
      "   0.00000000e+00   2.03458800e-03]\n",
      "[  9.98236677e-01   0.00000000e+00   1.76332288e-03   0.00000000e+00\n",
      "   0.00000000e+00   0.00000000e+00   0.00000000e+00   0.00000000e+00\n",
      "   0.00000000e+00   0.00000000e+00   0.00000000e+00   0.00000000e+00\n",
      "   0.00000000e+00   1.00000000e+00   3.76057994e+00   1.00000000e+00\n",
      "   0.00000000e+00   1.95924765e-04]\n",
      "[  7.80748663e-01   0.00000000e+00   2.18360071e-01   0.00000000e+00\n",
      "   0.00000000e+00   0.00000000e+00   0.00000000e+00   8.91265597e-04\n",
      "   0.00000000e+00   0.00000000e+00   0.00000000e+00   0.00000000e+00\n",
      "   0.00000000e+00   1.00000000e+00   2.70713012e+01   1.00000000e+00\n",
      "   5.94177065e-04   0.00000000e+00]\n",
      "[  0.   1.   0.   0.   0.   0.   0.   0.   0.   0.   0.   0.   0.   1.  10.\n",
      "   1.   1.   0.]\n",
      "[  0.00000000e+00   0.00000000e+00   1.00000000e+00   0.00000000e+00\n",
      "   0.00000000e+00   0.00000000e+00   0.00000000e+00   0.00000000e+00\n",
      "   0.00000000e+00   0.00000000e+00   0.00000000e+00   0.00000000e+00\n",
      "   0.00000000e+00   1.00000000e+00   1.27907801e+01   1.00000000e+00\n",
      "   0.00000000e+00   5.80270793e-03]\n",
      "[  0.00000000e+00   9.84625240e-01   0.00000000e+00   0.00000000e+00\n",
      "   1.53747598e-02   0.00000000e+00   0.00000000e+00   0.00000000e+00\n",
      "   0.00000000e+00   0.00000000e+00   0.00000000e+00   0.00000000e+00\n",
      "   0.00000000e+00   1.00000000e+00   1.11755285e+01   1.00000000e+00\n",
      "   9.92099082e-01   1.70830664e-03]\n",
      "[  0.           0.           0.           0.           0.           0.           1.\n",
      "   0.           0.           0.           0.           0.           0.\n",
      "   0.72340426   1.          11.55319149   0.           0.        ]\n",
      "[  0.00000000e+00   0.00000000e+00   0.00000000e+00   8.57142857e-02\n",
      "   0.00000000e+00   0.00000000e+00   9.14285714e-01   0.00000000e+00\n",
      "   0.00000000e+00   0.00000000e+00   0.00000000e+00   0.00000000e+00\n",
      "   0.00000000e+00   1.00000000e+00   2.80000000e+00   1.57914286e+02\n",
      "   0.00000000e+00   0.00000000e+00]\n",
      "[ 0.18624735  0.29167346  0.00195535  0.          0.          0.\n",
      "  0.52012384  0.          0.          0.          0.          0.          0.\n",
      "  0.97865407  1.47286948  1.          0.29151051  0.02281245]\n",
      "[  0.00000000e+00   0.00000000e+00   6.01967058e-02   9.25702097e-01\n",
      "   0.00000000e+00   1.41011968e-02   0.00000000e+00   0.00000000e+00\n",
      "   0.00000000e+00   0.00000000e+00   0.00000000e+00   0.00000000e+00\n",
      "   0.00000000e+00   1.00000000e+00   2.57784098e+01   1.00000000e+00\n",
      "   0.00000000e+00   2.72544140e-03]\n",
      "[  0.           0.           0.           0.           1.           0.           0.\n",
      "   0.           0.           0.           0.           0.           0.\n",
      "   0.68168168  12.03903904   5.03903904   0.11711712   0.03903904]\n",
      "[  0.00000000e+00   4.17310665e-02   4.88408037e-01   0.00000000e+00\n",
      "   0.00000000e+00   4.63678516e-03   0.00000000e+00   1.66924266e-01\n",
      "   0.00000000e+00   2.98299845e-01   0.00000000e+00   0.00000000e+00\n",
      "   0.00000000e+00   1.00000000e+00   5.37094281e+00   1.00000000e+00\n",
      "   0.00000000e+00   0.00000000e+00]\n",
      "[  0.00000000e+00   0.00000000e+00   1.00000000e+00   0.00000000e+00\n",
      "   0.00000000e+00   0.00000000e+00   0.00000000e+00   0.00000000e+00\n",
      "   0.00000000e+00   0.00000000e+00   0.00000000e+00   0.00000000e+00\n",
      "   0.00000000e+00   1.00000000e+00   1.70000000e+01   1.00000000e+00\n",
      "   2.40673887e-03   0.00000000e+00]\n"
     ]
    }
   ],
   "source": [
    "# Evaluate clustering by computing Within Set Sum of Squared Errors.\n",
    "wssse = model.computeCost(spark_df)\n",
    "print(\"Within Set Sum of Squared Errors = \" + str(wssse))\n",
    "\n",
    "# Shows the result.\n",
    "centers = model.clusterCenters()\n",
    "print(\"Cluster Centers: \")\n",
    "for center in centers:\n",
    "    print(center)"
   ]
  },
  {
   "cell_type": "code",
   "execution_count": 115,
   "metadata": {},
   "outputs": [
    {
     "name": "stdout",
     "output_type": "stream",
     "text": [
      "+----------+-----+------------+-------------+---+--------+----------+\n",
      "|qtype_name|proto|query_length|answer_length|  Z|rejected|prediction|\n",
      "+----------+-----+------------+-------------+---+--------+----------+\n",
      "|       SRV|  udp|          57|            1|  1|   false|         5|\n",
      "|        NB|  udp|           8|            1|  1|   false|        17|\n",
      "|        NB|  udp|           8|            1|  1|   false|        17|\n",
      "|        NB|  udp|           8|            1|  1|   false|        17|\n",
      "|        NB|  udp|           4|            1|  1|   false|        11|\n",
      "|        NB|  udp|           4|            1|  1|   false|        11|\n",
      "|        NB|  udp|           4|            1|  1|   false|        11|\n",
      "|        NB|  udp|           6|            1|  1|   false|        38|\n",
      "|        NB|  udp|           6|            1|  1|   false|        38|\n",
      "|        NB|  udp|           6|            1|  1|   false|        38|\n",
      "|       SRV|  udp|          57|            1|  0|   false|         5|\n",
      "|       SRV|  udp|          57|            1|  0|   false|         5|\n",
      "|       SRV|  udp|          57|            1|  0|   false|         5|\n",
      "|       PTR|  udp|          28|            1|  0|   false|         1|\n",
      "|       PTR|  udp|          28|            1|  0|   false|         1|\n",
      "|       SRV|  udp|          57|            1|  1|   false|         5|\n",
      "|        NB|  udp|          15|            1|  1|   false|        20|\n",
      "|        NB|  udp|          12|            1|  1|   false|        62|\n",
      "|        NB|  udp|          15|            1|  1|   false|        20|\n",
      "|      AAAA|  udp|          13|            1|  0|   false|        61|\n",
      "+----------+-----+------------+-------------+---+--------+----------+\n",
      "only showing top 20 rows\n",
      "\n"
     ]
    }
   ],
   "source": [
    "features = ['qtype_name', 'proto', 'query_length', 'answer_length', 'Z', 'rejected']\n",
    "transformed = model.transform(spark_df).select(features + ['prediction'])\n",
    "transformed.collect()\n",
    "transformed.show()"
   ]
  },
  {
   "cell_type": "code",
   "execution_count": 116,
   "metadata": {},
   "outputs": [
    {
     "name": "stdout",
     "output_type": "stream",
     "text": [
      "+----------+-----+------------+-------------+---+--------+----------+-----+\n",
      "|qtype_name|proto|query_length|answer_length|  Z|rejected|prediction|count|\n",
      "+----------+-----+------------+-------------+---+--------+----------+-----+\n",
      "|         A|  udp|          12|            1|  0|    true|         0|   26|\n",
      "|         A|  udp|          11|            1|  0|   false|         0| 4713|\n",
      "|       TXT|  tcp|          12|            1|  0|   false|         0|   19|\n",
      "|       TXT|  udp|          12|            1|  0|    true|         0|   15|\n",
      "|     HINFO|  udp|          12|            1|  0|   false|         0|    6|\n",
      "|       TXT|  udp|          12|            1|  0|   false|         0|  401|\n",
      "|         *|  udp|          12|            1|  0|   false|         0|    9|\n",
      "|       TXT|  tcp|          12|            1|  0|    true|         0|    5|\n",
      "|         A|  udp|          11|            1|  0|    true|         0|   39|\n",
      "|         A|  udp|          12|            1|  0|   false|         0| 4035|\n",
      "|       PTR|  udp|          27|           11|  0|   false|         1|   11|\n",
      "|       PTR|  udp|          28|            1|  0|    true|         1|    1|\n",
      "|       PTR|  udp|          27|            1|  0|    true|         1|   48|\n",
      "|       PTR|  udp|          27|            1|  0|   false|         1|24311|\n",
      "|       PTR|  udp|          28|            1|  0|   false|         1| 6100|\n",
      "|      AXFR|  tcp|          10|          687|  0|   false|         2|   74|\n",
      "|      AXFR|  tcp|          10|          347|  0|   false|         3|   75|\n",
      "|         -|  tcp|           1|          347|  0|   false|         3|    8|\n",
      "|       PTR|  udp|          20|          136|  0|   false|         4|    3|\n",
      "|       PTR|  udp|          23|          137|  0|   false|         4|    5|\n",
      "|       PTR|  udp|          23|          138|  0|   false|         4|   11|\n",
      "|       PTR|  udp|          20|          137|  0|   false|         4|   10|\n",
      "|         *|  udp|          54|            1|  0|   false|         5|  144|\n",
      "|      AAAA|  udp|          55|            1|  0|   false|         5|   12|\n",
      "|       SRV|  udp|          50|            1|  0|   false|         5|   18|\n",
      "|         A|  udp|          51|            1|  0|   false|         5|   10|\n",
      "|         *|  udp|          51|            1|  0|   false|         5|   16|\n",
      "|         A|  udp|          55|            1|  0|   false|         5|   11|\n",
      "|       SRV|  udp|          57|            1|  1|   false|         5| 3782|\n",
      "|      AAAA|  udp|          51|            1|  0|   false|         5|   10|\n",
      "|       TXT|  udp|          64|            1|  0|   false|         5|    2|\n",
      "|       SRV|  udp|          57|            1|  0|   false|         5| 6619|\n",
      "|         A|  udp|          59|            1|  0|   false|         5|   58|\n",
      "|      AAAA|  udp|          59|            1|  0|   false|         5|   59|\n",
      "|      AAAA|  udp|          21|            1|  0|   false|         6| 1825|\n",
      "|       PTR|  udp|          21|            1|  0|   false|         6|  381|\n",
      "|      AAAA|  udp|          22|            1|  0|   false|         6|  333|\n",
      "|      AAAA|  udp|          21|            1|  0|    true|         6|    2|\n",
      "|      AAAA|  udp|          20|            1|  0|   false|         6| 2326|\n",
      "|      AAAA|  udp|          21|            1|  1|   false|         6|    4|\n",
      "|        MX|  udp|          15|            1|  0|   false|         7|    6|\n",
      "|         A|  udp|          15|            1|  0|    true|         7|   37|\n",
      "|         A|  udp|          15|            1|  1|   false|         7|    8|\n",
      "|       PTR|  udp|          15|            1|  0|   false|         7|   27|\n",
      "|         A|  udp|          15|            1|  0|   false|         7|11854|\n",
      "|     HINFO|  udp|          15|            1|  0|   false|         7|    1|\n",
      "|         A|  tcp|          15|            1|  0|   false|         7|    4|\n",
      "|       TXT|  udp|          23|            1|  0|    true|         8|    2|\n",
      "|         A|  udp|          23|            1|  0|   false|         8| 3496|\n",
      "|       TXT|  udp|          23|            1|  0|   false|         8|   10|\n",
      "+----------+-----+------------+-------------+---+--------+----------+-----+\n",
      "only showing top 50 rows\n",
      "\n"
     ]
    }
   ],
   "source": [
    "transformed.groupby(features + ['prediction']).count().sort('prediction').show(50)"
   ]
  },
  {
   "cell_type": "markdown",
   "metadata": {},
   "source": [
    "# More Coming..."
   ]
  },
  {
   "cell_type": "markdown",
   "metadata": {},
   "source": [
    "<div style=\"float: right; margin: 50px 0px 0px -20px\"><img src=\"https://www.kitware.com/img/small_logo_over.png\" width=\"250px\"></div>\n",
    "## Wrap Up\n",
    "Well that's it for this notebook, we pulled in Bro data from a Parquet file, then did some digging with high speed, parallel SQL operations and we clustered our data to organize the restuls.\n",
    "\n",
    "If you liked this notebook please visit the [BAT](https://github.com/Kitware/bat) project for more notebooks and examples."
   ]
  }
 ],
 "metadata": {
  "kernelspec": {
   "display_name": "Python 3",
   "language": "python",
   "name": "python3"
  },
  "language_info": {
   "codemirror_mode": {
    "name": "ipython",
    "version": 3
   },
   "file_extension": ".py",
   "mimetype": "text/x-python",
   "name": "python",
   "nbconvert_exporter": "python",
   "pygments_lexer": "ipython3",
   "version": "3.6.2"
  }
 },
 "nbformat": 4,
 "nbformat_minor": 2
}
