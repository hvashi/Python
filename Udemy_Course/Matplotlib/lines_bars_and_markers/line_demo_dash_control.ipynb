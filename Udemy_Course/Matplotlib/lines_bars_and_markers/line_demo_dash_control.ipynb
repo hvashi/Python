{
  "cells": [
    {
      "cell_type": "code",
      "execution_count": null,
      "metadata": {
        "collapsed": false
      },
      "outputs": [],
      "source": [
        "%matplotlib inline"
      ]
    },
    {
      "cell_type": "markdown",
      "metadata": {},
      "source": [
        "\n# A simple plot with a custom dashed line\n\n\nA Line object's ``set_dashes`` method allows you to specify dashes with\na series of on/off lengths (in points).\n\n"
      ]
    },
    {
      "cell_type": "code",
      "execution_count": null,
      "metadata": {
        "collapsed": false
      },
      "outputs": [],
      "source": [
        "import numpy as np\nimport matplotlib.pyplot as plt\n\n\nx = np.linspace(0, 10, 500)\ndashes = [10, 5, 100, 5]  # 10 points on, 5 off, 100 on, 5 off\n\nfig, ax = plt.subplots()\nline1, = ax.plot(x, np.sin(x), '--', linewidth=2,\n                 label='Dashes set retroactively')\nline1.set_dashes(dashes)\n\nline2, = ax.plot(x, -1 * np.sin(x), dashes=[30, 5, 10, 5],\n                 label='Dashes set proactively')\n\nax.legend(loc='lower right')\nplt.show()"
      ]
    }
  ],
  "metadata": {
    "kernelspec": {
      "display_name": "Python 3",
      "language": "python",
      "name": "python3"
    },
    "language_info": {
      "codemirror_mode": {
        "name": "ipython",
        "version": 3
      },
      "file_extension": ".py",
      "mimetype": "text/x-python",
      "name": "python",
      "nbconvert_exporter": "python",
      "pygments_lexer": "ipython3",
      "version": "3.7.0"
    }
  },
  "nbformat": 4,
  "nbformat_minor": 0
}