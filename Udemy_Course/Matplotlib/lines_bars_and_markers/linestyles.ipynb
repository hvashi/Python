{
  "cells": [
    {
      "cell_type": "code",
      "execution_count": null,
      "metadata": {
        "collapsed": false
      },
      "outputs": [],
      "source": [
        "%matplotlib inline"
      ]
    },
    {
      "cell_type": "markdown",
      "metadata": {},
      "source": [
        "\n# Linestyles\n\n\nThis examples showcases different linestyles copying those of Tikz/PGF.\n\n"
      ]
    },
    {
      "cell_type": "code",
      "execution_count": null,
      "metadata": {
        "collapsed": false
      },
      "outputs": [],
      "source": [
        "import numpy as np\nimport matplotlib.pyplot as plt\nfrom collections import OrderedDict\nfrom matplotlib.transforms import blended_transform_factory\n\nlinestyles = OrderedDict(\n    [('solid',               (0, ())),\n     ('loosely dotted',      (0, (1, 10))),\n     ('dotted',              (0, (1, 5))),\n     ('densely dotted',      (0, (1, 1))),\n\n     ('loosely dashed',      (0, (5, 10))),\n     ('dashed',              (0, (5, 5))),\n     ('densely dashed',      (0, (5, 1))),\n\n     ('loosely dashdotted',  (0, (3, 10, 1, 10))),\n     ('dashdotted',          (0, (3, 5, 1, 5))),\n     ('densely dashdotted',  (0, (3, 1, 1, 1))),\n\n     ('loosely dashdotdotted', (0, (3, 10, 1, 10, 1, 10))),\n     ('dashdotdotted',         (0, (3, 5, 1, 5, 1, 5))),\n     ('densely dashdotdotted', (0, (3, 1, 1, 1, 1, 1)))])\n\n\nplt.figure(figsize=(10, 6))\nax = plt.subplot(1, 1, 1)\n\nX, Y = np.linspace(0, 100, 10), np.zeros(10)\nfor i, (name, linestyle) in enumerate(linestyles.items()):\n    ax.plot(X, Y+i, linestyle=linestyle, linewidth=1.5, color='black')\n\nax.set_ylim(-0.5, len(linestyles)-0.5)\nplt.yticks(np.arange(len(linestyles)), linestyles.keys())\nplt.xticks([])\n\n# For each line style, add a text annotation with a small offset from\n# the reference point (0 in Axes coords, y tick value in Data coords).\nreference_transform = blended_transform_factory(ax.transAxes, ax.transData)\nfor i, (name, linestyle) in enumerate(linestyles.items()):\n    ax.annotate(str(linestyle), xy=(0.0, i), xycoords=reference_transform,\n                xytext=(-6, -12), textcoords='offset points', color=\"blue\",\n                fontsize=8, ha=\"right\", family=\"monospace\")\n\nplt.tight_layout()\nplt.show()"
      ]
    }
  ],
  "metadata": {
    "kernelspec": {
      "display_name": "Python 3",
      "language": "python",
      "name": "python3"
    },
    "language_info": {
      "codemirror_mode": {
        "name": "ipython",
        "version": 3
      },
      "file_extension": ".py",
      "mimetype": "text/x-python",
      "name": "python",
      "nbconvert_exporter": "python",
      "pygments_lexer": "ipython3",
      "version": "3.7.0"
    }
  },
  "nbformat": 4,
  "nbformat_minor": 0
}