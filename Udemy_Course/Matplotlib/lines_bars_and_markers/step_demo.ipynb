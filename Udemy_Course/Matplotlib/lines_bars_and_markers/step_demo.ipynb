{
  "cells": [
    {
      "cell_type": "code",
      "execution_count": null,
      "metadata": {
        "collapsed": false
      },
      "outputs": [],
      "source": [
        "%matplotlib inline"
      ]
    },
    {
      "cell_type": "markdown",
      "metadata": {},
      "source": [
        "\n# Step Demo\n\n\nExample step plots.\n\n"
      ]
    },
    {
      "cell_type": "code",
      "execution_count": null,
      "metadata": {
        "collapsed": false
      },
      "outputs": [],
      "source": [
        "import numpy as np\nfrom numpy import ma\nimport matplotlib.pyplot as plt\n\nx = np.arange(1, 7, 0.4)\ny0 = np.sin(x)\ny = y0.copy() + 2.5\n\nplt.step(x, y, label='pre (default)')\n\ny -= 0.5\nplt.step(x, y, where='mid', label='mid')\n\ny -= 0.5\nplt.step(x, y, where='post', label='post')\n\ny = ma.masked_where((y0 > -0.15) & (y0 < 0.15), y - 0.5)\nplt.step(x, y, label='masked (pre)')\n\nplt.legend()\n\nplt.xlim(0, 7)\nplt.ylim(-0.5, 4)\n\nplt.show()"
      ]
    }
  ],
  "metadata": {
    "kernelspec": {
      "display_name": "Python 3",
      "language": "python",
      "name": "python3"
    },
    "language_info": {
      "codemirror_mode": {
        "name": "ipython",
        "version": 3
      },
      "file_extension": ".py",
      "mimetype": "text/x-python",
      "name": "python",
      "nbconvert_exporter": "python",
      "pygments_lexer": "ipython3",
      "version": "3.7.0"
    }
  },
  "nbformat": 4,
  "nbformat_minor": 0
}