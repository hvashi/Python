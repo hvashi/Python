{
  "cells": [
    {
      "cell_type": "code",
      "execution_count": null,
      "metadata": {
        "collapsed": false
      },
      "outputs": [],
      "source": [
        "%matplotlib inline"
      ]
    },
    {
      "cell_type": "markdown",
      "metadata": {},
      "source": [
        "\n# Connect Simple01\n\n\n\n"
      ]
    },
    {
      "cell_type": "code",
      "execution_count": null,
      "metadata": {
        "collapsed": false
      },
      "outputs": [],
      "source": [
        "from matplotlib.patches import ConnectionPatch\nimport matplotlib.pyplot as plt\n\nfig, (ax1, ax2) = plt.subplots(1, 2, figsize=(6, 3))\n\nxyA = (0.2, 0.2)\nxyB = (0.8, 0.8)\ncoordsA = \"data\"\ncoordsB = \"data\"\ncon = ConnectionPatch(xyA, xyB, coordsA, coordsB,\n                      arrowstyle=\"-|>\", shrinkA=5, shrinkB=5,\n                      mutation_scale=20, fc=\"w\")\nax1.plot([xyA[0], xyB[0]], [xyA[1], xyB[1]], \"o\")\nax1.add_artist(con)\n\nxy = (0.3, 0.2)\ncoordsA = \"data\"\ncoordsB = \"data\"\ncon = ConnectionPatch(xyA=xy, xyB=xy, coordsA=coordsA, coordsB=coordsB,\n                      axesA=ax2, axesB=ax1,\n                      arrowstyle=\"->\", shrinkB=5)\nax2.add_artist(con)\n\nax1.set_xlim(0, 1)\nax1.set_ylim(0, 1)\nax2.set_xlim(0, .5)\nax2.set_ylim(0, .5)\n\nplt.show()"
      ]
    }
  ],
  "metadata": {
    "kernelspec": {
      "display_name": "Python 3",
      "language": "python",
      "name": "python3"
    },
    "language_info": {
      "codemirror_mode": {
        "name": "ipython",
        "version": 3
      },
      "file_extension": ".py",
      "mimetype": "text/x-python",
      "name": "python",
      "nbconvert_exporter": "python",
      "pygments_lexer": "ipython3",
      "version": "3.7.0"
    }
  },
  "nbformat": 4,
  "nbformat_minor": 0
}