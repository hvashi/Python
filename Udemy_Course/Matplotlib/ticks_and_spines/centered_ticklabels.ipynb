{
  "cells": [
    {
      "cell_type": "code",
      "execution_count": null,
      "metadata": {
        "collapsed": false
      },
      "outputs": [],
      "source": [
        "%matplotlib inline"
      ]
    },
    {
      "cell_type": "markdown",
      "metadata": {},
      "source": [
        "\n# Centered Ticklabels\n\n\nsometimes it is nice to have ticklabels centered.  Matplotlib currently\nassociates a label with a tick, and the label can be aligned\n'center', 'left', or 'right' using the horizontal alignment property::\n\n    ax.xaxis.set_tick_params(horizontalalignment='right')\n\nbut this doesn't help center the label between ticks.  One solution\nis to \"fake it\".  Use the minor ticks to place a tick centered\nbetween the major ticks.  Here is an example that labels the months,\ncentered between the ticks\n\n"
      ]
    },
    {
      "cell_type": "code",
      "execution_count": null,
      "metadata": {
        "collapsed": false
      },
      "outputs": [],
      "source": [
        "import numpy as np\nimport matplotlib.cbook as cbook\nimport matplotlib.dates as dates\nimport matplotlib.ticker as ticker\nimport matplotlib.pyplot as plt\n\n# load some financial data; apple's stock price\nwith cbook.get_sample_data('aapl.npz') as fh:\n    r = np.load(fh)['price_data'].view(np.recarray)\nr = r[-250:]  # get the last 250 days\n# Matplotlib works better with datetime.datetime than np.datetime64, but the\n# latter is more portable.\ndate = r.date.astype('O')\n\nfig, ax = plt.subplots()\nax.plot(date, r.adj_close)\n\nax.xaxis.set_major_locator(dates.MonthLocator())\nax.xaxis.set_minor_locator(dates.MonthLocator(bymonthday=15))\n\nax.xaxis.set_major_formatter(ticker.NullFormatter())\nax.xaxis.set_minor_formatter(dates.DateFormatter('%b'))\n\nfor tick in ax.xaxis.get_minor_ticks():\n    tick.tick1line.set_markersize(0)\n    tick.tick2line.set_markersize(0)\n    tick.label1.set_horizontalalignment('center')\n\nimid = len(r) // 2\nax.set_xlabel(str(date[imid].year))\nplt.show()"
      ]
    }
  ],
  "metadata": {
    "kernelspec": {
      "display_name": "Python 3",
      "language": "python",
      "name": "python3"
    },
    "language_info": {
      "codemirror_mode": {
        "name": "ipython",
        "version": 3
      },
      "file_extension": ".py",
      "mimetype": "text/x-python",
      "name": "python",
      "nbconvert_exporter": "python",
      "pygments_lexer": "ipython3",
      "version": "3.7.0"
    }
  },
  "nbformat": 4,
  "nbformat_minor": 0
}