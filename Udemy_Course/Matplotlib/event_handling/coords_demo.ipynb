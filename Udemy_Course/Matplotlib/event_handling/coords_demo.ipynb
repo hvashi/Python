{
  "cells": [
    {
      "cell_type": "code",
      "execution_count": null,
      "metadata": {
        "collapsed": false
      },
      "outputs": [],
      "source": [
        "%matplotlib inline"
      ]
    },
    {
      "cell_type": "markdown",
      "metadata": {},
      "source": [
        "\n# Coords Demo\n\n\nAn example of how to interact with the plotting canvas by connecting\nto move and click events\n\n"
      ]
    },
    {
      "cell_type": "code",
      "execution_count": null,
      "metadata": {
        "collapsed": false
      },
      "outputs": [],
      "source": [
        "from __future__ import print_function\nimport sys\nimport matplotlib.pyplot as plt\nimport numpy as np\n\nt = np.arange(0.0, 1.0, 0.01)\ns = np.sin(2 * np.pi * t)\nfig, ax = plt.subplots()\nax.plot(t, s)\n\n\ndef on_move(event):\n    # get the x and y pixel coords\n    x, y = event.x, event.y\n\n    if event.inaxes:\n        ax = event.inaxes  # the axes instance\n        print('data coords %f %f' % (event.xdata, event.ydata))\n\n\ndef on_click(event):\n    # get the x and y coords, flip y from top to bottom\n    x, y = event.x, event.y\n    if event.button == 1:\n        if event.inaxes is not None:\n            print('data coords %f %f' % (event.xdata, event.ydata))\n\n\nbinding_id = plt.connect('motion_notify_event', on_move)\nplt.connect('button_press_event', on_click)\n\nif \"test_disconnect\" in sys.argv:\n    print(\"disconnecting console coordinate printout...\")\n    plt.disconnect(binding_id)\n\nplt.show()"
      ]
    }
  ],
  "metadata": {
    "kernelspec": {
      "display_name": "Python 3",
      "language": "python",
      "name": "python3"
    },
    "language_info": {
      "codemirror_mode": {
        "name": "ipython",
        "version": 3
      },
      "file_extension": ".py",
      "mimetype": "text/x-python",
      "name": "python",
      "nbconvert_exporter": "python",
      "pygments_lexer": "ipython3",
      "version": "3.7.0"
    }
  },
  "nbformat": 4,
  "nbformat_minor": 0
}