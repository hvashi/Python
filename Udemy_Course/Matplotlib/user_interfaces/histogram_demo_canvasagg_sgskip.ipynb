{
  "cells": [
    {
      "cell_type": "code",
      "execution_count": null,
      "metadata": {
        "collapsed": false
      },
      "outputs": [],
      "source": [
        "%matplotlib inline"
      ]
    },
    {
      "cell_type": "markdown",
      "metadata": {},
      "source": [
        "\n# Histogram Demo CanvasAgg\n\n\nThis is an example that shows you how to work directly with the agg\nfigure canvas to create a figure using the pythonic API.\n\nIn this example, the contents of the agg canvas are extracted to a\nstring, which can in turn be passed off to PIL or put in a numeric\narray\n\n\n\n"
      ]
    },
    {
      "cell_type": "code",
      "execution_count": null,
      "metadata": {
        "collapsed": false
      },
      "outputs": [],
      "source": [
        "from matplotlib.backends.backend_agg import FigureCanvasAgg\nfrom matplotlib.figure import Figure\nfrom matplotlib.mlab import normpdf\nimport numpy as np\n\nfig = Figure(figsize=(5, 4), dpi=100)\nax = fig.add_subplot(111)\n\ncanvas = FigureCanvasAgg(fig)\n\nmu, sigma = 100, 15\nx = mu + sigma * np.random.randn(10000)\n\n# the histogram of the data\nn, bins, patches = ax.hist(x, 50, normed=1)\n\n# add a 'best fit' line\ny = normpdf(bins, mu, sigma)\nline, = ax.plot(bins, y, 'r--')\nline.set_linewidth(1)\n\nax.set_xlabel('Smarts')\nax.set_ylabel('Probability')\nax.set_title(r'$\\mathrm{Histogram of IQ: }\\mu=100, \\sigma=15$')\n\nax.set_xlim((40, 160))\nax.set_ylim((0, 0.03))\n\ncanvas.draw()\n\ns = canvas.tostring_rgb()  # save this and convert to bitmap as needed\n\n# Get the figure dimensions for creating bitmaps or NumPy arrays,\n# etc.\nl, b, w, h = fig.bbox.bounds\nw, h = int(w), int(h)\n\nif 0:\n    # Convert to a NumPy array\n    X = np.fromstring(s, np.uint8).reshape((h, w, 3))\n\nif 0:\n    # pass off to PIL\n    from PIL import Image\n    im = Image.fromstring(\"RGB\", (w, h), s)\n    im.show()"
      ]
    }
  ],
  "metadata": {
    "kernelspec": {
      "display_name": "Python 3",
      "language": "python",
      "name": "python3"
    },
    "language_info": {
      "codemirror_mode": {
        "name": "ipython",
        "version": 3
      },
      "file_extension": ".py",
      "mimetype": "text/x-python",
      "name": "python",
      "nbconvert_exporter": "python",
      "pygments_lexer": "ipython3",
      "version": "3.7.0"
    }
  },
  "nbformat": 4,
  "nbformat_minor": 0
}