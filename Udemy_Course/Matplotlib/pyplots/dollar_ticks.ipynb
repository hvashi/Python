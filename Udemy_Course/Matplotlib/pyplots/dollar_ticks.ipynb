{
  "cells": [
    {
      "cell_type": "code",
      "execution_count": null,
      "metadata": {
        "collapsed": false
      },
      "outputs": [],
      "source": [
        "%matplotlib inline"
      ]
    },
    {
      "cell_type": "markdown",
      "metadata": {},
      "source": [
        "\n# Dollar Ticks\n\n\n\n"
      ]
    },
    {
      "cell_type": "code",
      "execution_count": null,
      "metadata": {
        "collapsed": false
      },
      "outputs": [],
      "source": [
        "import numpy as np\nimport matplotlib.pyplot as plt\nimport matplotlib.ticker as ticker\n\n# Fixing random state for reproducibility\nnp.random.seed(19680801)\n\nfig = plt.figure()\nax = fig.add_subplot(111)\nax.plot(100*np.random.rand(20))\n\nformatter = ticker.FormatStrFormatter('$%1.2f')\nax.yaxis.set_major_formatter(formatter)\n\nfor tick in ax.yaxis.get_major_ticks():\n    tick.label1On = False\n    tick.label2On = True\n    tick.label2.set_color('green')\n\nplt.show()"
      ]
    }
  ],
  "metadata": {
    "kernelspec": {
      "display_name": "Python 3",
      "language": "python",
      "name": "python3"
    },
    "language_info": {
      "codemirror_mode": {
        "name": "ipython",
        "version": 3
      },
      "file_extension": ".py",
      "mimetype": "text/x-python",
      "name": "python",
      "nbconvert_exporter": "python",
      "pygments_lexer": "ipython3",
      "version": "3.7.0"
    }
  },
  "nbformat": 4,
  "nbformat_minor": 0
}