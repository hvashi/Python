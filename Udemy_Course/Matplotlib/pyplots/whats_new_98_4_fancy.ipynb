{
  "cells": [
    {
      "cell_type": "code",
      "execution_count": null,
      "metadata": {
        "collapsed": false
      },
      "outputs": [],
      "source": [
        "%matplotlib inline"
      ]
    },
    {
      "cell_type": "markdown",
      "metadata": {},
      "source": [
        "\n======================\nWhats New 0.98.4 Fancy\n======================\n\n\n"
      ]
    },
    {
      "cell_type": "code",
      "execution_count": null,
      "metadata": {
        "collapsed": false
      },
      "outputs": [],
      "source": [
        "import matplotlib.patches as mpatch\nimport matplotlib.pyplot as plt\n\nfigheight = 8\nfig = plt.figure(1, figsize=(9, figheight), dpi=80)\nfontsize = 0.4 * fig.dpi\n\ndef make_boxstyles(ax):\n    styles = mpatch.BoxStyle.get_styles()\n\n    for i, (stylename, styleclass) in enumerate(sorted(styles.items())):\n        ax.text(0.5, (float(len(styles)) - 0.5 - i)/len(styles), stylename,\n                  ha=\"center\",\n                  size=fontsize,\n                  transform=ax.transAxes,\n                  bbox=dict(boxstyle=stylename, fc=\"w\", ec=\"k\"))\n\ndef make_arrowstyles(ax):\n    styles = mpatch.ArrowStyle.get_styles()\n\n    ax.set_xlim(0, 4)\n    ax.set_ylim(0, figheight)\n\n    for i, (stylename, styleclass) in enumerate(sorted(styles.items())):\n        y = (float(len(styles)) -0.25 - i) # /figheight\n        p = mpatch.Circle((3.2, y), 0.2, fc=\"w\")\n        ax.add_patch(p)\n\n        ax.annotate(stylename, (3.2, y),\n                    (2., y),\n                    #xycoords=\"figure fraction\", textcoords=\"figure fraction\",\n                    ha=\"right\", va=\"center\",\n                    size=fontsize,\n                    arrowprops=dict(arrowstyle=stylename,\n                                    patchB=p,\n                                    shrinkA=5,\n                                    shrinkB=5,\n                                    fc=\"w\", ec=\"k\",\n                                    connectionstyle=\"arc3,rad=-0.05\",\n                                    ),\n                    bbox=dict(boxstyle=\"square\", fc=\"w\"))\n\n    ax.xaxis.set_visible(False)\n    ax.yaxis.set_visible(False)\n\n\nax1 = fig.add_subplot(121, frameon=False, xticks=[], yticks=[])\nmake_boxstyles(ax1)\n\nax2 = fig.add_subplot(122, frameon=False, xticks=[], yticks=[])\nmake_arrowstyles(ax2)\n\n\nplt.show()"
      ]
    }
  ],
  "metadata": {
    "kernelspec": {
      "display_name": "Python 3",
      "language": "python",
      "name": "python3"
    },
    "language_info": {
      "codemirror_mode": {
        "name": "ipython",
        "version": 3
      },
      "file_extension": ".py",
      "mimetype": "text/x-python",
      "name": "python",
      "nbconvert_exporter": "python",
      "pygments_lexer": "ipython3",
      "version": "3.7.0"
    }
  },
  "nbformat": 4,
  "nbformat_minor": 0
}