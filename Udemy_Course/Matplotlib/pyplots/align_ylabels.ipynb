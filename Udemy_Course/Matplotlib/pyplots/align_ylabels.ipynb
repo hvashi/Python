{
  "cells": [
    {
      "cell_type": "code",
      "execution_count": null,
      "metadata": {
        "collapsed": false
      },
      "outputs": [],
      "source": [
        "%matplotlib inline"
      ]
    },
    {
      "cell_type": "markdown",
      "metadata": {},
      "source": [
        "\n# Align Ylabels\n\n\n\n"
      ]
    },
    {
      "cell_type": "code",
      "execution_count": null,
      "metadata": {
        "collapsed": false
      },
      "outputs": [],
      "source": [
        "import numpy as np\nimport matplotlib.pyplot as plt\n\nbox = dict(facecolor='yellow', pad=5, alpha=0.2)\n\nfig = plt.figure()\nfig.subplots_adjust(left=0.2, wspace=0.6)\n\n# Fixing random state for reproducibility\nnp.random.seed(19680801)\n\nax1 = fig.add_subplot(221)\nax1.plot(2000*np.random.rand(10))\nax1.set_title('ylabels not aligned')\nax1.set_ylabel('misaligned 1', bbox=box)\nax1.set_ylim(0, 2000)\nax3 = fig.add_subplot(223)\nax3.set_ylabel('misaligned 2',bbox=box)\nax3.plot(np.random.rand(10))\n\n\nlabelx = -0.3  # axes coords\n\nax2 = fig.add_subplot(222)\nax2.set_title('ylabels aligned')\nax2.plot(2000*np.random.rand(10))\nax2.set_ylabel('aligned 1', bbox=box)\nax2.yaxis.set_label_coords(labelx, 0.5)\nax2.set_ylim(0, 2000)\n\nax4 = fig.add_subplot(224)\nax4.plot(np.random.rand(10))\nax4.set_ylabel('aligned 2', bbox=box)\nax4.yaxis.set_label_coords(labelx, 0.5)\n\n\nplt.show()"
      ]
    }
  ],
  "metadata": {
    "kernelspec": {
      "display_name": "Python 3",
      "language": "python",
      "name": "python3"
    },
    "language_info": {
      "codemirror_mode": {
        "name": "ipython",
        "version": 3
      },
      "file_extension": ".py",
      "mimetype": "text/x-python",
      "name": "python",
      "nbconvert_exporter": "python",
      "pygments_lexer": "ipython3",
      "version": "3.7.0"
    }
  },
  "nbformat": 4,
  "nbformat_minor": 0
}