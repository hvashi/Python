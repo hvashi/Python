{
  "cells": [
    {
      "cell_type": "code",
      "execution_count": null,
      "metadata": {
        "collapsed": false
      },
      "outputs": [],
      "source": [
        "%matplotlib inline"
      ]
    },
    {
      "cell_type": "markdown",
      "metadata": {},
      "source": [
        "\n# Exploring normalizations\n\n\nLet's explore various normalization on a multivariate normal distribution.\n\n\n"
      ]
    },
    {
      "cell_type": "code",
      "execution_count": null,
      "metadata": {
        "collapsed": false
      },
      "outputs": [],
      "source": [
        "from matplotlib import pyplot as plt\nimport matplotlib.colors as mcolors\nimport numpy as np\nfrom numpy.random import multivariate_normal\n\ndata = np.vstack([\n    multivariate_normal([10, 10], [[3, 2], [2, 3]], size=100000),\n    multivariate_normal([30, 20], [[2, 3], [1, 3]], size=1000)\n])\n\ngammas = [0.8, 0.5, 0.3]\n\nfig, axes = plt.subplots(nrows=2, ncols=2)\n\naxes[0, 0].set_title('Linear normalization')\naxes[0, 0].hist2d(data[:, 0], data[:, 1], bins=100)\n\nfor ax, gamma in zip(axes.flat[1:], gammas):\n    ax.set_title('Power law $(\\gamma=%1.1f)$' % gamma)\n    ax.hist2d(data[:, 0], data[:, 1],\n              bins=100, norm=mcolors.PowerNorm(gamma))\n\nfig.tight_layout()\n\nplt.show()"
      ]
    }
  ],
  "metadata": {
    "kernelspec": {
      "display_name": "Python 3",
      "language": "python",
      "name": "python3"
    },
    "language_info": {
      "codemirror_mode": {
        "name": "ipython",
        "version": 3
      },
      "file_extension": ".py",
      "mimetype": "text/x-python",
      "name": "python",
      "nbconvert_exporter": "python",
      "pygments_lexer": "ipython3",
      "version": "3.7.0"
    }
  },
  "nbformat": 4,
  "nbformat_minor": 0
}