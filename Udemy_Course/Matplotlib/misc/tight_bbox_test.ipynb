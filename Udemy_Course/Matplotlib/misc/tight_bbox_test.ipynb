{
  "cells": [
    {
      "cell_type": "code",
      "execution_count": null,
      "metadata": {
        "collapsed": false
      },
      "outputs": [],
      "source": [
        "%matplotlib inline"
      ]
    },
    {
      "cell_type": "markdown",
      "metadata": {},
      "source": [
        "\n# Tight Bbox Test\n\n\n\n"
      ]
    },
    {
      "cell_type": "code",
      "execution_count": null,
      "metadata": {
        "collapsed": false
      },
      "outputs": [],
      "source": [
        "from __future__ import print_function\nimport matplotlib.pyplot as plt\nimport numpy as np\n\nax = plt.axes([0.1, 0.3, 0.5, 0.5])\n\nax.pcolormesh(np.array([[1, 2], [3, 4]]))\nplt.yticks([0.5, 1.5], [\"long long tick label\",\n                        \"tick label\"])\nplt.ylabel(\"My y-label\")\nplt.title(\"Check saved figures for their bboxes\")\nfor ext in [\"png\", \"pdf\", \"svg\", \"svgz\", \"eps\"]:\n    print(\"saving tight_bbox_test.%s\" % (ext,))\n    plt.savefig(\"tight_bbox_test.%s\" % (ext,), bbox_inches=\"tight\")\nplt.show()"
      ]
    }
  ],
  "metadata": {
    "kernelspec": {
      "display_name": "Python 3",
      "language": "python",
      "name": "python3"
    },
    "language_info": {
      "codemirror_mode": {
        "name": "ipython",
        "version": 3
      },
      "file_extension": ".py",
      "mimetype": "text/x-python",
      "name": "python",
      "nbconvert_exporter": "python",
      "pygments_lexer": "ipython3",
      "version": "3.7.0"
    }
  },
  "nbformat": 4,
  "nbformat_minor": 0
}