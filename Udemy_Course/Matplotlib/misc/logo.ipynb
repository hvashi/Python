{
  "cells": [
    {
      "cell_type": "code",
      "execution_count": null,
      "metadata": {
        "collapsed": false
      },
      "outputs": [],
      "source": [
        "%matplotlib inline"
      ]
    },
    {
      "cell_type": "markdown",
      "metadata": {},
      "source": [
        "\n# Logo\n\n\nThis file generates an old version of the Matplotlib logo.\n\n"
      ]
    },
    {
      "cell_type": "code",
      "execution_count": null,
      "metadata": {
        "collapsed": false
      },
      "outputs": [],
      "source": [
        "from __future__ import print_function\n# Above import not necessary for Python 3 onwards. Recommend taking this\n# out in examples in the future, since we should all move to Python 3.\nimport matplotlib.pyplot as plt\nimport numpy as np\nimport matplotlib.cbook as cbook\n\n# convert data to mV\ndatafile = cbook.get_sample_data('membrane.dat', asfileobj=False)\nprint('loading', datafile)\n\nx = 1000 * 0.1 * np.fromstring(open(datafile, 'rb').read(), np.float32)\n# 0.0005 is the sample interval\nt = 0.0005 * np.arange(len(x))\nplt.figure(1, figsize=(7, 1), dpi=100)\nax = plt.subplot(111, facecolor='y')\nplt.plot(t, x)\nplt.text(0.5, 0.5, 'matplotlib', color='r',\n         fontsize=40, fontname=['Courier', 'DejaVu Sans Mono'],\n         horizontalalignment='center',\n         verticalalignment='center',\n         transform=ax.transAxes,\n         )\nplt.axis([1, 1.72, -60, 10])\nplt.gca().set_xticklabels([])\nplt.gca().set_yticklabels([])\n\nplt.show()"
      ]
    }
  ],
  "metadata": {
    "kernelspec": {
      "display_name": "Python 3",
      "language": "python",
      "name": "python3"
    },
    "language_info": {
      "codemirror_mode": {
        "name": "ipython",
        "version": 3
      },
      "file_extension": ".py",
      "mimetype": "text/x-python",
      "name": "python",
      "nbconvert_exporter": "python",
      "pygments_lexer": "ipython3",
      "version": "3.7.0"
    }
  },
  "nbformat": 4,
  "nbformat_minor": 0
}