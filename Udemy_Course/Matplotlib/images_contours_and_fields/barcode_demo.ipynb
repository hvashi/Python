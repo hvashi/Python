{
  "cells": [
    {
      "cell_type": "code",
      "execution_count": null,
      "metadata": {
        "collapsed": false
      },
      "outputs": [],
      "source": [
        "%matplotlib inline"
      ]
    },
    {
      "cell_type": "markdown",
      "metadata": {},
      "source": [
        "\n# Barcode Demo\n\n\n\n"
      ]
    },
    {
      "cell_type": "code",
      "execution_count": null,
      "metadata": {
        "collapsed": false
      },
      "outputs": [],
      "source": [
        "import matplotlib.pyplot as plt\nimport numpy as np\n\n# Fixing random state for reproducibility\nnp.random.seed(19680801)\n\n\n# the bar\nx = np.where(np.random.rand(500) > 0.7, 1.0, 0.0)\n\naxprops = dict(xticks=[], yticks=[])\nbarprops = dict(aspect='auto', cmap=plt.cm.binary, interpolation='nearest')\n\nfig = plt.figure()\n\n# a vertical barcode -- this is broken at present\nax = fig.add_axes([0.1, 0.3, 0.1, 0.6], **axprops)\nax.imshow(x.reshape((-1, 1)), **barprops)\n\n# a horizontal barcode\nax = fig.add_axes([0.3, 0.1, 0.6, 0.1], **axprops)\nax.imshow(x.reshape((1, -1)), **barprops)\n\n\nplt.show()"
      ]
    }
  ],
  "metadata": {
    "kernelspec": {
      "display_name": "Python 3",
      "language": "python",
      "name": "python3"
    },
    "language_info": {
      "codemirror_mode": {
        "name": "ipython",
        "version": 3
      },
      "file_extension": ".py",
      "mimetype": "text/x-python",
      "name": "python",
      "nbconvert_exporter": "python",
      "pygments_lexer": "ipython3",
      "version": "3.7.0"
    }
  },
  "nbformat": 4,
  "nbformat_minor": 0
}