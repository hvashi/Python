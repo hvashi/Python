{
  "cells": [
    {
      "cell_type": "code",
      "execution_count": null,
      "metadata": {
        "collapsed": false
      },
      "outputs": [],
      "source": [
        "%matplotlib inline"
      ]
    },
    {
      "cell_type": "markdown",
      "metadata": {},
      "source": [
        "\n# Griddata Demo\n\n\n\n"
      ]
    },
    {
      "cell_type": "code",
      "execution_count": null,
      "metadata": {
        "collapsed": false
      },
      "outputs": [],
      "source": [
        "from matplotlib.mlab import griddata\nimport matplotlib.pyplot as plt\nimport numpy as np\n\n# make up data.\nrandom_state = np.random.RandomState(19680801)\n\nnpts = 200\nx = random_state.uniform(-2, 2, npts)\ny = random_state.uniform(-2, 2, npts)\nz = x*np.exp(-x**2 - y**2)\n# define grid.\nxi = np.linspace(-2.1, 2.1, 100)\nyi = np.linspace(-2.1, 2.1, 200)\n# grid the data.\nzi = griddata(x, y, z, xi, yi, interp='linear')\n# contour the gridded data, plotting dots at the nonuniform data points.\nCS = plt.contour(xi, yi, zi, 15, linewidths=0.5, colors='k')\nCS = plt.contourf(xi, yi, zi, 15,\n                  vmax=abs(zi).max(), vmin=-abs(zi).max())\nplt.colorbar()  # draw colorbar\n# plot data points.\nplt.scatter(x, y, marker='o', s=5, zorder=10)\nplt.xlim(-2, 2)\nplt.ylim(-2, 2)\nplt.title('griddata test (%d points)' % npts)\nplt.show()"
      ]
    }
  ],
  "metadata": {
    "kernelspec": {
      "display_name": "Python 3",
      "language": "python",
      "name": "python3"
    },
    "language_info": {
      "codemirror_mode": {
        "name": "ipython",
        "version": 3
      },
      "file_extension": ".py",
      "mimetype": "text/x-python",
      "name": "python",
      "nbconvert_exporter": "python",
      "pygments_lexer": "ipython3",
      "version": "3.7.0"
    }
  },
  "nbformat": 4,
  "nbformat_minor": 0
}