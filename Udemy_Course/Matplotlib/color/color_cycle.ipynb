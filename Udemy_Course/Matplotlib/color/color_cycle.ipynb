{
  "cells": [
    {
      "cell_type": "code",
      "execution_count": null,
      "metadata": {
        "collapsed": false
      },
      "outputs": [],
      "source": [
        "%matplotlib inline"
      ]
    },
    {
      "cell_type": "markdown",
      "metadata": {},
      "source": [
        "\n# Styling with cycler\n\n\nDemo of custom property-cycle settings to control colors and other style\nproperties for multi-line plots.\n\nThis example demonstrates two different APIs:\n\n    1. Setting the default rc parameter specifying the property cycle.\n       This affects all subsequent axes (but not axes already created).\n    2. Setting the property cycle for a single pair of axes.\n\n"
      ]
    },
    {
      "cell_type": "code",
      "execution_count": null,
      "metadata": {
        "collapsed": false
      },
      "outputs": [],
      "source": [
        "from cycler import cycler\nimport numpy as np\nimport matplotlib.pyplot as plt\n\n\nx = np.linspace(0, 2 * np.pi)\noffsets = np.linspace(0, 2*np.pi, 4, endpoint=False)\n# Create array with shifted-sine curve along each column\nyy = np.transpose([np.sin(x + phi) for phi in offsets])\n\n# 1. Setting prop cycle on default rc parameter\nplt.rc('lines', linewidth=4)\nplt.rc('axes', prop_cycle=(cycler('color', ['r', 'g', 'b', 'y']) +\n                           cycler('linestyle', ['-', '--', ':', '-.'])))\nfig, (ax0, ax1) = plt.subplots(nrows=2)\nax0.plot(yy)\nax0.set_title('Set default color cycle to rgby')\n\n# 2. Define prop cycle for single set of axes\nax1.set_prop_cycle(cycler('color', ['c', 'm', 'y', 'k']) +\n                   cycler('lw', [1, 2, 3, 4]))\nax1.plot(yy)\nax1.set_title('Set axes color cycle to cmyk')\n\n# Tweak spacing between subplots to prevent labels from overlapping\nfig.subplots_adjust(hspace=0.3)\nplt.show()"
      ]
    }
  ],
  "metadata": {
    "kernelspec": {
      "display_name": "Python 3",
      "language": "python",
      "name": "python3"
    },
    "language_info": {
      "codemirror_mode": {
        "name": "ipython",
        "version": 3
      },
      "file_extension": ".py",
      "mimetype": "text/x-python",
      "name": "python",
      "nbconvert_exporter": "python",
      "pygments_lexer": "ipython3",
      "version": "3.7.0"
    }
  },
  "nbformat": 4,
  "nbformat_minor": 0
}