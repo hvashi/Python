{
  "cells": [
    {
      "cell_type": "code",
      "execution_count": null,
      "metadata": {
        "collapsed": false
      },
      "outputs": [],
      "source": [
        "%matplotlib inline"
      ]
    },
    {
      "cell_type": "markdown",
      "metadata": {},
      "source": [
        "\n# Colours\n\n\nSome simple functions to generate colours.\n\n\n"
      ]
    },
    {
      "cell_type": "code",
      "execution_count": null,
      "metadata": {
        "collapsed": false
      },
      "outputs": [],
      "source": [
        "import numpy as np\nfrom matplotlib import colors as mcolors\n\n\ndef pastel(colour, weight=2.4):\n    \"\"\" Convert colour into a nice pastel shade\"\"\"\n    rgb = np.asarray(mcolors.to_rgba(colour)[:3])\n    # scale colour\n    maxc = max(rgb)\n    if maxc < 1.0 and maxc > 0:\n        # scale colour\n        scale = 1.0 / maxc\n        rgb = rgb * scale\n    # now decrease saturation\n    total = rgb.sum()\n    slack = 0\n    for x in rgb:\n        slack += 1.0 - x\n\n    # want to increase weight from total to weight\n    # pick x s.t.  slack * x == weight - total\n    # x = (weight - total) / slack\n    x = (weight - total) / slack\n\n    rgb = [c + (x * (1.0 - c)) for c in rgb]\n\n    return rgb\n\n\ndef get_colours(n):\n    \"\"\" Return n pastel colours. \"\"\"\n    base = np.asarray([[1, 0, 0], [0, 1, 0], [0, 0, 1]])\n\n    if n <= 3:\n        return base[0:n]\n\n    # how many new colours to we need to insert between\n    # red and green and between green and blue?\n    needed = (((n - 3) + 1) / 2, (n - 3) / 2)\n\n    colours = []\n    for start in (0, 1):\n        for x in np.linspace(0, 1, needed[start] + 2):\n            colours.append((base[start] * (1.0 - x)) +\n                           (base[start + 1] * x))\n\n    return [pastel(c) for c in colours[0:n]]"
      ]
    }
  ],
  "metadata": {
    "kernelspec": {
      "display_name": "Python 3",
      "language": "python",
      "name": "python3"
    },
    "language_info": {
      "codemirror_mode": {
        "name": "ipython",
        "version": 3
      },
      "file_extension": ".py",
      "mimetype": "text/x-python",
      "name": "python",
      "nbconvert_exporter": "python",
      "pygments_lexer": "ipython3",
      "version": "3.7.0"
    }
  },
  "nbformat": 4,
  "nbformat_minor": 0
}