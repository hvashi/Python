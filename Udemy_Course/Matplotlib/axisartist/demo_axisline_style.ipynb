{
  "cells": [
    {
      "cell_type": "code",
      "execution_count": null,
      "metadata": {
        "collapsed": false
      },
      "outputs": [],
      "source": [
        "%matplotlib inline"
      ]
    },
    {
      "cell_type": "markdown",
      "metadata": {},
      "source": [
        "\n# Axis line styles\n\n\nThis example shows some configurations for axis style.\n\n"
      ]
    },
    {
      "cell_type": "code",
      "execution_count": null,
      "metadata": {
        "collapsed": false
      },
      "outputs": [],
      "source": [
        "from mpl_toolkits.axisartist.axislines import SubplotZero\nimport matplotlib.pyplot as plt\nimport numpy as np\n\nif 1:\n    fig = plt.figure(1)\n    ax = SubplotZero(fig, 111)\n    fig.add_subplot(ax)\n\n    for direction in [\"xzero\", \"yzero\"]:\n        # adds arrows at the ends of each axis\n        ax.axis[direction].set_axisline_style(\"-|>\")\n\n        # adds X and Y-axis from the origin\n        ax.axis[direction].set_visible(True)\n\n    for direction in [\"left\", \"right\", \"bottom\", \"top\"]:\n        # hides borders\n        ax.axis[direction].set_visible(False)\n\n    x = np.linspace(-0.5, 1., 100)\n    ax.plot(x, np.sin(x*np.pi))\n\n    plt.show()"
      ]
    }
  ],
  "metadata": {
    "kernelspec": {
      "display_name": "Python 3",
      "language": "python",
      "name": "python3"
    },
    "language_info": {
      "codemirror_mode": {
        "name": "ipython",
        "version": 3
      },
      "file_extension": ".py",
      "mimetype": "text/x-python",
      "name": "python",
      "nbconvert_exporter": "python",
      "pygments_lexer": "ipython3",
      "version": "3.7.0"
    }
  },
  "nbformat": 4,
  "nbformat_minor": 0
}