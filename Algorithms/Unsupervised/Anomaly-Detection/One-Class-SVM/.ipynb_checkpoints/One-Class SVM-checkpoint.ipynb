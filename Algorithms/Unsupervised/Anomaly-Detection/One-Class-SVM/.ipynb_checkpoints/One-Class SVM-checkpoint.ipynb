{
 "cells": [
  {
   "cell_type": "markdown",
   "metadata": {},
   "source": [
    "## One-Class SVM"
   ]
  },
  {
   "cell_type": "markdown",
   "metadata": {},
   "source": [
    "The One-Class SVM has been introduced by Schölkopf et al. for that purpose and implemented in the Support Vector Machines module in the svm.OneClassSVM object. It requires the choice of a kernel and a scalar parameter to define a frontier. The RBF kernel is usually chosen although there exists no exact formula or algorithm to set its bandwidth parameter. This is the default in the scikit-learn implementation. The \\nu parameter, also known as the margin of the One-Class SVM, corresponds to the probability of finding a new, but regular, observation outside the frontier.\n",
    "\n",
    "One-class SVM is used for novelty detection, that is, given a set of samples, it will detect the soft boundary of that set so as to classify new points as belonging to that set or not. The class that implements this is called OneClassSVM.\n",
    "\n",
    "In this case, as it is a type of unsupervised learning, the fit method will only take as input an array X, as there are no class labels."
   ]
  },
  {
   "cell_type": "code",
   "execution_count": 1,
   "metadata": {
    "collapsed": true
   },
   "outputs": [],
   "source": [
    "#Loading Libraries\n",
    "import pandas as pd\n",
    "import numpy as np\n",
    "import matplotlib.pyplot as plt\n",
    "import warnings; warnings.simplefilter('ignore')\n",
    "%matplotlib inline"
   ]
  },
  {
   "cell_type": "code",
   "execution_count": 2,
   "metadata": {
    "collapsed": true
   },
   "outputs": [],
   "source": [
    "#Gathering Data\n",
    "credit = pd.read_csv(r\"E:\\Github\\Python\\Risk.txt\",sep=\",\",index_col=False)"
   ]
  },
  {
   "cell_type": "code",
   "execution_count": 3,
   "metadata": {},
   "outputs": [
    {
     "data": {
      "text/html": [
       "<div>\n",
       "<style scoped>\n",
       "    .dataframe tbody tr th:only-of-type {\n",
       "        vertical-align: middle;\n",
       "    }\n",
       "\n",
       "    .dataframe tbody tr th {\n",
       "        vertical-align: top;\n",
       "    }\n",
       "\n",
       "    .dataframe thead th {\n",
       "        text-align: right;\n",
       "    }\n",
       "</style>\n",
       "<table border=\"1\" class=\"dataframe\">\n",
       "  <thead>\n",
       "    <tr style=\"text-align: right;\">\n",
       "      <th></th>\n",
       "      <th>ID</th>\n",
       "      <th>AGE</th>\n",
       "      <th>INCOME</th>\n",
       "      <th>GENDER</th>\n",
       "      <th>MARITAL</th>\n",
       "      <th>NUMKIDS</th>\n",
       "      <th>NUMCARDS</th>\n",
       "      <th>HOWPAID</th>\n",
       "      <th>MORTGAGE</th>\n",
       "      <th>STORECAR</th>\n",
       "      <th>LOANS</th>\n",
       "      <th>RISK</th>\n",
       "    </tr>\n",
       "  </thead>\n",
       "  <tbody>\n",
       "    <tr>\n",
       "      <th>0</th>\n",
       "      <td>100756</td>\n",
       "      <td>44</td>\n",
       "      <td>59944</td>\n",
       "      <td>m</td>\n",
       "      <td>married</td>\n",
       "      <td>1</td>\n",
       "      <td>2</td>\n",
       "      <td>monthly</td>\n",
       "      <td>y</td>\n",
       "      <td>2</td>\n",
       "      <td>0</td>\n",
       "      <td>good risk</td>\n",
       "    </tr>\n",
       "    <tr>\n",
       "      <th>1</th>\n",
       "      <td>100668</td>\n",
       "      <td>35</td>\n",
       "      <td>59692</td>\n",
       "      <td>m</td>\n",
       "      <td>married</td>\n",
       "      <td>1</td>\n",
       "      <td>1</td>\n",
       "      <td>monthly</td>\n",
       "      <td>y</td>\n",
       "      <td>1</td>\n",
       "      <td>0</td>\n",
       "      <td>bad loss</td>\n",
       "    </tr>\n",
       "    <tr>\n",
       "      <th>2</th>\n",
       "      <td>100418</td>\n",
       "      <td>34</td>\n",
       "      <td>59508</td>\n",
       "      <td>m</td>\n",
       "      <td>married</td>\n",
       "      <td>1</td>\n",
       "      <td>1</td>\n",
       "      <td>monthly</td>\n",
       "      <td>y</td>\n",
       "      <td>2</td>\n",
       "      <td>1</td>\n",
       "      <td>good risk</td>\n",
       "    </tr>\n",
       "    <tr>\n",
       "      <th>3</th>\n",
       "      <td>100416</td>\n",
       "      <td>34</td>\n",
       "      <td>59463</td>\n",
       "      <td>m</td>\n",
       "      <td>married</td>\n",
       "      <td>0</td>\n",
       "      <td>2</td>\n",
       "      <td>monthly</td>\n",
       "      <td>y</td>\n",
       "      <td>1</td>\n",
       "      <td>1</td>\n",
       "      <td>bad loss</td>\n",
       "    </tr>\n",
       "    <tr>\n",
       "      <th>4</th>\n",
       "      <td>100590</td>\n",
       "      <td>39</td>\n",
       "      <td>59393</td>\n",
       "      <td>f</td>\n",
       "      <td>married</td>\n",
       "      <td>0</td>\n",
       "      <td>2</td>\n",
       "      <td>monthly</td>\n",
       "      <td>y</td>\n",
       "      <td>1</td>\n",
       "      <td>0</td>\n",
       "      <td>good risk</td>\n",
       "    </tr>\n",
       "  </tbody>\n",
       "</table>\n",
       "</div>"
      ],
      "text/plain": [
       "       ID  AGE  INCOME GENDER    MARITAL  NUMKIDS  NUMCARDS  HOWPAID MORTGAGE  \\\n",
       "0  100756   44   59944      m  married          1         2  monthly        y   \n",
       "1  100668   35   59692      m  married          1         1  monthly        y   \n",
       "2  100418   34   59508      m  married          1         1  monthly        y   \n",
       "3  100416   34   59463      m  married          0         2  monthly        y   \n",
       "4  100590   39   59393      f  married          0         2  monthly        y   \n",
       "\n",
       "   STORECAR  LOANS        RISK  \n",
       "0         2      0  good risk   \n",
       "1         1      0  bad loss    \n",
       "2         2      1  good risk   \n",
       "3         1      1  bad loss    \n",
       "4         1      0  good risk   "
      ]
     },
     "execution_count": 3,
     "metadata": {},
     "output_type": "execute_result"
    }
   ],
   "source": [
    "#First 5 Rows of Data\n",
    "credit.head()"
   ]
  },
  {
   "cell_type": "code",
   "execution_count": 4,
   "metadata": {
    "collapsed": true
   },
   "outputs": [],
   "source": [
    "#Selecting Numeric Fields To Be Used In Modelling\n",
    "X = credit[['AGE','INCOME','NUMKIDS','NUMCARDS','LOANS']]"
   ]
  },
  {
   "cell_type": "code",
   "execution_count": 5,
   "metadata": {
    "collapsed": true
   },
   "outputs": [],
   "source": [
    "#Loading Min Max Scaling and Creating New Data Frame\n",
    "from sklearn.preprocessing import MinMaxScaler\n",
    "scaler = MinMaxScaler()\n",
    "X_normalized = pd.DataFrame(scaler.fit_transform(X))"
   ]
  },
  {
   "cell_type": "code",
   "execution_count": 6,
   "metadata": {
    "collapsed": true
   },
   "outputs": [],
   "source": [
    "#Assining Column Names\n",
    "X_normalized.columns = ['AGE','INCOME','NUMKIDS','NUMCARDS','LOANS']"
   ]
  },
  {
   "cell_type": "code",
   "execution_count": 7,
   "metadata": {},
   "outputs": [
    {
     "data": {
      "text/plain": [
       "OneClassSVM(cache_size=200, coef0=0.0, degree=3, gamma='auto', kernel='rbf',\n",
       "      max_iter=-1, nu=0.5, random_state=None, shrinking=True, tol=0.001,\n",
       "      verbose=False)"
      ]
     },
     "execution_count": 7,
     "metadata": {},
     "output_type": "execute_result"
    }
   ],
   "source": [
    "#Implementing Algorithm\n",
    "from sklearn import svm\n",
    "clf = svm.OneClassSVM()\n",
    "clf.fit(X_normalized)"
   ]
  },
  {
   "cell_type": "code",
   "execution_count": 8,
   "metadata": {
    "collapsed": true
   },
   "outputs": [],
   "source": [
    "#Predicting Anomaly Class and Anomaly Score\n",
    "Anomaly_Class = clf.predict(X_normalized)\n",
    "Anomaly_Score = clf.decision_function(X_normalized)"
   ]
  },
  {
   "cell_type": "code",
   "execution_count": 9,
   "metadata": {
    "collapsed": true
   },
   "outputs": [],
   "source": [
    "#Creating New Columns Based on Anomaly Detection\n",
    "X['Anomaly_Class'] = Anomaly_Class\n",
    "X['Anomaly_Score'] = Anomaly_Score"
   ]
  },
  {
   "cell_type": "code",
   "execution_count": 10,
   "metadata": {},
   "outputs": [
    {
     "data": {
      "text/html": [
       "<div>\n",
       "<style scoped>\n",
       "    .dataframe tbody tr th:only-of-type {\n",
       "        vertical-align: middle;\n",
       "    }\n",
       "\n",
       "    .dataframe tbody tr th {\n",
       "        vertical-align: top;\n",
       "    }\n",
       "\n",
       "    .dataframe thead th {\n",
       "        text-align: right;\n",
       "    }\n",
       "</style>\n",
       "<table border=\"1\" class=\"dataframe\">\n",
       "  <thead>\n",
       "    <tr style=\"text-align: right;\">\n",
       "      <th></th>\n",
       "      <th>Anomaly_Score</th>\n",
       "    </tr>\n",
       "    <tr>\n",
       "      <th>Anomaly_Class</th>\n",
       "      <th></th>\n",
       "    </tr>\n",
       "  </thead>\n",
       "  <tbody>\n",
       "    <tr>\n",
       "      <th>-1</th>\n",
       "      <td>2060</td>\n",
       "    </tr>\n",
       "    <tr>\n",
       "      <th>1</th>\n",
       "      <td>2057</td>\n",
       "    </tr>\n",
       "  </tbody>\n",
       "</table>\n",
       "</div>"
      ],
      "text/plain": [
       "               Anomaly_Score\n",
       "Anomaly_Class               \n",
       "-1                      2060\n",
       " 1                      2057"
      ]
     },
     "execution_count": 10,
     "metadata": {},
     "output_type": "execute_result"
    }
   ],
   "source": [
    "#Viewing Class Counts\n",
    "#-1 is anomaly, 1 is normal\n",
    "X.groupby('Anomaly_Class')[['Anomaly_Score']].count()"
   ]
  },
  {
   "cell_type": "code",
   "execution_count": 11,
   "metadata": {},
   "outputs": [
    {
     "data": {
      "text/plain": [
       "array([<matplotlib.axes._subplots.AxesSubplot object at 0x000002074B95A400>,\n",
       "       <matplotlib.axes._subplots.AxesSubplot object at 0x000002074BC83630>], dtype=object)"
      ]
     },
     "execution_count": 11,
     "metadata": {},
     "output_type": "execute_result"
    },
    {
     "data": {
      "image/png": "[encoded data removed]",
      "text/plain": [
       "<matplotlib.figure.Figure at 0x207451615c0>"
      ]
     },
     "metadata": {},
     "output_type": "display_data"
    }
   ],
   "source": [
    "#Histogram of Anomaly Scores By Anomaly Class\n",
    "X['Anomaly_Score'].hist(by=X['Anomaly_Class'])"
   ]
  },
  {
   "cell_type": "code",
   "execution_count": 12,
   "metadata": {},
   "outputs": [
    {
     "data": {
      "text/plain": [
       "count    4117.000000\n",
       "mean      -10.850328\n",
       "std        60.728093\n",
       "min      -232.212559\n",
       "25%       -46.644099\n",
       "50%        -0.000324\n",
       "75%        33.108451\n",
       "max       104.006002\n",
       "Name: Anomaly_Score, dtype: float64"
      ]
     },
     "execution_count": 12,
     "metadata": {},
     "output_type": "execute_result"
    }
   ],
   "source": [
    "#Descriptive Statistics\n",
    "X['Anomaly_Score'].describe()"
   ]
  },
  {
   "cell_type": "code",
   "execution_count": 13,
   "metadata": {},
   "outputs": [
    {
     "data": {
      "text/plain": [
       "OneClassSVM(cache_size=200, coef0=0.0, degree=3, gamma=0.1, kernel='rbf',\n",
       "      max_iter=-1, nu=0.1, random_state=None, shrinking=True, tol=0.001,\n",
       "      verbose=False)"
      ]
     },
     "execution_count": 13,
     "metadata": {},
     "output_type": "execute_result"
    }
   ],
   "source": [
    "#Implementing Algorithm With Different Parameters\n",
    "from sklearn import svm\n",
    "clf = svm.OneClassSVM(nu=0.1, gamma=0.1)\n",
    "clf.fit(X_normalized)"
   ]
  },
  {
   "cell_type": "code",
   "execution_count": 14,
   "metadata": {
    "collapsed": true
   },
   "outputs": [],
   "source": [
    "#Predicting Anomaly Class and Anomaly Score\n",
    "Anomaly_Class = clf.predict(X_normalized)\n",
    "Anomaly_Score = clf.decision_function(X_normalized)"
   ]
  },
  {
   "cell_type": "code",
   "execution_count": 15,
   "metadata": {
    "collapsed": true
   },
   "outputs": [],
   "source": [
    "#Creating New Columns Based on Anomaly Detection\n",
    "X['Anomaly_Class_nu_01_gamma_01'] = Anomaly_Class\n",
    "X['Anomaly_Score_nu_01_gamma_01'] = Anomaly_Score"
   ]
  },
  {
   "cell_type": "code",
   "execution_count": 16,
   "metadata": {},
   "outputs": [
    {
     "data": {
      "text/html": [
       "<div>\n",
       "<style scoped>\n",
       "    .dataframe tbody tr th:only-of-type {\n",
       "        vertical-align: middle;\n",
       "    }\n",
       "\n",
       "    .dataframe tbody tr th {\n",
       "        vertical-align: top;\n",
       "    }\n",
       "\n",
       "    .dataframe thead th {\n",
       "        text-align: right;\n",
       "    }\n",
       "</style>\n",
       "<table border=\"1\" class=\"dataframe\">\n",
       "  <thead>\n",
       "    <tr style=\"text-align: right;\">\n",
       "      <th></th>\n",
       "      <th>Anomaly_Score_nu_01_gamma_01</th>\n",
       "    </tr>\n",
       "    <tr>\n",
       "      <th>Anomaly_Class_nu_01_gamma_01</th>\n",
       "      <th></th>\n",
       "    </tr>\n",
       "  </thead>\n",
       "  <tbody>\n",
       "    <tr>\n",
       "      <th>-1</th>\n",
       "      <td>411</td>\n",
       "    </tr>\n",
       "    <tr>\n",
       "      <th>1</th>\n",
       "      <td>3706</td>\n",
       "    </tr>\n",
       "  </tbody>\n",
       "</table>\n",
       "</div>"
      ],
      "text/plain": [
       "                              Anomaly_Score_nu_01_gamma_01\n",
       "Anomaly_Class_nu_01_gamma_01                              \n",
       "-1                                                     411\n",
       " 1                                                    3706"
      ]
     },
     "execution_count": 16,
     "metadata": {},
     "output_type": "execute_result"
    }
   ],
   "source": [
    "#Viewing Class Counts\n",
    "#-1 is anomaly, 1 is normal\n",
    "X.groupby('Anomaly_Class_nu_01_gamma_01')[['Anomaly_Score_nu_01_gamma_01']].count()"
   ]
  },
  {
   "cell_type": "code",
   "execution_count": 17,
   "metadata": {
    "scrolled": true
   },
   "outputs": [
    {
     "data": {
      "text/plain": [
       "array([<matplotlib.axes._subplots.AxesSubplot object at 0x000002074870BDA0>,\n",
       "       <matplotlib.axes._subplots.AxesSubplot object at 0x000002074C0D08D0>], dtype=object)"
      ]
     },
     "execution_count": 17,
     "metadata": {},
     "output_type": "execute_result"
    },
    {
     "data": {
      "image/png": "[encoded data removed]",
      "text/plain": [
       "<matplotlib.figure.Figure at 0x2074bd4c7b8>"
      ]
     },
     "metadata": {},
     "output_type": "display_data"
    }
   ],
   "source": [
    "#Histogram of Anomaly Scores By Anomaly Class\n",
    "X['Anomaly_Score_nu_01_gamma_01'].hist(by=X['Anomaly_Class_nu_01_gamma_01'])"
   ]
  },
  {
   "cell_type": "code",
   "execution_count": 28,
   "metadata": {},
   "outputs": [
    {
     "data": {
      "text/plain": [
       "count    4117.000000\n",
       "mean        7.784209\n",
       "std         6.011835\n",
       "min       -11.749154\n",
       "25%         3.562733\n",
       "50%         7.713521\n",
       "75%        12.206695\n",
       "max        21.905541\n",
       "Name: Anomaly_Score_nu_01_gamma_01, dtype: float64"
      ]
     },
     "execution_count": 28,
     "metadata": {},
     "output_type": "execute_result"
    }
   ],
   "source": [
    "#Descriptive Statistics\n",
    "X['Anomaly_Score_nu_01_gamma_01'].describe()"
   ]
  },
  {
   "cell_type": "code",
   "execution_count": 18,
   "metadata": {},
   "outputs": [
    {
     "data": {
      "text/plain": [
       "OneClassSVM(cache_size=200, coef0=0.0, degree=3, gamma=0.01, kernel='rbf',\n",
       "      max_iter=-1, nu=0.1, random_state=None, shrinking=True, tol=0.001,\n",
       "      verbose=False)"
      ]
     },
     "execution_count": 18,
     "metadata": {},
     "output_type": "execute_result"
    }
   ],
   "source": [
    "#Implementing Algorithm With Different Parameters\n",
    "#holding nu=0.1 and changing gamma to 0.01 to check results\n",
    "from sklearn import svm\n",
    "clf = svm.OneClassSVM(nu=0.1, gamma=0.01)\n",
    "clf.fit(X_normalized)"
   ]
  },
  {
   "cell_type": "code",
   "execution_count": 19,
   "metadata": {
    "collapsed": true
   },
   "outputs": [],
   "source": [
    "#Predicting Anomaly Class and Anomaly Score\n",
    "Anomaly_Class = clf.predict(X_normalized)\n",
    "Anomaly_Score = clf.decision_function(X_normalized)"
   ]
  },
  {
   "cell_type": "code",
   "execution_count": 20,
   "metadata": {
    "collapsed": true
   },
   "outputs": [],
   "source": [
    "#Creating New Columns Based on Anomaly Detection\n",
    "X['Anomaly_Class_nu_01_gamma_001'] = Anomaly_Class\n",
    "X['Anomaly_Score_nu_01_gamma_001'] = Anomaly_Score"
   ]
  },
  {
   "cell_type": "code",
   "execution_count": 21,
   "metadata": {},
   "outputs": [
    {
     "data": {
      "text/html": [
       "<div>\n",
       "<style scoped>\n",
       "    .dataframe tbody tr th:only-of-type {\n",
       "        vertical-align: middle;\n",
       "    }\n",
       "\n",
       "    .dataframe tbody tr th {\n",
       "        vertical-align: top;\n",
       "    }\n",
       "\n",
       "    .dataframe thead th {\n",
       "        text-align: right;\n",
       "    }\n",
       "</style>\n",
       "<table border=\"1\" class=\"dataframe\">\n",
       "  <thead>\n",
       "    <tr style=\"text-align: right;\">\n",
       "      <th></th>\n",
       "      <th>Anomaly_Score_nu_01_gamma_001</th>\n",
       "    </tr>\n",
       "    <tr>\n",
       "      <th>Anomaly_Class_nu_01_gamma_001</th>\n",
       "      <th></th>\n",
       "    </tr>\n",
       "  </thead>\n",
       "  <tbody>\n",
       "    <tr>\n",
       "      <th>-1</th>\n",
       "      <td>411</td>\n",
       "    </tr>\n",
       "    <tr>\n",
       "      <th>1</th>\n",
       "      <td>3706</td>\n",
       "    </tr>\n",
       "  </tbody>\n",
       "</table>\n",
       "</div>"
      ],
      "text/plain": [
       "                               Anomaly_Score_nu_01_gamma_001\n",
       "Anomaly_Class_nu_01_gamma_001                               \n",
       "-1                                                       411\n",
       " 1                                                      3706"
      ]
     },
     "execution_count": 21,
     "metadata": {},
     "output_type": "execute_result"
    }
   ],
   "source": [
    "#Viewing Class Counts\n",
    "#-1 is anomaly, 1 is normal\n",
    "X.groupby('Anomaly_Class_nu_01_gamma_001')[['Anomaly_Score_nu_01_gamma_001']].count()"
   ]
  },
  {
   "cell_type": "code",
   "execution_count": 22,
   "metadata": {
    "scrolled": true
   },
   "outputs": [
    {
     "data": {
      "text/plain": [
       "array([<matplotlib.axes._subplots.AxesSubplot object at 0x000002074C0E37B8>,\n",
       "       <matplotlib.axes._subplots.AxesSubplot object at 0x000002074C1AE550>], dtype=object)"
      ]
     },
     "execution_count": 22,
     "metadata": {},
     "output_type": "execute_result"
    },
    {
     "data": {
      "image/png": "[encoded data removed]",
      "text/plain": [
       "<matplotlib.figure.Figure at 0x2074c0aee80>"
      ]
     },
     "metadata": {},
     "output_type": "display_data"
    }
   ],
   "source": [
    "#Histogram of Anomaly Scores By Anomaly Class\n",
    "X['Anomaly_Score_nu_01_gamma_001'].hist(by=X['Anomaly_Class_nu_01_gamma_001'])"
   ]
  },
  {
   "cell_type": "code",
   "execution_count": 29,
   "metadata": {},
   "outputs": [
    {
     "data": {
      "text/plain": [
       "count    4117.000000\n",
       "mean        0.992404\n",
       "std         0.744656\n",
       "min        -1.406578\n",
       "25%         0.479695\n",
       "50%         0.993057\n",
       "75%         1.550259\n",
       "max         2.669016\n",
       "Name: Anomaly_Score_nu_01_gamma_001, dtype: float64"
      ]
     },
     "execution_count": 29,
     "metadata": {},
     "output_type": "execute_result"
    }
   ],
   "source": [
    "#Descriptive Statistics\n",
    "X['Anomaly_Score_nu_01_gamma_001'].describe()"
   ]
  },
  {
   "cell_type": "code",
   "execution_count": 23,
   "metadata": {},
   "outputs": [
    {
     "data": {
      "text/plain": [
       "OneClassSVM(cache_size=200, coef0=0.0, degree=3, gamma=0.1, kernel='rbf',\n",
       "      max_iter=-1, nu=0.01, random_state=None, shrinking=True, tol=0.001,\n",
       "      verbose=False)"
      ]
     },
     "execution_count": 23,
     "metadata": {},
     "output_type": "execute_result"
    }
   ],
   "source": [
    "#Implementing Algorithm With Different Parameters\n",
    "#holding gamma=0.1 and changing nu to 0.01 to check results\n",
    "from sklearn import svm\n",
    "clf = svm.OneClassSVM(nu=0.01, gamma=0.1)\n",
    "clf.fit(X_normalized)"
   ]
  },
  {
   "cell_type": "code",
   "execution_count": 24,
   "metadata": {
    "collapsed": true
   },
   "outputs": [],
   "source": [
    "#Predicting Anomaly Class and Anomaly Score\n",
    "Anomaly_Class = clf.predict(X_normalized)\n",
    "Anomaly_Score = clf.decision_function(X_normalized)"
   ]
  },
  {
   "cell_type": "code",
   "execution_count": 25,
   "metadata": {
    "collapsed": true
   },
   "outputs": [],
   "source": [
    "#Creating New Columns Based on Anomaly Detection\n",
    "X['Anomaly_Class_nu_001_gamma_01'] = Anomaly_Class\n",
    "X['Anomaly_Score_nu_001_gamma_01'] = Anomaly_Score"
   ]
  },
  {
   "cell_type": "code",
   "execution_count": 26,
   "metadata": {},
   "outputs": [
    {
     "data": {
      "text/html": [
       "<div>\n",
       "<style scoped>\n",
       "    .dataframe tbody tr th:only-of-type {\n",
       "        vertical-align: middle;\n",
       "    }\n",
       "\n",
       "    .dataframe tbody tr th {\n",
       "        vertical-align: top;\n",
       "    }\n",
       "\n",
       "    .dataframe thead th {\n",
       "        text-align: right;\n",
       "    }\n",
       "</style>\n",
       "<table border=\"1\" class=\"dataframe\">\n",
       "  <thead>\n",
       "    <tr style=\"text-align: right;\">\n",
       "      <th></th>\n",
       "      <th>Anomaly_Score_nu_001_gamma_01</th>\n",
       "    </tr>\n",
       "    <tr>\n",
       "      <th>Anomaly_Class_nu_001_gamma_01</th>\n",
       "      <th></th>\n",
       "    </tr>\n",
       "  </thead>\n",
       "  <tbody>\n",
       "    <tr>\n",
       "      <th>-1</th>\n",
       "      <td>40</td>\n",
       "    </tr>\n",
       "    <tr>\n",
       "      <th>1</th>\n",
       "      <td>4077</td>\n",
       "    </tr>\n",
       "  </tbody>\n",
       "</table>\n",
       "</div>"
      ],
      "text/plain": [
       "                               Anomaly_Score_nu_001_gamma_01\n",
       "Anomaly_Class_nu_001_gamma_01                               \n",
       "-1                                                        40\n",
       " 1                                                      4077"
      ]
     },
     "execution_count": 26,
     "metadata": {},
     "output_type": "execute_result"
    }
   ],
   "source": [
    "#Viewing Class Counts\n",
    "#-1 is anomaly, 1 is normal\n",
    "X.groupby('Anomaly_Class_nu_001_gamma_01')[['Anomaly_Score_nu_001_gamma_01']].count()"
   ]
  },
  {
   "cell_type": "code",
   "execution_count": 27,
   "metadata": {
    "scrolled": false
   },
   "outputs": [
    {
     "data": {
      "text/plain": [
       "array([<matplotlib.axes._subplots.AxesSubplot object at 0x000002074C2039B0>,\n",
       "       <matplotlib.axes._subplots.AxesSubplot object at 0x000002074C287438>], dtype=object)"
      ]
     },
     "execution_count": 27,
     "metadata": {},
     "output_type": "execute_result"
    },
    {
     "data": {
      "image/png": "[encoded data removed]",
      "text/plain": [
       "<matplotlib.figure.Figure at 0x2074c0dd780>"
      ]
     },
     "metadata": {},
     "output_type": "display_data"
    }
   ],
   "source": [
    "#Histogram of Anomaly Scores By Anomaly Class\n",
    "X['Anomaly_Score_nu_001_gamma_01'].hist(by=X['Anomaly_Class_nu_001_gamma_01'])"
   ]
  },
  {
   "cell_type": "code",
   "execution_count": 30,
   "metadata": {},
   "outputs": [
    {
     "data": {
      "text/plain": [
       "count    4117.000000\n",
       "mean        1.212170\n",
       "std         0.591178\n",
       "min        -0.482021\n",
       "25%         0.780047\n",
       "50%         1.194249\n",
       "75%         1.631140\n",
       "max         2.670704\n",
       "Name: Anomaly_Score_nu_001_gamma_01, dtype: float64"
      ]
     },
     "execution_count": 30,
     "metadata": {},
     "output_type": "execute_result"
    }
   ],
   "source": [
    "#Descriptive Statistics\n",
    "X['Anomaly_Score_nu_001_gamma_01'].describe()"
   ]
  }
 ],
 "metadata": {
  "kernelspec": {
   "display_name": "Python 3",
   "language": "python",
   "name": "python3"
  },
  "language_info": {
   "codemirror_mode": {
    "name": "ipython",
    "version": 3
   },
   "file_extension": ".py",
   "mimetype": "text/x-python",
   "name": "python",
   "nbconvert_exporter": "python",
   "pygments_lexer": "ipython3",
   "version": "3.6.3"
  }
 },
 "nbformat": 4,
 "nbformat_minor": 2
}
