{
  "cells": [
    {
      "cell_type": "code",
      "execution_count": null,
      "metadata": {
        "collapsed": false
      },
      "outputs": [],
      "source": [
        "%matplotlib inline"
      ]
    },
    {
      "cell_type": "markdown",
      "metadata": {},
      "source": [
        "\n# Custom Figure Class\n\n\nYou can pass a custom Figure constructor to figure if you want to derive from\nthe default Figure.  This simple example creates a figure with a figure title.\n\n"
      ]
    },
    {
      "cell_type": "code",
      "execution_count": null,
      "metadata": {
        "collapsed": false
      },
      "outputs": [],
      "source": [
        "from matplotlib.pyplot import figure, show\nfrom matplotlib.figure import Figure\n\n\nclass MyFigure(Figure):\n    def __init__(self, *args, **kwargs):\n        \"\"\"\n        custom kwarg figtitle is a figure title\n        \"\"\"\n        figtitle = kwargs.pop('figtitle', 'hi mom')\n        Figure.__init__(self, *args, **kwargs)\n        self.text(0.5, 0.95, figtitle, ha='center')\n\n\nfig = figure(FigureClass=MyFigure, figtitle='my title')\nax = fig.add_subplot(111)\nax.plot([1, 2, 3])\n\nshow()"
      ]
    }
  ],
  "metadata": {
    "kernelspec": {
      "display_name": "Python 3",
      "language": "python",
      "name": "python3"
    },
    "language_info": {
      "codemirror_mode": {
        "name": "ipython",
        "version": 3
      },
      "file_extension": ".py",
      "mimetype": "text/x-python",
      "name": "python",
      "nbconvert_exporter": "python",
      "pygments_lexer": "ipython3",
      "version": "3.7.0"
    }
  },
  "nbformat": 4,
  "nbformat_minor": 0
}