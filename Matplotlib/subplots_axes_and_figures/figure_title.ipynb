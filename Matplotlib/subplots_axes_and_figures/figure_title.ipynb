{
  "cells": [
    {
      "cell_type": "code",
      "execution_count": null,
      "metadata": {
        "collapsed": false
      },
      "outputs": [],
      "source": [
        "%matplotlib inline"
      ]
    },
    {
      "cell_type": "markdown",
      "metadata": {},
      "source": [
        "\n# Figure Title\n\n\nCreate a figure with separate subplot titles and a centered figure title.\n\n"
      ]
    },
    {
      "cell_type": "code",
      "execution_count": null,
      "metadata": {
        "collapsed": false
      },
      "outputs": [],
      "source": [
        "from matplotlib.font_manager import FontProperties\nimport matplotlib.pyplot as plt\nimport numpy as np\n\n\ndef f(t):\n    s1 = np.cos(2*np.pi*t)\n    e1 = np.exp(-t)\n    return s1 * e1\n\nt1 = np.arange(0.0, 5.0, 0.1)\nt2 = np.arange(0.0, 5.0, 0.02)\nt3 = np.arange(0.0, 2.0, 0.01)\n\n\nplt.subplot(121)\nplt.plot(t1, f(t1), 'o', t2, f(t2), '-')\nplt.title('subplot 1')\nplt.ylabel('Damped oscillation')\nplt.suptitle('This is a somewhat long figure title', fontsize=16)\n\n\nplt.subplot(122)\nplt.plot(t3, np.cos(2*np.pi*t3), '--')\nplt.xlabel('time (s)')\nplt.title('subplot 2')\nplt.ylabel('Undamped')\n\nplt.subplots_adjust(left=0.2, wspace=0.8, top=0.8)\n\nplt.show()"
      ]
    }
  ],
  "metadata": {
    "kernelspec": {
      "display_name": "Python 3",
      "language": "python",
      "name": "python3"
    },
    "language_info": {
      "codemirror_mode": {
        "name": "ipython",
        "version": 3
      },
      "file_extension": ".py",
      "mimetype": "text/x-python",
      "name": "python",
      "nbconvert_exporter": "python",
      "pygments_lexer": "ipython3",
      "version": "3.7.0"
    }
  },
  "nbformat": 4,
  "nbformat_minor": 0
}