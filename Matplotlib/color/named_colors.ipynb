{
  "cells": [
    {
      "cell_type": "code",
      "execution_count": null,
      "metadata": {
        "collapsed": false
      },
      "outputs": [],
      "source": [
        "%matplotlib inline"
      ]
    },
    {
      "cell_type": "markdown",
      "metadata": {},
      "source": [
        "\n# Visualizing named colors\n\n\nSimple plot example with the named colors and its visual representation.\n\n"
      ]
    },
    {
      "cell_type": "code",
      "execution_count": null,
      "metadata": {
        "collapsed": false
      },
      "outputs": [],
      "source": [
        "from __future__ import division\n\nimport matplotlib.pyplot as plt\nfrom matplotlib import colors as mcolors\n\n\ncolors = dict(mcolors.BASE_COLORS, **mcolors.CSS4_COLORS)\n\n# Sort colors by hue, saturation, value and name.\nby_hsv = sorted((tuple(mcolors.rgb_to_hsv(mcolors.to_rgba(color)[:3])), name)\n                for name, color in colors.items())\nsorted_names = [name for hsv, name in by_hsv]\n\nn = len(sorted_names)\nncols = 4\nnrows = n // ncols + 1\n\nfig, ax = plt.subplots(figsize=(8, 5))\n\n# Get height and width\nX, Y = fig.get_dpi() * fig.get_size_inches()\nh = Y / (nrows + 1)\nw = X / ncols\n\nfor i, name in enumerate(sorted_names):\n    col = i % ncols\n    row = i // ncols\n    y = Y - (row * h) - h\n\n    xi_line = w * (col + 0.05)\n    xf_line = w * (col + 0.25)\n    xi_text = w * (col + 0.3)\n\n    ax.text(xi_text, y, name, fontsize=(h * 0.8),\n            horizontalalignment='left',\n            verticalalignment='center')\n\n    ax.hlines(y + h * 0.1, xi_line, xf_line,\n              color=colors[name], linewidth=(h * 0.6))\n\nax.set_xlim(0, X)\nax.set_ylim(0, Y)\nax.set_axis_off()\n\nfig.subplots_adjust(left=0, right=1,\n                    top=1, bottom=0,\n                    hspace=0, wspace=0)\nplt.show()"
      ]
    }
  ],
  "metadata": {
    "kernelspec": {
      "display_name": "Python 3",
      "language": "python",
      "name": "python3"
    },
    "language_info": {
      "codemirror_mode": {
        "name": "ipython",
        "version": 3
      },
      "file_extension": ".py",
      "mimetype": "text/x-python",
      "name": "python",
      "nbconvert_exporter": "python",
      "pygments_lexer": "ipython3",
      "version": "3.7.0"
    }
  },
  "nbformat": 4,
  "nbformat_minor": 0
}