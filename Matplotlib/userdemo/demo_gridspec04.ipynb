{
  "cells": [
    {
      "cell_type": "code",
      "execution_count": null,
      "metadata": {
        "collapsed": false
      },
      "outputs": [],
      "source": [
        "%matplotlib inline"
      ]
    },
    {
      "cell_type": "markdown",
      "metadata": {},
      "source": [
        "\n# Demo Gridspec04\n\n\n\n"
      ]
    },
    {
      "cell_type": "code",
      "execution_count": null,
      "metadata": {
        "collapsed": false
      },
      "outputs": [],
      "source": [
        "import matplotlib.pyplot as plt\nimport matplotlib.gridspec as gridspec\n\n\ndef make_ticklabels_invisible(fig):\n    for i, ax in enumerate(fig.axes):\n        ax.text(0.5, 0.5, \"ax%d\" % (i+1), va=\"center\", ha=\"center\")\n        ax.tick_params(labelbottom=False, labelleft=False)\n\n\n# gridspec inside gridspec\n\nf = plt.figure()\n\ngs0 = gridspec.GridSpec(1, 2)\n\ngs00 = gridspec.GridSpecFromSubplotSpec(3, 3, subplot_spec=gs0[0])\n\nax1 = plt.Subplot(f, gs00[:-1, :])\nf.add_subplot(ax1)\nax2 = plt.Subplot(f, gs00[-1, :-1])\nf.add_subplot(ax2)\nax3 = plt.Subplot(f, gs00[-1, -1])\nf.add_subplot(ax3)\n\n\ngs01 = gridspec.GridSpecFromSubplotSpec(3, 3, subplot_spec=gs0[1])\n\nax4 = plt.Subplot(f, gs01[:, :-1])\nf.add_subplot(ax4)\nax5 = plt.Subplot(f, gs01[:-1, -1])\nf.add_subplot(ax5)\nax6 = plt.Subplot(f, gs01[-1, -1])\nf.add_subplot(ax6)\n\nplt.suptitle(\"GridSpec Inside GridSpec\")\nmake_ticklabels_invisible(f)\n\nplt.show()"
      ]
    }
  ],
  "metadata": {
    "kernelspec": {
      "display_name": "Python 3",
      "language": "python",
      "name": "python3"
    },
    "language_info": {
      "codemirror_mode": {
        "name": "ipython",
        "version": 3
      },
      "file_extension": ".py",
      "mimetype": "text/x-python",
      "name": "python",
      "nbconvert_exporter": "python",
      "pygments_lexer": "ipython3",
      "version": "3.7.0"
    }
  },
  "nbformat": 4,
  "nbformat_minor": 0
}