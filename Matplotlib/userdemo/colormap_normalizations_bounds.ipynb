{
  "cells": [
    {
      "cell_type": "code",
      "execution_count": null,
      "metadata": {
        "collapsed": false
      },
      "outputs": [],
      "source": [
        "%matplotlib inline"
      ]
    },
    {
      "cell_type": "markdown",
      "metadata": {},
      "source": [
        "\n# Colormap Normalizations Bounds\n\n\nDemonstration of using norm to map colormaps onto data in non-linear ways.\n\n"
      ]
    },
    {
      "cell_type": "code",
      "execution_count": null,
      "metadata": {
        "collapsed": false
      },
      "outputs": [],
      "source": [
        "import numpy as np\nimport matplotlib.pyplot as plt\nimport matplotlib.colors as colors\nfrom matplotlib.mlab import bivariate_normal\n\nN = 100\nX, Y = np.mgrid[-3:3:complex(0, N), -2:2:complex(0, N)]\nZ1 = (bivariate_normal(X, Y, 1., 1., 1.0, 1.0))**2  \\\n    - 0.4 * (bivariate_normal(X, Y, 1.0, 1.0, -1.0, 0.0))**2\nZ1 = Z1/0.03\n\n'''\nBoundaryNorm: For this one you provide the boundaries for your colors,\nand the Norm puts the first color in between the first pair, the\nsecond color between the second pair, etc.\n'''\n\nfig, ax = plt.subplots(3, 1, figsize=(8, 8))\nax = ax.flatten()\n# even bounds gives a contour-like effect\nbounds = np.linspace(-1, 1, 10)\nnorm = colors.BoundaryNorm(boundaries=bounds, ncolors=256)\npcm = ax[0].pcolormesh(X, Y, Z1,\n                       norm=norm,\n                       cmap='RdBu_r')\nfig.colorbar(pcm, ax=ax[0], extend='both', orientation='vertical')\n\n# uneven bounds changes the colormapping:\nbounds = np.array([-0.25, -0.125, 0, 0.5, 1])\nnorm = colors.BoundaryNorm(boundaries=bounds, ncolors=256)\npcm = ax[1].pcolormesh(X, Y, Z1, norm=norm, cmap='RdBu_r')\nfig.colorbar(pcm, ax=ax[1], extend='both', orientation='vertical')\n\npcm = ax[2].pcolormesh(X, Y, Z1, cmap='RdBu_r', vmin=-np.max(Z1))\nfig.colorbar(pcm, ax=ax[2], extend='both', orientation='vertical')\n\nplt.show()"
      ]
    }
  ],
  "metadata": {
    "kernelspec": {
      "display_name": "Python 3",
      "language": "python",
      "name": "python3"
    },
    "language_info": {
      "codemirror_mode": {
        "name": "ipython",
        "version": 3
      },
      "file_extension": ".py",
      "mimetype": "text/x-python",
      "name": "python",
      "nbconvert_exporter": "python",
      "pygments_lexer": "ipython3",
      "version": "3.7.0"
    }
  },
  "nbformat": 4,
  "nbformat_minor": 0
}