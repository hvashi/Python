{
  "cells": [
    {
      "cell_type": "code",
      "execution_count": null,
      "metadata": {
        "collapsed": false
      },
      "outputs": [],
      "source": [
        "%matplotlib inline"
      ]
    },
    {
      "cell_type": "markdown",
      "metadata": {},
      "source": [
        "\n# Simple Annotate01\n\n\n\n"
      ]
    },
    {
      "cell_type": "code",
      "execution_count": null,
      "metadata": {
        "collapsed": false
      },
      "outputs": [],
      "source": [
        "import matplotlib.pyplot as plt\nimport matplotlib.patches as mpatches\n\nx1, y1 = 0.3, 0.3\nx2, y2 = 0.7, 0.7\n\nfig = plt.figure(1)\nfig.clf()\nfrom mpl_toolkits.axes_grid1.axes_grid import Grid\nfrom matplotlib.offsetbox import AnchoredText\n\nfrom matplotlib.font_manager import FontProperties\n\n\ndef add_at(ax, t, loc=2):\n    fp = dict(size=10)\n    _at = AnchoredText(t, loc=loc, prop=fp)\n    ax.add_artist(_at)\n    return _at\n\n\ngrid = Grid(fig, 111, (4, 4), label_mode=\"1\", share_all=True)\n\ngrid[0].set_autoscale_on(False)\n\nax = grid[0]\nax.plot([x1, x2], [y1, y2], \"o\")\nax.annotate(\"\",\n            xy=(x1, y1), xycoords='data',\n            xytext=(x2, y2), textcoords='data',\n            arrowprops=dict(arrowstyle=\"->\"))\n\nadd_at(ax, \"A $->$ B\", loc=2)\n\n\nax = grid[1]\nax.plot([x1, x2], [y1, y2], \"o\")\nax.annotate(\"\",\n            xy=(x1, y1), xycoords='data',\n            xytext=(x2, y2), textcoords='data',\n            arrowprops=dict(arrowstyle=\"->\", connectionstyle=\"arc3,rad=0.3\"))\n\nadd_at(ax, \"connectionstyle=arc3\", loc=2)\n\n\nax = grid[2]\nax.plot([x1, x2], [y1, y2], \"o\")\nax.annotate(\"\",\n            xy=(x1, y1), xycoords='data',\n            xytext=(x2, y2), textcoords='data',\n            arrowprops=dict(arrowstyle=\"->\", connectionstyle=\"arc3,rad=0.3\",\n                            shrinkB=5)\n            )\n\nadd_at(ax, \"shrinkB=5\", loc=2)\n\n\nax = grid[3]\nax.plot([x1, x2], [y1, y2], \"o\")\nel = mpatches.Ellipse((x1, y1), 0.3, 0.4, angle=30, alpha=0.5)\nax.add_artist(el)\nax.annotate(\"\",\n            xy=(x1, y1), xycoords='data',\n            xytext=(x2, y2), textcoords='data',\n            arrowprops=dict(arrowstyle=\"->\", connectionstyle=\"arc3,rad=0.2\")\n            )\n\n\nax = grid[4]\nax.plot([x1, x2], [y1, y2], \"o\")\nel = mpatches.Ellipse((x1, y1), 0.3, 0.4, angle=30, alpha=0.5)\nax.add_artist(el)\nax.annotate(\"\",\n            xy=(x1, y1), xycoords='data',\n            xytext=(x2, y2), textcoords='data',\n            arrowprops=dict(arrowstyle=\"->\", connectionstyle=\"arc3,rad=0.2\",\n                            patchB=el)\n            )\n\nadd_at(ax, \"patchB\", loc=2)\n\n\nax = grid[5]\nax.plot([x1], [y1], \"o\")\nax.annotate(\"Test\",\n            xy=(x1, y1), xycoords='data',\n            xytext=(x2, y2), textcoords='data',\n            ha=\"center\", va=\"center\",\n            bbox=dict(boxstyle=\"round\", fc=\"w\"),\n            arrowprops=dict(arrowstyle=\"->\")\n            )\n\nadd_at(ax, \"annotate\", loc=2)\n\n\nax = grid[6]\nax.plot([x1], [y1], \"o\")\nax.annotate(\"Test\",\n            xy=(x1, y1), xycoords='data',\n            xytext=(x2, y2), textcoords='data',\n            ha=\"center\", va=\"center\",\n            bbox=dict(boxstyle=\"round\", fc=\"w\", ),\n            arrowprops=dict(arrowstyle=\"->\", relpos=(0., 0.))\n            )\n\nadd_at(ax, \"relpos=(0,0)\", loc=2)\n\nplt.show()"
      ]
    }
  ],
  "metadata": {
    "kernelspec": {
      "display_name": "Python 3",
      "language": "python",
      "name": "python3"
    },
    "language_info": {
      "codemirror_mode": {
        "name": "ipython",
        "version": 3
      },
      "file_extension": ".py",
      "mimetype": "text/x-python",
      "name": "python",
      "nbconvert_exporter": "python",
      "pygments_lexer": "ipython3",
      "version": "3.7.0"
    }
  },
  "nbformat": 4,
  "nbformat_minor": 0
}