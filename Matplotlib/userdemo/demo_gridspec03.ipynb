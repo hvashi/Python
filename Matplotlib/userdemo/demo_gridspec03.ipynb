{
  "cells": [
    {
      "cell_type": "code",
      "execution_count": null,
      "metadata": {
        "collapsed": false
      },
      "outputs": [],
      "source": [
        "%matplotlib inline"
      ]
    },
    {
      "cell_type": "markdown",
      "metadata": {},
      "source": [
        "\n# Demo Gridspec03\n\n\n\n"
      ]
    },
    {
      "cell_type": "code",
      "execution_count": null,
      "metadata": {
        "collapsed": false
      },
      "outputs": [],
      "source": [
        "import matplotlib.pyplot as plt\nfrom matplotlib.gridspec import GridSpec\n\n\ndef make_ticklabels_invisible(fig):\n    for i, ax in enumerate(fig.axes):\n        ax.text(0.5, 0.5, \"ax%d\" % (i+1), va=\"center\", ha=\"center\")\n        ax.tick_params(labelbottom=False, labelleft=False)\n\n\n# demo 3 : gridspec with subplotpars set.\n\nfig = plt.figure()\n\nfig.suptitle(\"GridSpec w/ different subplotpars\")\n\ngs1 = GridSpec(3, 3)\ngs1.update(left=0.05, right=0.48, wspace=0.05)\nax1 = plt.subplot(gs1[:-1, :])\nax2 = plt.subplot(gs1[-1, :-1])\nax3 = plt.subplot(gs1[-1, -1])\n\ngs2 = GridSpec(3, 3)\ngs2.update(left=0.55, right=0.98, hspace=0.05)\nax4 = plt.subplot(gs2[:, :-1])\nax5 = plt.subplot(gs2[:-1, -1])\nax6 = plt.subplot(gs2[-1, -1])\n\nmake_ticklabels_invisible(fig)\n\nplt.show()"
      ]
    }
  ],
  "metadata": {
    "kernelspec": {
      "display_name": "Python 3",
      "language": "python",
      "name": "python3"
    },
    "language_info": {
      "codemirror_mode": {
        "name": "ipython",
        "version": 3
      },
      "file_extension": ".py",
      "mimetype": "text/x-python",
      "name": "python",
      "nbconvert_exporter": "python",
      "pygments_lexer": "ipython3",
      "version": "3.7.0"
    }
  },
  "nbformat": 4,
  "nbformat_minor": 0
}