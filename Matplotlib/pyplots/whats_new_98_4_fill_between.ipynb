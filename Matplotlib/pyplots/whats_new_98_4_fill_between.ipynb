{
  "cells": [
    {
      "cell_type": "code",
      "execution_count": null,
      "metadata": {
        "collapsed": false
      },
      "outputs": [],
      "source": [
        "%matplotlib inline"
      ]
    },
    {
      "cell_type": "markdown",
      "metadata": {},
      "source": [
        "\n=============================\nWhats New 0.98.4 Fill Between\n=============================\n\n\n"
      ]
    },
    {
      "cell_type": "code",
      "execution_count": null,
      "metadata": {
        "collapsed": false
      },
      "outputs": [],
      "source": [
        "import matplotlib.mlab as mlab\nimport matplotlib.pyplot as plt\nimport numpy as np\n\nx = np.arange(0.0, 2, 0.01)\ny1 = np.sin(2*np.pi*x)\ny2 = 1.2*np.sin(4*np.pi*x)\n\nfig, ax = plt.subplots()\nax.plot(x, y1, x, y2, color='black')\nax.fill_between(x, y1, y2, where=y2>y1, facecolor='green')\nax.fill_between(x, y1, y2, where=y2<=y1, facecolor='red')\nax.set_title('fill between where')\n\nplt.show()"
      ]
    }
  ],
  "metadata": {
    "kernelspec": {
      "display_name": "Python 3",
      "language": "python",
      "name": "python3"
    },
    "language_info": {
      "codemirror_mode": {
        "name": "ipython",
        "version": 3
      },
      "file_extension": ".py",
      "mimetype": "text/x-python",
      "name": "python",
      "nbconvert_exporter": "python",
      "pygments_lexer": "ipython3",
      "version": "3.7.0"
    }
  },
  "nbformat": 4,
  "nbformat_minor": 0
}