{
  "cells": [
    {
      "cell_type": "code",
      "execution_count": null,
      "metadata": {
        "collapsed": false
      },
      "outputs": [],
      "source": [
        "%matplotlib inline"
      ]
    },
    {
      "cell_type": "markdown",
      "metadata": {},
      "source": [
        "\n# Fig Axes Labels Simple\n\n\n\n"
      ]
    },
    {
      "cell_type": "code",
      "execution_count": null,
      "metadata": {
        "collapsed": false
      },
      "outputs": [],
      "source": [
        "import numpy as np\nimport matplotlib.pyplot as plt\n\nfig = plt.figure()\nfig.subplots_adjust(top=0.8)\nax1 = fig.add_subplot(211)\nax1.set_ylabel('volts')\nax1.set_title('a sine wave')\n\nt = np.arange(0.0, 1.0, 0.01)\ns = np.sin(2*np.pi*t)\nline, = ax1.plot(t, s, color='blue', lw=2)\n\n# Fixing random state for reproducibility\nnp.random.seed(19680801)\n\nax2 = fig.add_axes([0.15, 0.1, 0.7, 0.3])\nn, bins, patches = ax2.hist(np.random.randn(1000), 50,\n    facecolor='yellow', edgecolor='yellow')\nax2.set_xlabel('time (s)')\n\nplt.show()"
      ]
    }
  ],
  "metadata": {
    "kernelspec": {
      "display_name": "Python 3",
      "language": "python",
      "name": "python3"
    },
    "language_info": {
      "codemirror_mode": {
        "name": "ipython",
        "version": 3
      },
      "file_extension": ".py",
      "mimetype": "text/x-python",
      "name": "python",
      "nbconvert_exporter": "python",
      "pygments_lexer": "ipython3",
      "version": "3.7.0"
    }
  },
  "nbformat": 4,
  "nbformat_minor": 0
}