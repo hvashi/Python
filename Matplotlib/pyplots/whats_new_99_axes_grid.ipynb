{
  "cells": [
    {
      "cell_type": "code",
      "execution_count": null,
      "metadata": {
        "collapsed": false
      },
      "outputs": [],
      "source": [
        "%matplotlib inline"
      ]
    },
    {
      "cell_type": "markdown",
      "metadata": {},
      "source": [
        "\n========================\nWhats New 0.99 Axes Grid\n========================\n\n\n"
      ]
    },
    {
      "cell_type": "code",
      "execution_count": null,
      "metadata": {
        "collapsed": false
      },
      "outputs": [],
      "source": [
        "import numpy as np\nimport matplotlib.pyplot as plt\nfrom mpl_toolkits.axes_grid1.axes_rgb import RGBAxes\n\ndef get_demo_image():\n    # prepare image\n    delta = 0.5\n\n    extent = (-3,4,-4,3)\n    x = np.arange(-3.0, 4.001, delta)\n    y = np.arange(-4.0, 3.001, delta)\n    X, Y = np.meshgrid(x, y)\n    import matplotlib.mlab as mlab\n    Z1 = mlab.bivariate_normal(X, Y, 1.0, 1.0, 0.0, 0.0)\n    Z2 = mlab.bivariate_normal(X, Y, 1.5, 0.5, 1, 1)\n    Z = (Z1 - Z2) * 10\n\n    return Z, extent\n\n\n\ndef get_rgb():\n    Z, extent = get_demo_image()\n\n    Z[Z<0] = 0.\n    Z = Z/Z.max()\n\n    R = Z[:13,:13]\n    G = Z[2:,2:]\n    B = Z[:13,2:]\n\n    return R, G, B\n\n\nfig = plt.figure(1)\nax = RGBAxes(fig, [0.1, 0.1, 0.8, 0.8])\n\nr, g, b = get_rgb()\nkwargs = dict(origin=\"lower\", interpolation=\"nearest\")\nax.imshow_rgb(r, g, b, **kwargs)\n\nax.RGB.set_xlim(0., 9.5)\nax.RGB.set_ylim(0.9, 10.6)\n\n\nplt.draw()\nplt.show()"
      ]
    }
  ],
  "metadata": {
    "kernelspec": {
      "display_name": "Python 3",
      "language": "python",
      "name": "python3"
    },
    "language_info": {
      "codemirror_mode": {
        "name": "ipython",
        "version": 3
      },
      "file_extension": ".py",
      "mimetype": "text/x-python",
      "name": "python",
      "nbconvert_exporter": "python",
      "pygments_lexer": "ipython3",
      "version": "3.7.0"
    }
  },
  "nbformat": 4,
  "nbformat_minor": 0
}