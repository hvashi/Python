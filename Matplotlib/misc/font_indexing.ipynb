{
  "cells": [
    {
      "cell_type": "code",
      "execution_count": null,
      "metadata": {
        "collapsed": false
      },
      "outputs": [],
      "source": [
        "%matplotlib inline"
      ]
    },
    {
      "cell_type": "markdown",
      "metadata": {},
      "source": [
        "\n# Font Indexing\n\n\nA little example that shows how the various indexing into the font\ntables relate to one another.  Mainly for mpl developers....\n\n\n"
      ]
    },
    {
      "cell_type": "code",
      "execution_count": null,
      "metadata": {
        "collapsed": false
      },
      "outputs": [],
      "source": [
        "from __future__ import print_function\nimport matplotlib\nfrom matplotlib.ft2font import FT2Font, KERNING_DEFAULT, KERNING_UNFITTED, KERNING_UNSCALED\n\n\n#fname = '/usr/share/fonts/sfd/FreeSans.ttf'\nfname = matplotlib.get_data_path() + '/fonts/ttf/DejaVuSans.ttf'\nfont = FT2Font(fname)\nfont.set_charmap(0)\n\ncodes = font.get_charmap().items()\n#dsu = [(ccode, glyphind) for ccode, glyphind in codes]\n#dsu.sort()\n#for ccode, glyphind in dsu:\n#    try: name = font.get_glyph_name(glyphind)\n#    except RuntimeError: pass\n#    else: print('% 4d % 4d %s %s' % (glyphind, ccode, hex(int(ccode)), name))\n\n\n# make a charname to charcode and glyphind dictionary\ncoded = {}\nglyphd = {}\nfor ccode, glyphind in codes:\n    name = font.get_glyph_name(glyphind)\n    coded[name] = ccode\n    glyphd[name] = glyphind\n\ncode = coded['A']\nglyph = font.load_char(code)\n#print(glyph.bbox)\nprint(glyphd['A'], glyphd['V'], coded['A'], coded['V'])\nprint('AV', font.get_kerning(glyphd['A'], glyphd['V'], KERNING_DEFAULT))\nprint('AV', font.get_kerning(glyphd['A'], glyphd['V'], KERNING_UNFITTED))\nprint('AV', font.get_kerning(glyphd['A'], glyphd['V'], KERNING_UNSCALED))\nprint('AV', font.get_kerning(glyphd['A'], glyphd['T'], KERNING_UNSCALED))"
      ]
    }
  ],
  "metadata": {
    "kernelspec": {
      "display_name": "Python 3",
      "language": "python",
      "name": "python3"
    },
    "language_info": {
      "codemirror_mode": {
        "name": "ipython",
        "version": 3
      },
      "file_extension": ".py",
      "mimetype": "text/x-python",
      "name": "python",
      "nbconvert_exporter": "python",
      "pygments_lexer": "ipython3",
      "version": "3.7.0"
    }
  },
  "nbformat": 4,
  "nbformat_minor": 0
}