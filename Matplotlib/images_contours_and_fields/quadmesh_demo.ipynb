{
  "cells": [
    {
      "cell_type": "code",
      "execution_count": null,
      "metadata": {
        "collapsed": false
      },
      "outputs": [],
      "source": [
        "%matplotlib inline"
      ]
    },
    {
      "cell_type": "markdown",
      "metadata": {},
      "source": [
        "\n# QuadMesh Demo\n\n\npcolormesh uses a QuadMesh, a faster generalization of pcolor, but\nwith some restrictions.\n\nThis demo illustrates a bug in quadmesh with masked data.\n\n"
      ]
    },
    {
      "cell_type": "code",
      "execution_count": null,
      "metadata": {
        "collapsed": false
      },
      "outputs": [],
      "source": [
        "import numpy as np\nfrom matplotlib.pyplot import figure, show, savefig\nfrom matplotlib import cm, colors\nfrom numpy import ma\n\nn = 12\nx = np.linspace(-1.5, 1.5, n)\ny = np.linspace(-1.5, 1.5, n * 2)\nX, Y = np.meshgrid(x, y)\nQx = np.cos(Y) - np.cos(X)\nQz = np.sin(Y) + np.sin(X)\nQx = (Qx + 1.1)\nZ = np.sqrt(X**2 + Y**2) / 5\nZ = (Z - Z.min()) / (Z.max() - Z.min())\n\n# The color array can include masked values:\nZm = ma.masked_where(np.abs(Qz) < 0.5 * np.max(Qz), Z)\n\nfig = figure()\nax = fig.add_subplot(121)\nax.pcolormesh(Qx, Qz, Z, shading='gouraud')\nax.set_title('Without masked values')\n\nax = fig.add_subplot(122)\n#  You can control the color of the masked region:\n# cmap = cm.RdBu\n# cmap.set_bad('y', 1.0)\n# ax.pcolormesh(Qx, Qz, Zm, cmap=cmap)\n#  Or use the default, which is transparent:\ncol = ax.pcolormesh(Qx, Qz, Zm, shading='gouraud')\nax.set_title('With masked values')\n\n\nshow()"
      ]
    }
  ],
  "metadata": {
    "kernelspec": {
      "display_name": "Python 3",
      "language": "python",
      "name": "python3"
    },
    "language_info": {
      "codemirror_mode": {
        "name": "ipython",
        "version": 3
      },
      "file_extension": ".py",
      "mimetype": "text/x-python",
      "name": "python",
      "nbconvert_exporter": "python",
      "pygments_lexer": "ipython3",
      "version": "3.7.0"
    }
  },
  "nbformat": 4,
  "nbformat_minor": 0
}