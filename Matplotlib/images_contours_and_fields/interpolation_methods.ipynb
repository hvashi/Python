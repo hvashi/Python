{
  "cells": [
    {
      "cell_type": "code",
      "execution_count": null,
      "metadata": {
        "collapsed": false
      },
      "outputs": [],
      "source": [
        "%matplotlib inline"
      ]
    },
    {
      "cell_type": "markdown",
      "metadata": {},
      "source": [
        "\n=================================\nInterpolations for imshow/matshow\n=================================\n\nThis example displays the difference between interpolation methods for imshow\nand matshow.\n\nIf `interpolation` is None, it defaults to the rc image.interpolation\nparameter. If the interpolation is `none`, then no interpolation is performed\nfor the Agg, ps and pdf backends. Other backends will default to 'nearest'.\n\nFor the Agg, ps and pdf backends, interpolation = 'none' works well when a big\nimage is scaled down, while interpolation = 'nearest' works well when a small\nimage is scaled up.\n\n"
      ]
    },
    {
      "cell_type": "code",
      "execution_count": null,
      "metadata": {
        "collapsed": false
      },
      "outputs": [],
      "source": [
        "import matplotlib.pyplot as plt\nimport numpy as np\n\nmethods = [None, 'none', 'nearest', 'bilinear', 'bicubic', 'spline16',\n           'spline36', 'hanning', 'hamming', 'hermite', 'kaiser', 'quadric',\n           'catrom', 'gaussian', 'bessel', 'mitchell', 'sinc', 'lanczos']\n\n# Fixing random state for reproducibility\nnp.random.seed(19680801)\n\ngrid = np.random.rand(4, 4)\n\nfig, axes = plt.subplots(3, 6, figsize=(12, 6),\n                         subplot_kw={'xticks': [], 'yticks': []})\n\nfig.subplots_adjust(hspace=0.3, wspace=0.05)\n\nfor ax, interp_method in zip(axes.flat, methods):\n    ax.imshow(grid, interpolation=interp_method, cmap='viridis')\n    ax.set_title(interp_method)\n\nplt.show()"
      ]
    }
  ],
  "metadata": {
    "kernelspec": {
      "display_name": "Python 3",
      "language": "python",
      "name": "python3"
    },
    "language_info": {
      "codemirror_mode": {
        "name": "ipython",
        "version": 3
      },
      "file_extension": ".py",
      "mimetype": "text/x-python",
      "name": "python",
      "nbconvert_exporter": "python",
      "pygments_lexer": "ipython3",
      "version": "3.7.0"
    }
  },
  "nbformat": 4,
  "nbformat_minor": 0
}