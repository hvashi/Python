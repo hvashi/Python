{
  "cells": [
    {
      "cell_type": "code",
      "execution_count": null,
      "metadata": {
        "collapsed": false
      },
      "outputs": [],
      "source": [
        "%matplotlib inline"
      ]
    },
    {
      "cell_type": "markdown",
      "metadata": {},
      "source": [
        "\n# Errorbar Limits\n\n\nIllustration of upper and lower limit symbols on errorbars\n\n"
      ]
    },
    {
      "cell_type": "code",
      "execution_count": null,
      "metadata": {
        "collapsed": false
      },
      "outputs": [],
      "source": [
        "import numpy as np\nimport matplotlib.pyplot as plt"
      ]
    },
    {
      "cell_type": "code",
      "execution_count": null,
      "metadata": {
        "collapsed": false
      },
      "outputs": [],
      "source": [
        "fig = plt.figure(0)\nx = np.arange(10.0)\ny = np.sin(np.arange(10.0) / 20.0 * np.pi)\n\nplt.errorbar(x, y, yerr=0.1)\n\ny = np.sin(np.arange(10.0) / 20.0 * np.pi) + 1\nplt.errorbar(x, y, yerr=0.1, uplims=True)\n\ny = np.sin(np.arange(10.0) / 20.0 * np.pi) + 2\nupperlimits = np.array([1, 0] * 5)\nlowerlimits = np.array([0, 1] * 5)\nplt.errorbar(x, y, yerr=0.1, uplims=upperlimits, lolims=lowerlimits)\n\nplt.xlim(-1, 10)"
      ]
    },
    {
      "cell_type": "code",
      "execution_count": null,
      "metadata": {
        "collapsed": false
      },
      "outputs": [],
      "source": [
        "fig = plt.figure(1)\nx = np.arange(10.0) / 10.0\ny = (x + 0.1)**2\n\nplt.errorbar(x, y, xerr=0.1, xlolims=True)\ny = (x + 0.1)**3\n\nplt.errorbar(x + 0.6, y, xerr=0.1, xuplims=upperlimits, xlolims=lowerlimits)\n\ny = (x + 0.1)**4\nplt.errorbar(x + 1.2, y, xerr=0.1, xuplims=True)\n\nplt.xlim(-0.2, 2.4)\nplt.ylim(-0.1, 1.3)\n\nplt.show()"
      ]
    }
  ],
  "metadata": {
    "kernelspec": {
      "display_name": "Python 3",
      "language": "python",
      "name": "python3"
    },
    "language_info": {
      "codemirror_mode": {
        "name": "ipython",
        "version": 3
      },
      "file_extension": ".py",
      "mimetype": "text/x-python",
      "name": "python",
      "nbconvert_exporter": "python",
      "pygments_lexer": "ipython3",
      "version": "3.7.0"
    }
  },
  "nbformat": 4,
  "nbformat_minor": 0
}