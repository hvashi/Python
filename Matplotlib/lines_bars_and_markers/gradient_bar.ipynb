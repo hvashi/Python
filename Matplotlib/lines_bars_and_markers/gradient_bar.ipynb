{
  "cells": [
    {
      "cell_type": "code",
      "execution_count": null,
      "metadata": {
        "collapsed": false
      },
      "outputs": [],
      "source": [
        "%matplotlib inline"
      ]
    },
    {
      "cell_type": "markdown",
      "metadata": {},
      "source": [
        "\n# Gradient Bar\n\n\n\n"
      ]
    },
    {
      "cell_type": "code",
      "execution_count": null,
      "metadata": {
        "collapsed": false
      },
      "outputs": [],
      "source": [
        "import matplotlib.pyplot as plt\nfrom numpy import arange\nfrom numpy.random import rand\n\n\ndef gbar(ax, x, y, width=0.5, bottom=0):\n    X = [[.6, .6], [.7, .7]]\n    for left, top in zip(x, y):\n        right = left + width\n        ax.imshow(X, interpolation='bicubic', cmap=plt.cm.Blues,\n                  extent=(left, right, bottom, top), alpha=1)\n\n\nfig = plt.figure()\n\nxmin, xmax = xlim = 0, 10\nymin, ymax = ylim = 0, 1\nax = fig.add_subplot(111, xlim=xlim, ylim=ylim,\n                     autoscale_on=False)\nX = [[.6, .6], [.7, .7]]\n\nax.imshow(X, interpolation='bicubic', cmap=plt.cm.copper,\n          extent=(xmin, xmax, ymin, ymax), alpha=1)\n\nN = 10\nx = arange(N) + 0.25\ny = rand(N)\ngbar(ax, x, y, width=0.7)\nax.set_aspect('auto')\nplt.show()"
      ]
    }
  ],
  "metadata": {
    "kernelspec": {
      "display_name": "Python 3",
      "language": "python",
      "name": "python3"
    },
    "language_info": {
      "codemirror_mode": {
        "name": "ipython",
        "version": 3
      },
      "file_extension": ".py",
      "mimetype": "text/x-python",
      "name": "python",
      "nbconvert_exporter": "python",
      "pygments_lexer": "ipython3",
      "version": "3.7.0"
    }
  },
  "nbformat": 4,
  "nbformat_minor": 0
}