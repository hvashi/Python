{
  "cells": [
    {
      "cell_type": "code",
      "execution_count": null,
      "metadata": {
        "collapsed": false
      },
      "outputs": [],
      "source": [
        "%matplotlib inline"
      ]
    },
    {
      "cell_type": "markdown",
      "metadata": {},
      "source": [
        "\n# Errorbar Subsample\n\n\nDemo for the errorevery keyword to show data full accuracy data plots with\nfew errorbars.\n\n"
      ]
    },
    {
      "cell_type": "code",
      "execution_count": null,
      "metadata": {
        "collapsed": false
      },
      "outputs": [],
      "source": [
        "import numpy as np\nimport matplotlib.pyplot as plt\n\n# example data\nx = np.arange(0.1, 4, 0.1)\ny = np.exp(-x)\n\n# example variable error bar values\nyerr = 0.1 + 0.1 * np.sqrt(x)\n\n\n# Now switch to a more OO interface to exercise more features.\nfig, axs = plt.subplots(nrows=1, ncols=2, sharex=True)\nax = axs[0]\nax.errorbar(x, y, yerr=yerr)\nax.set_title('all errorbars')\n\nax = axs[1]\nax.errorbar(x, y, yerr=yerr, errorevery=5)\nax.set_title('only every 5th errorbar')\n\n\nfig.suptitle('Errorbar subsampling for better appearance')\n\nplt.show()"
      ]
    }
  ],
  "metadata": {
    "kernelspec": {
      "display_name": "Python 3",
      "language": "python",
      "name": "python3"
    },
    "language_info": {
      "codemirror_mode": {
        "name": "ipython",
        "version": 3
      },
      "file_extension": ".py",
      "mimetype": "text/x-python",
      "name": "python",
      "nbconvert_exporter": "python",
      "pygments_lexer": "ipython3",
      "version": "3.7.0"
    }
  },
  "nbformat": 4,
  "nbformat_minor": 0
}