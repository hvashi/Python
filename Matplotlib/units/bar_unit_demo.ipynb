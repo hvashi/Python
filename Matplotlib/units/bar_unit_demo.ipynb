{
  "cells": [
    {
      "cell_type": "code",
      "execution_count": null,
      "metadata": {
        "collapsed": false
      },
      "outputs": [],
      "source": [
        "%matplotlib inline"
      ]
    },
    {
      "cell_type": "markdown",
      "metadata": {},
      "source": [
        "\n# Group barchart with units\n\n\nThis is the same example as :doc:`the barchart demo<../api/barchart>`\nin centimeters.\n\n.. only:: builder_html\n\n   This example requires :download:`basic_units.py <basic_units.py>`\n\n"
      ]
    },
    {
      "cell_type": "code",
      "execution_count": null,
      "metadata": {
        "collapsed": false
      },
      "outputs": [],
      "source": [
        "import numpy as np\nfrom basic_units import cm, inch\nimport matplotlib.pyplot as plt\n\n\nN = 5\nmenMeans = (150*cm, 160*cm, 146*cm, 172*cm, 155*cm)\nmenStd = (20*cm, 30*cm, 32*cm, 10*cm, 20*cm)\n\nfig, ax = plt.subplots()\n\nind = np.arange(N)    # the x locations for the groups\nwidth = 0.35         # the width of the bars\np1 = ax.bar(ind, menMeans, width, color='r', bottom=0*cm, yerr=menStd)\n\n\nwomenMeans = (145*cm, 149*cm, 172*cm, 165*cm, 200*cm)\nwomenStd = (30*cm, 25*cm, 20*cm, 31*cm, 22*cm)\np2 = ax.bar(ind + width, womenMeans, width,\n            color='y', bottom=0*cm, yerr=womenStd)\n\nax.set_title('Scores by group and gender')\nax.set_xticks(ind + width / 2)\nax.set_xticklabels(('G1', 'G2', 'G3', 'G4', 'G5'))\n\nax.legend((p1[0], p2[0]), ('Men', 'Women'))\nax.yaxis.set_units(inch)\nax.autoscale_view()\n\nplt.show()"
      ]
    }
  ],
  "metadata": {
    "kernelspec": {
      "display_name": "Python 3",
      "language": "python",
      "name": "python3"
    },
    "language_info": {
      "codemirror_mode": {
        "name": "ipython",
        "version": 3
      },
      "file_extension": ".py",
      "mimetype": "text/x-python",
      "name": "python",
      "nbconvert_exporter": "python",
      "pygments_lexer": "ipython3",
      "version": "3.7.0"
    }
  },
  "nbformat": 4,
  "nbformat_minor": 0
}