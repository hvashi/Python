{
  "cells": [
    {
      "cell_type": "code",
      "execution_count": null,
      "metadata": {
        "collapsed": false
      },
      "outputs": [],
      "source": [
        "%matplotlib inline"
      ]
    },
    {
      "cell_type": "markdown",
      "metadata": {},
      "source": [
        "\n# Radian ticks\n\n\nPlot with radians from the basic_units mockup example package.\n\n\nThis example shows how the unit class can determine the tick locating,\nformatting and axis labeling.\n\n.. only:: builder_html\n\n   This example requires :download:`basic_units.py <basic_units.py>`\n\n"
      ]
    },
    {
      "cell_type": "code",
      "execution_count": null,
      "metadata": {
        "collapsed": false
      },
      "outputs": [],
      "source": [
        "import numpy as np\nfrom basic_units import radians, degrees, cos\nfrom matplotlib.pyplot import figure, show\n\nx = [val*radians for val in np.arange(0, 15, 0.01)]\n\nfig = figure()\nfig.subplots_adjust(hspace=0.3)\n\nax = fig.add_subplot(211)\nline1, = ax.plot(x, cos(x), xunits=radians)\n\nax = fig.add_subplot(212)\nline2, = ax.plot(x, cos(x), xunits=degrees)\n\nshow()"
      ]
    }
  ],
  "metadata": {
    "kernelspec": {
      "display_name": "Python 3",
      "language": "python",
      "name": "python3"
    },
    "language_info": {
      "codemirror_mode": {
        "name": "ipython",
        "version": 3
      },
      "file_extension": ".py",
      "mimetype": "text/x-python",
      "name": "python",
      "nbconvert_exporter": "python",
      "pygments_lexer": "ipython3",
      "version": "3.7.0"
    }
  },
  "nbformat": 4,
  "nbformat_minor": 0
}